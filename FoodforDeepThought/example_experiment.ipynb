{
 "cells": [
  {
   "cell_type": "code",
   "execution_count": 1,
   "id": "42779f11-9c83-453f-b49f-0410a5a0d32c",
   "metadata": {},
   "outputs": [],
   "source": [
    "import os\n",
    "import torch\n",
    "from torch import nn, optim\n",
    "from src.datasets.cifar10 import Cifar10Loader\n",
    "from src.models.resnet18 import ResNet18\n",
    "from src.model_managers.standard_model_manager import StandardModelManager"
   ]
  },
  {
   "cell_type": "code",
   "execution_count": 2,
   "id": "02615b9e-af01-4d6d-8b26-9313620181ba",
   "metadata": {},
   "outputs": [
    {
     "name": "stdout",
     "output_type": "stream",
     "text": [
      "Files already downloaded and verified\n",
      "Files already downloaded and verified\n",
      "Epoch 1 Batch Training Accuracy: 0.1406\n",
      "Epoch 1 Batch Training Accuracy: 0.1250\n",
      "Epoch 1 Batch Training Accuracy: 0.2031\n",
      "Epoch 1 Batch Training Accuracy: 0.1641\n",
      "Epoch 1 Batch Training Accuracy: 0.2969\n",
      "Epoch 1 Batch Training Accuracy: 0.2969\n",
      "Epoch 1 Batch Training Accuracy: 0.3672\n",
      "Epoch 1 Batch Training Accuracy: 0.3594\n",
      "Epoch 1 Batch Training Accuracy: 0.2969\n",
      "Epoch 1 Batch Training Accuracy: 0.3438\n",
      "Epoch 1 Batch Training Accuracy: 0.2812\n",
      "Epoch 1 Batch Training Accuracy: 0.3359\n",
      "Epoch 1 Batch Training Accuracy: 0.4531\n",
      "Epoch 1 Batch Training Accuracy: 0.4062\n",
      "Epoch 1 Batch Training Accuracy: 0.5078\n",
      "Epoch 1 Batch Training Accuracy: 0.4766\n",
      "Epoch 1 Batch Training Accuracy: 0.3906\n",
      "Epoch 1 Batch Training Accuracy: 0.3672\n",
      "Epoch 1 Batch Training Accuracy: 0.4453\n",
      "Epoch 1 Batch Training Accuracy: 0.4766\n",
      "Epoch 1 Batch Training Accuracy: 0.4453\n",
      "Epoch 1 Batch Training Accuracy: 0.4297\n",
      "Epoch 1 Batch Training Accuracy: 0.3984\n",
      "Epoch 1 Batch Training Accuracy: 0.4297\n",
      "Epoch 1 Batch Training Accuracy: 0.4766\n",
      "Epoch 1 Batch Training Accuracy: 0.4688\n",
      "Epoch 1 Batch Training Accuracy: 0.4297\n",
      "Epoch 1 Batch Training Accuracy: 0.4688\n",
      "Epoch 1 Batch Training Accuracy: 0.4531\n",
      "Epoch 1 Batch Training Accuracy: 0.4922\n",
      "Epoch 1 Batch Training Accuracy: 0.4766\n",
      "Epoch 1 Batch Training Accuracy: 0.4609\n",
      "Epoch 1 Batch Validation Accuracy: 0.4609\n",
      "===========================================================\n",
      "Epoch 2 Batch Training Accuracy: 0.5234\n",
      "Epoch 2 Batch Training Accuracy: 0.6016\n",
      "Epoch 2 Batch Training Accuracy: 0.5078\n",
      "Epoch 2 Batch Training Accuracy: 0.5078\n",
      "Epoch 2 Batch Training Accuracy: 0.4297\n",
      "Epoch 2 Batch Training Accuracy: 0.4688\n",
      "Epoch 2 Batch Training Accuracy: 0.4141\n",
      "Epoch 2 Batch Training Accuracy: 0.4766\n",
      "Epoch 2 Batch Training Accuracy: 0.4922\n",
      "Epoch 2 Batch Training Accuracy: 0.4922\n",
      "Epoch 2 Batch Training Accuracy: 0.5156\n",
      "Epoch 2 Batch Training Accuracy: 0.4922\n",
      "Epoch 2 Batch Training Accuracy: 0.5000\n",
      "Epoch 2 Batch Training Accuracy: 0.4531\n",
      "Epoch 2 Batch Training Accuracy: 0.5938\n",
      "Epoch 2 Batch Training Accuracy: 0.5469\n",
      "Epoch 2 Batch Training Accuracy: 0.5078\n",
      "Epoch 2 Batch Training Accuracy: 0.4453\n",
      "Epoch 2 Batch Training Accuracy: 0.5469\n",
      "Epoch 2 Batch Training Accuracy: 0.4375\n",
      "Epoch 2 Batch Training Accuracy: 0.5547\n",
      "Epoch 2 Batch Training Accuracy: 0.5469\n",
      "Epoch 2 Batch Training Accuracy: 0.5078\n",
      "Epoch 2 Batch Training Accuracy: 0.4688\n",
      "Epoch 2 Batch Training Accuracy: 0.4766\n",
      "Epoch 2 Batch Training Accuracy: 0.5391\n",
      "Epoch 2 Batch Training Accuracy: 0.5938\n",
      "Epoch 2 Batch Training Accuracy: 0.6016\n",
      "Epoch 2 Batch Training Accuracy: 0.5312\n",
      "Epoch 2 Batch Training Accuracy: 0.5703\n",
      "Epoch 2 Batch Training Accuracy: 0.5703\n",
      "Epoch 2 Batch Training Accuracy: 0.5312\n",
      "Epoch 2 Batch Validation Accuracy: 0.5118\n",
      "===========================================================\n"
     ]
    }
   ],
   "source": [
    "model = ResNet18(num_classes=10)\n",
    "criterion = nn.CrossEntropyLoss()\n",
    "optimizer = optim.SGD(model.parameters(), lr=0.001, momentum=0.9)\n",
    "\n",
    "model_manager = StandardModelManager(model, criterion, optimizer)\n",
    "\n",
    "dataset = Cifar10Loader()\n",
    "training_data = dataset.getTrainingData()\n",
    "validation_data = dataset.getValidationData()\n",
    "\n",
    "model_manager.train(training_data, validation_data, epochs=2)"
   ]
  },
  {
   "cell_type": "code",
   "execution_count": null,
   "id": "a6cbd919-ba2a-4ef8-9d50-4b696e62b415",
   "metadata": {},
   "outputs": [],
   "source": []
  }
 ],
 "metadata": {
  "kernelspec": {
   "display_name": "Python 3 (ipykernel)",
   "language": "python",
   "name": "python3"
  },
  "language_info": {
   "codemirror_mode": {
    "name": "ipython",
    "version": 3
   },
   "file_extension": ".py",
   "mimetype": "text/x-python",
   "name": "python",
   "nbconvert_exporter": "python",
   "pygments_lexer": "ipython3",
   "version": "3.9.20"
  }
 },
 "nbformat": 4,
 "nbformat_minor": 5
}
