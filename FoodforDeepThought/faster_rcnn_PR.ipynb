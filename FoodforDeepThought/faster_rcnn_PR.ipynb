{
 "cells": [
  {
   "cell_type": "code",
   "execution_count": 1,
   "metadata": {
    "colab": {
     "base_uri": "https://localhost:8080/"
    },
    "collapsed": true,
    "executionInfo": {
     "elapsed": 3678,
     "status": "ok",
     "timestamp": 1733852555991,
     "user": {
      "displayName": "Scott Schmidl",
      "userId": "07500865660181256076"
     },
     "user_tz": 360
    },
    "id": "OLE73T11EpzF",
    "outputId": "3e744b7c-ce06-4a20-8d0f-09239d94db6f"
   },
   "outputs": [],
   "source": [
    "# # Mount into drive\n",
    "\n",
    "# from google.colab import drive\n",
    "\n",
    "# drive.mount(\"/content/drive\")\n",
    "\n",
    "# %cd '/content/drive/MyDrive/ColabNotebooks/gt_omscs_ml/deep_learning/Convolutionalists/FoodforDeepThought'\n",
    "\n",
    "# !pip install -q condacolab\n",
    "# import condacolab\n",
    "# condacolab.install()"
   ]
  },
  {
   "cell_type": "code",
   "execution_count": 2,
   "metadata": {
    "colab": {
     "base_uri": "https://localhost:8080/"
    },
    "collapsed": true,
    "executionInfo": {
     "elapsed": 86314,
     "status": "ok",
     "timestamp": 1733852642303,
     "user": {
      "displayName": "Scott Schmidl",
      "userId": "07500865660181256076"
     },
     "user_tz": 360
    },
    "id": "WNpfiZpWU9cJ",
    "outputId": "5be1deee-5782-4854-fff4-eb69501f5fa6"
   },
   "outputs": [],
   "source": [
    "# !conda install pip pytorch=2.5.1 torchvision=0.20.1 jupyter ipykernel torchmetrics"
   ]
  },
  {
   "cell_type": "code",
   "execution_count": 3,
   "metadata": {
    "colab": {
     "base_uri": "https://localhost:8080/"
    },
    "collapsed": true,
    "executionInfo": {
     "elapsed": 2980,
     "status": "ok",
     "timestamp": 1733852645278,
     "user": {
      "displayName": "Scott Schmidl",
      "userId": "07500865660181256076"
     },
     "user_tz": 360
    },
    "id": "Iqo-K4bMVI6N",
    "outputId": "62004489-8909-4195-8c82-29b2cc6f0bbb"
   },
   "outputs": [],
   "source": [
    "# !pip install openimages ultralytics==8.3.40 opencv-python matplotlib Pillow requests scipy tqdm pandas seaborn tensorboard torchmetrics[detection] transformers==4.46.3"
   ]
  },
  {
   "cell_type": "code",
   "execution_count": 8,
   "metadata": {
    "colab": {
     "base_uri": "https://localhost:8080/"
    },
    "collapsed": true,
    "executionInfo": {
     "elapsed": 272,
     "status": "ok",
     "timestamp": 1733856742536,
     "user": {
      "displayName": "Scott Schmidl",
      "userId": "07500865660181256076"
     },
     "user_tz": 360
    },
    "id": "aEL9vgidEmIV",
    "outputId": "6048dff4-5f27-4d61-d4ad-7b758a09dff8"
   },
   "outputs": [
    {
     "name": "stdout",
     "output_type": "stream",
     "text": [
      "Device being used: cuda\n"
     ]
    }
   ],
   "source": [
    "# utils\n",
    "from src.model_managers.standard_model_manager import (StandardModelManager)\n",
    "from tqdm import tqdm, tqdm_notebook\n",
    "import matplotlib.pyplot as plt\n",
    "import pandas as pd\n",
    "import numpy as np\n",
    "import time\n",
    "import os\n",
    "import random\n",
    "import shutil\n",
    "import pickle\n",
    "\n",
    "# torch\n",
    "from torchvision.models.detection.faster_rcnn import FastRCNNPredictor\n",
    "from torchvision.models.detection import (fasterrcnn_resnet50_fpn_v2,\n",
    "                                         fasterrcnn_resnet50_fpn)\n",
    "from torchvision.models.detection import FasterRCNN_ResNet50_FPN_V2_Weights\n",
    "from torchmetrics.detection.mean_ap import MeanAveragePrecision\n",
    "from torch.utils.data.sampler import SubsetRandomSampler\n",
    "import torchvision.transforms as transforms\n",
    "from torchvision.transforms import v2\n",
    "from torchvision import tv_tensors\n",
    "import torch.optim as optim\n",
    "import torch.nn as nn\n",
    "import torchvision\n",
    "import torch\n",
    "import copy\n",
    "\n",
    "# transfomers\n",
    "from transformers import BertTokenizer, BertForQuestionAnswering\n",
    "from transformers import AutoTokenizer, AutoModelForCausalLM\n",
    "from transformers import GPT2LMHeadModel, GPT2Tokenizer\n",
    "\n",
    "from torch.utils.data import DataLoader\n",
    "from PIL import Image\n",
    "from torchvision import tv_tensors\n",
    "from torchvision.transforms.v2 import Resize\n",
    "from torchvision.ops import box_convert\n",
    "\n",
    "\n",
    "# load data\n",
    "from src.dataset_loaders.download_openimages import OpenImagesLoader\n",
    "\n",
    "# set device\n",
    "device = 'cpu'\n",
    "if torch.cuda.is_available():\n",
    "    device = 'cuda'\n",
    "elif torch.backends.mps.is_available():\n",
    "    device = 'mps'\n",
    "\n",
    "print(f\"Device being used: {device}\")"
   ]
  },
  {
   "cell_type": "code",
   "execution_count": 5,
   "metadata": {},
   "outputs": [],
   "source": [
    "class FRCNNDatasetProcessor():\n",
    "\n",
    "    def __init__(self, random_seed = 101, batch_size = 128, perc_keep = 1.0, num_images_per_class=500):\n",
    "        self.data_dir = os.path.join(\"data\", \"openimages\")  # Directory in which dataset resides\n",
    "        self.random_seed = random_seed\n",
    "        self.batch_size = batch_size\n",
    "        self.perc_keep = perc_keep  # Percentage of dataset to be kept (number between 0 and 1)\n",
    "        self.num_images_per_class = num_images_per_class\n",
    "\n",
    "        self.transforms_all = transforms.Compose(\n",
    "            [\n",
    "                Resize((512, 512)),\n",
    "            ]\n",
    "        )\n",
    "\n",
    "        self.transforms_img = transforms.Compose(\n",
    "            [\n",
    "                transforms.ToTensor(),\n",
    "                transforms.Normalize(mean=[0.485, 0.456, 0.406], std=[0.229, 0.224, 0.225]) # ImageNet's normalization statistics\n",
    "            ]\n",
    "        )\n",
    "\n",
    "        self.classes = [\n",
    "            \"Hot dog\", \"French fries\", \"Waffle\", \"Pancake\", \"Burrito\", \"Pretzel\",\n",
    "            \"Popcorn\", \"Cookie\", \"Muffin\", \"Ice cream\", \"Cake\", \"Candy\",\n",
    "            \"Guacamole\", \"Apple\", \"Grape\", \"Common fig\", \"Pear\",\n",
    "            \"Strawberry\", \"Tomato\", \"Lemon\", \"Banana\", \"Orange\", \"Peach\", \"Mango\",\n",
    "            \"Pineapple\", \"Grapefruit\", \"Pomegranate\", \"Watermelon\", \"Cantaloupe\",\n",
    "            \"Egg (Food)\", \"Bagel\", \"Bread\", \"Doughnut\", \"Croissant\",\n",
    "            \"Tart\", \"Mushroom\", \"Pasta\", \"Pizza\", \"Squid\",\n",
    "            \"Oyster\", \"Lobster\", \"Shrimp\", \"Crab\", \"Taco\", \"Cooking spray\",\n",
    "            \"Cucumber\", \"Radish\", \"Artichoke\", \"Potato\", \"Garden Asparagus\",\n",
    "            \"Pumpkin\", \"Zucchini\", \"Cabbage\", \"Carrot\", \"Salad\",\n",
    "            \"Broccoli\", \"Bell pepper\", \"Winter melon\", \"Honeycomb\",\n",
    "            \"Hamburger\", \"Submarine sandwich\", \"Cheese\", \"Milk\", \"Sushi\"\n",
    "        ]\n",
    "\n",
    "        # Creating a dictionary mapping each class name to an index:\n",
    "        self.class_2_index = {}\n",
    "        for i, class_name in enumerate(self.classes):\n",
    "            self.class_2_index[class_name.lower()] = i\n",
    "\n",
    "        # Creating a dictionary mapping each class index to its corresponding class name:\n",
    "        self.index_2_class = {}\n",
    "        for k, v in self.class_2_index.items():\n",
    "            self.index_2_class[v] = k\n",
    "\n",
    "        self.train_dir = os.path.join(self.data_dir, \"train\") # Directory in which train dataset resides\n",
    "        self.val_dir = os.path.join(self.data_dir, \"val\") # Directory in which validation dataset resides\n",
    "        self.test_dir = os.path.join(self.data_dir, \"test\") # Directory in which test dataset resides\n",
    "\n",
    "        self.train_red_dir = os.path.join(self.data_dir, \"train_reduced\") # Directory in which reduced train dataset resides\n",
    "        self.val_red_dir = os.path.join(self.data_dir, \"val_reduced\") # Directory in which reduced validation dataset resides\n",
    "        self.test_red_dir = os.path.join(self.data_dir, \"test_reduced\") # Directory in which reduced test dataset resides\n",
    "\n",
    "\n",
    "    def split_data(self, keep_class_dirs=True):\n",
    "\n",
    "        \"\"\" This function splits the downloaded Open Image dataset, and splits each class into training, validation, and testing sets.\n",
    "            This function assumes that the required data has already been downloaded.\"\"\"\n",
    "\n",
    "        # Setting the random seed:\n",
    "        random.seed(self.random_seed)\n",
    "        \n",
    "        splits = [\"train\", \"val\", \"test\"]\n",
    "\n",
    "        # Making folders for each of the splits:\n",
    "        for split in splits:\n",
    "            split_dir = os.path.join(self.data_dir, split)\n",
    "            os.makedirs(split_dir, exist_ok=True)\n",
    "\n",
    "        # Iterating through each class:\n",
    "        for class_cur in self.classes:\n",
    "            print(f'Splitting data for class {class_cur}')\n",
    "\n",
    "            # Getting directories for the images and annotations for each class:\n",
    "            imgs_dir = os.path.join(self.data_dir, class_cur.lower(), \"images\")\n",
    "            anns_dir = os.path.join(self.data_dir, class_cur.lower(), \"darknet\")\n",
    "\n",
    "            # Ensuring each class has images and annotations:\n",
    "            if not imgs_dir:\n",
    "                raise Exception(f'Images do not exist for {class_cur}!')\n",
    "\n",
    "            if not anns_dir:\n",
    "                raise Exception(f'Annotations do not exist for {class_cur}!')\n",
    "\n",
    "            class_imgs = os.listdir(imgs_dir) # Images for current class\n",
    "            class_anns = os.listdir(anns_dir) # Annotations for current class\n",
    "            class_imgs.sort()\n",
    "            class_anns.sort()\n",
    "\n",
    "            num_imgs = len(class_imgs) # Number of images and annotations for current class\n",
    "            \n",
    "            # Shuffling data:\n",
    "            inds_list = list(range(num_imgs)) # List of indices ranging for the total number of images\n",
    "            random.shuffle(inds_list) # Shuffling indices list\n",
    "            class_imgs = [class_imgs[i] for i in inds_list] # Shuffling class images according to shuffled inds_list\n",
    "            class_anns = [class_anns[i] for i in inds_list] # Shuffling class annotations according to shuffled inds_list\n",
    "\n",
    "            ind_train = int(0.8 * num_imgs) # Ending index for the training images\n",
    "            ind_val = ind_train + int(0.1 * num_imgs) # Ending index for the validation images\n",
    "\n",
    "            # Splitting images into training, validation, and testing:\n",
    "            train_imgs = class_imgs[:ind_train]\n",
    "            val_imgs = class_imgs[ind_train:ind_val]\n",
    "            test_imgs = class_imgs[ind_val:]\n",
    "\n",
    "            all_imgs = [train_imgs, val_imgs, test_imgs] # All images\n",
    "            \n",
    "            # Splitting annotations into training, validation, and testing:\n",
    "            train_anns = class_anns[:ind_train]\n",
    "            val_anns = class_anns[ind_train:ind_val]\n",
    "            test_anns = class_anns[ind_val:]\n",
    "\n",
    "            all_anns = [train_anns, val_anns, test_anns] # All annotations\n",
    "            \n",
    "            # Looping through all split types and corresponding split images:\n",
    "            for split_type, split_imgs, split_anns in zip(splits, all_imgs, all_anns):\n",
    "                if keep_class_dirs:\n",
    "                    # Creating each split directory for images and annotations for current class:\n",
    "                    split_dir_img = os.path.join(self.data_dir, split_type, class_cur.lower(), \"images\")\n",
    "                    split_dir_ann = os.path.join(self.data_dir, split_type, class_cur.lower(), \"annotations\")\n",
    "                else:\n",
    "                    split_dir_img = os.path.join(self.data_dir, split_type, \"images\")\n",
    "                    split_dir_ann = os.path.join(self.data_dir, split_type, \"annotations\")\n",
    "\n",
    "                os.makedirs(split_dir_img, exist_ok=True)\n",
    "                os.makedirs(split_dir_ann, exist_ok=True)\n",
    "\n",
    "                # Copying each image from initial directory to corresponding split directory for each split:\n",
    "                for img, ann in zip(split_imgs, split_anns):\n",
    "                    shutil.copy(os.path.join(imgs_dir, img), os.path.join(split_dir_img, img))\n",
    "                    shutil.copy(os.path.join(anns_dir, ann), os.path.join(split_dir_ann, ann))\n",
    "\n",
    "                    # Code to replace each original class label (which is 0) to the class label as found in self.class_2_index:\n",
    "                    ann_file_cur_dir = os.path.join(split_dir_ann, ann) # File path of current annotation file\n",
    "                    with open(ann_file_cur_dir, 'r') as file:\n",
    "                        objects = file.readlines()\n",
    "\n",
    "                        new_labels = []\n",
    "                        for obj in objects:\n",
    "                            obj_items = obj.split()\n",
    "                            new_class_label = self.class_2_index[class_cur.lower()]\n",
    "                            obj_items[0] = str(new_class_label)\n",
    "\n",
    "                            obj_new = ' '.join(obj_items) + '\\n'\n",
    "                            new_labels.append(obj_new)\n",
    "                    \n",
    "                    with open(ann_file_cur_dir, 'w') as file:\n",
    "                        file.writelines(new_labels)\n",
    "                            \n",
    "\n",
    "\n",
    "    def make_dataloader(self, split_name):\n",
    "        \"\"\" Function to create a DataLoader object that's compatible with Facebook's DETR model.\n",
    "        \n",
    "        Inputs:\n",
    "        split_name (str) - must be one of the following: \"train\", \"train_reduced\", \"val\", \"val_reduced\", \"test\", \"test_reduced\"\n",
    "\n",
    "        Outputs:\n",
    "        dl (DataLoader) - DataLoader object\n",
    "\n",
    "        \"\"\"\n",
    "\n",
    "        def collate_fn(data):\n",
    "            \"\"\" Defining the collate function to pad and return images and list of annotations,\n",
    "                as object-detection can have variable image sizes and variable number of objects\n",
    "                in each image. \n",
    "            \"\"\"\n",
    "\n",
    "            # Extracting the images and corresponding annotations:\n",
    "            imgs, anns = zip(*data)\n",
    "\n",
    "            return torch.stack(imgs), anns        \n",
    "\n",
    "        imgs_dir = os.path.join(self.data_dir, split_name, \"images\")\n",
    "        anns_dir = os.path.join(self.data_dir, split_name, \"annotations\")\n",
    "\n",
    "        # Lists of all the images and corresponding annotation files in the selected directory:\n",
    "        imgs_list = os.listdir(imgs_dir)\n",
    "        anns_list = os.listdir(anns_dir)\n",
    "\n",
    "        dataset = []\n",
    "        # Iterating through each image and annotation pair:\n",
    "        for img_cur, ann_cur in zip(imgs_list, anns_list):\n",
    "            \n",
    "            # Directories of current image and annotation:\n",
    "            img_cur_dir = os.path.join(imgs_dir, img_cur)\n",
    "            ann_cur_dir = os.path.join(anns_dir, ann_cur)\n",
    "\n",
    "            # Reading image:\n",
    "            img_pil = Image.open(img_cur_dir).convert(\"RGB\")\n",
    "            img_size_orig = img_pil.size # (width, height) format\n",
    "            width, height = img_pil.size # Also getting width and height as separate variables\n",
    "            # img_tv = TVImage(torch.tensor(img_pil).permute(2, 0, 1))\n",
    "\n",
    "            ann_list = []\n",
    "            # Reading annotation file:\n",
    "            with open(ann_cur_dir, 'r') as file:\n",
    "\n",
    "                objects = file.readlines()\n",
    "\n",
    "                # Iterating through each object in the image (all assumed to equal to the target class):\n",
    "                for obj in objects:\n",
    "                    obj_items = obj.split()\n",
    "                    class_label = int(obj_items[0]) # Class label\n",
    "                    x_cent = float(obj_items[1]) * width # x-coordinate of bounding box's center\n",
    "                    y_cent = float(obj_items[2]) * height # y-coordinate of bounding box's center\n",
    "                    box_width = float(obj_items[3]) * width # Width of bounding box\n",
    "                    box_height = float(obj_items[4]) * height # Height of bounding box\n",
    "\n",
    "                    # Appending the bounding box information to the list of bounding box information:\n",
    "                    ann_list.append([x_cent, y_cent, box_width, box_height])\n",
    "\n",
    "                # Converting list of bounding box information to a PyTorch tensor:\n",
    "                box_tensor = torch.tensor(ann_list, dtype=torch.float)\n",
    "\n",
    "\n",
    "            # Bounding box object for current annotation file:\n",
    "            # bounding_boxes = tv_tensors.BoundingBoxes(box_tensor, format=\"CXCYWH\", canvas_size=img_size_orig)\n",
    "\n",
    "            box_tensor_convert = box_convert(box_tensor, in_fmt='cxcywh', out_fmt='xyxy') # Converting bounding boxes from CXCYWH format to XYXY format to make it compatible with DETR model\n",
    "            bounding_boxes = tv_tensors.BoundingBoxes(box_tensor_convert, format=\"XYXY\", canvas_size=img_size_orig)\n",
    "\n",
    "            # Applying transformations to bounding boxes and image:\n",
    "            # img_trans = self.transforms_all(img_pil) # Applying the general transformations to the image\n",
    "            # bb_trans = self.transforms_all(bounding_boxes) # Applying the general transformations to the image's corresponding bounding boxes\n",
    "            # img_trans = self.transforms_img(img_trans) # Applying the image-specific transformations to the image (tensor conversion and normalization)\n",
    "\n",
    "            # num_labels = bb_trans.shape[0] # Number of objects\n",
    "            num_labels = bounding_boxes.shape[0]\n",
    "            labels_tensor = torch.ones(num_labels, dtype=torch.long) * class_label # Creating a labels tensor\n",
    "\n",
    "            # ann_dict = {\"boxes\": bb_trans, \"labels\": labels_tensor}\n",
    "\n",
    "            # info_tuple = (img_trans, ann_dict)\n",
    "\n",
    "            img_trans = self.transforms_img(img_pil) # Applying the image-specific transformations to the image (tensor conversion and normalization)\n",
    "            ann_dict = {\"boxes\": bounding_boxes, \"labels\": labels_tensor}\n",
    "            info_tuple = (img_trans, ann_dict)\n",
    "            \n",
    "\n",
    "            dataset.append(info_tuple)\n",
    "        \n",
    "\n",
    "        dataset_wrapper = CustomDataset(dataset)\n",
    "        dl = DataLoader(dataset_wrapper, batch_size=self.batch_size, shuffle=True, collate_fn=collate_fn)\n",
    "\n",
    "        return dl\n",
    "\n",
    "\n",
    "class CustomDataset():\n",
    "    def __init__(self, dataset):\n",
    "        self.dataset = dataset\n",
    "\n",
    "    def __getitem__(self, ind):\n",
    "        return self.dataset[ind]\n",
    "\n",
    "    def __len__(self):\n",
    "        return len(self.dataset)\n",
    "    \n",
    "    "
   ]
  },
  {
   "cell_type": "code",
   "execution_count": 6,
   "metadata": {},
   "outputs": [
    {
     "data": {
      "text/plain": [
       "(2544, 312)"
      ]
     },
     "execution_count": 6,
     "metadata": {},
     "output_type": "execute_result"
    }
   ],
   "source": [
    "frcnn_dp = FRCNNDatasetProcessor(batch_size=1)\n",
    "\n",
    "train_dataset = frcnn_dp.make_dataloader(\"train_red\")\n",
    "val_dataset = frcnn_dp.make_dataloader(\"val_red\")\n",
    "# test_dataset = frcnn_dp.make_dataloader(\"test_red\")\n",
    "\n",
    "# len(train_dataset), len(val_dataset), len(test_dataset)\n",
    "len(train_dataset), len(val_dataset)"
   ]
  },
  {
   "cell_type": "code",
   "execution_count": 7,
   "metadata": {
    "executionInfo": {
     "elapsed": 1234,
     "status": "ok",
     "timestamp": 1733856746861,
     "user": {
      "displayName": "Scott Schmidl",
      "userId": "07500865660181256076"
     },
     "user_tz": 360
    },
    "id": "do8QGVOJEmIf"
   },
   "outputs": [],
   "source": [
    "# create model\n",
    "def get_model(num_classes):\n",
    "    weights = FasterRCNN_ResNet50_FPN_V2_Weights.COCO_V1\n",
    "    model = fasterrcnn_resnet50_fpn_v2(weights=weights)\n",
    "\n",
    "    # Freezing R50 backbone:\n",
    "    for param in model.backbone.parameters():\n",
    "        param.requires_grad = False\n",
    "\n",
    "    in_features = model.roi_heads.box_predictor.cls_score.in_features\n",
    "    model.roi_heads.box_predictor = FastRCNNPredictor(in_features, num_classes)\n",
    "\n",
    "    return model\n",
    "\n",
    "model = get_model(num_classes=65) # num_classes equal number of categories + 1 for \"no object\" class"
   ]
  },
  {
   "cell_type": "code",
   "execution_count": 8,
   "metadata": {},
   "outputs": [],
   "source": [
    "\n",
    "\n",
    "class FRCNNModelManager(StandardModelManager):\n",
    "    \"\"\"class specifically to address the training problems with Faster-RCNN ie it requires target to be a dictionary. It also needs ROI information. Inherits from StandardModelManager\n",
    "\n",
    "    Args:\n",
    "        FRCNNModelManager (object): Performs training, prediction, saving, loading, and learning curves\n",
    "    \"\"\"\n",
    "    \n",
    "    def __init__(self, model, metric, optimizer, scheduler, device=None):\n",
    "\n",
    "        if device:\n",
    "            self.device = device\n",
    "        else:\n",
    "            self.device = torch.device('cuda') if torch.cuda.is_available() else torch.device('cpu')\n",
    "    \n",
    "        self.model = model.to(self.device)\n",
    "        self.metric = metric.to(self.device)\n",
    "        self.optimizer = optimizer\n",
    "        self.scheduler = scheduler\n",
    "        self.train_loss = []\n",
    "        self.val_loss = []\n",
    "        self.meanAP = []\n",
    "        self.best_model_state_dict = None\n",
    "        self.save_checkpoint = {}\n",
    "\n",
    "    def train(self, training_data_loader, validation_data_loader, epochs=50):\n",
    "\n",
    "        for epoch in tqdm(range(epochs)):\n",
    "            self.model.train()\n",
    "            display_epoch = epoch + 1\n",
    "            self.total_loss = 0\n",
    "            for images, targets in training_data_loader:\n",
    "                images = list(image.to(self.device) for image in images)\n",
    "                targets = [{k: v.to(self.device) for k, v in t.items()} for t in targets]\n",
    "                outputs = self.model.forward(images, targets)\n",
    "\n",
    "                self.optimizer.zero_grad()\n",
    "                losses = sum(loss for loss in outputs.values())\n",
    "                losses.backward()\n",
    "                self.optimizer.step()\n",
    "\n",
    "                self.total_loss += losses.item()\n",
    "\n",
    "\n",
    "            # Appending training loss to list:\n",
    "            avg_train_loss = self.total_loss / len(training_data_loader)\n",
    "            self.train_loss.append(avg_train_loss)\n",
    "\n",
    "            # Stepping the learning rate scheduler:\n",
    "            self.scheduler.step()\n",
    "\n",
    "            # Validation:\n",
    "            self.model.eval()\n",
    "            self.val_loss = 0\n",
    "            for images, targets in validation_data_loader:\n",
    "                images = list(image.to(self.device) for image in images)\n",
    "                targets = [{k: v.to(self.device) for k, v in t.items()} for t in targets]\n",
    "\n",
    "                with torch.no_grad():\n",
    "                    predictions = self.model.forward(images)\n",
    "\n",
    "                self.metric.update(predictions, targets)\n",
    "                                      \n",
    "            # Computing validation mAP:\n",
    "            map_val_result = self.metric.compute()\n",
    "            map_val_cur = map_val_result['map'].item()\n",
    "            self.meanAP.append(map_val_cur)\n",
    "\n",
    "            # Reset metric for next epoch:\n",
    "            self.metric.reset()\n",
    "\n",
    "            print(f'\\nEpoch {display_epoch}: Average Epoch Loss - {avg_train_loss}; Validation mAP - {map_val_cur}.')\n",
    "            print(f\"{'=' * 30}\\n\")\n",
    "\n",
    "                \n",
    "            self.model_state_dict = copy.deepcopy(self.model.state_dict())\n",
    "            self.save_checkpoint[epoch] = self.model_state_dict\n",
    "            torch.save(self.model_state_dict, f\"faster_rcnn_{epoch}.pt\")\n",
    "\n",
    "            if (epoch + 1) % 10 == 0:\n",
    "                with open(f\"frcnn_{epoch+1}.pkl\", \"wb\") as f:\n",
    "                    pickle.dump({\"loss\": self.train_loss, \"mAP\": self.meanAP}, f)\n",
    "\n",
    "\n",
    "        self.model.load_state_dict(self.model_state_dict)\n",
    "        with open(f\"frcnn_training.pkl\", \"wb\") as f:\n",
    "            pickle.dump({\"loss\": self.val_loss, \"mAP\": self.meanAP}, f)\n",
    "\n",
    "    def plot_learning_curve(self, model_name):\n",
    "        \"\"\"\n",
    "        This function plots the learning curve from the most recent training period of this model manager.\n",
    "        \n",
    "        Inputs:\n",
    "        model_name (str) - Name of the model\n",
    "        \"\"\"\n",
    "\n",
    "        title = model_name + \" Learning Curve\"\n",
    "        filename = model_name + \"_learning_curve.png\"\n",
    "\n",
    "        # Moving tensors to CPU:\n",
    "        for i, values in enumerate(zip(self.train_loss, self.meanAP)):\n",
    "            self.train_loss[i] = values[0].to('cpu')\n",
    "            self.meanAP[i] = values[1].to('cpu')\n",
    "\n",
    "        # Plotting training and validation accuracy values:\n",
    "        plt.plot(self.train_loss, label='Training Accuracy')\n",
    "        plt.plot(self.meanAP, label='Validation Accuracy')\n",
    "        plt.xlabel('Epochs')\n",
    "        plt.ylabel('Accuracy')\n",
    "        plt.title(title)\n",
    "        plt.legend(loc='best')\n",
    "        plt.savefig(filename, dpi=600)\n",
    "        plt.show()"
   ]
  },
  {
   "cell_type": "code",
   "execution_count": 9,
   "metadata": {
    "executionInfo": {
     "elapsed": 3,
     "status": "ok",
     "timestamp": 1733856746861,
     "user": {
      "displayName": "Scott Schmidl",
      "userId": "07500865660181256076"
     },
     "user_tz": 360
    },
    "id": "AWGOjtEZEmIg"
   },
   "outputs": [],
   "source": [
    "# train and evaluate model\n",
    "lr = 1e-5\n",
    "epochs = 50\n",
    "metric = MeanAveragePrecision()\n",
    "optimizer = optim.AdamW(model.parameters(), lr=lr)\n",
    "scheduler = optim.lr_scheduler.StepLR(optimizer, step_size=10, gamma=0.1)\n",
    "smmfr = FRCNNModelManager(model=model,\n",
    "                         metric=metric,\n",
    "                         optimizer=optimizer,\n",
    "                         scheduler=scheduler,\n",
    "                         device=device)"
   ]
  },
  {
   "cell_type": "markdown",
   "metadata": {},
   "source": [
    "Before transf img size: (1024, 1024)\n",
    "boxes size:\n",
    "tensor([[147., 243., 252., 339.],\n",
    "        [148., 336., 235., 427.],\n",
    "        [198., 385., 318., 460.],\n",
    "        [275., 230., 380., 324.],\n",
    "        [291.,  51., 425., 144.],\n",
    "        [316., 280., 519., 494.],\n",
    "        [344.,  97., 536., 291.],\n",
    "        [390., 702., 579., 903.],\n",
    "        [577., 265., 644., 366.],\n",
    "        [601., 356., 812., 556.],\n",
    "        [604., 155., 720., 284.],\n",
    "        [617., 934., 800., 971.],\n",
    "        [659., 284., 740., 372.],\n",
    "        [824., 307., 964., 494.],\n",
    "        [865., 716., 992., 961.]])\n",
    "\n",
    "\n",
    "After transf img size: torch.Size([3, 100, 100])\n",
    "boxes size:\n",
    "tensor([[14.3555, 23.7305, 24.6094, 33.1055],\n",
    "        [14.4531, 32.8125, 22.9492, 41.6992],\n",
    "        [19.3359, 37.5977, 31.0547, 44.9219],\n",
    "        [26.8555, 22.4609, 37.1094, 31.6406],\n",
    "        [28.4180,  4.9805, 41.5039, 14.0625],\n",
    "        [30.8594, 27.3438, 50.6836, 48.2422],\n",
    "        [33.5938,  9.4727, 52.3438, 28.4180],\n",
    "        [38.0859, 68.5547, 56.5430, 88.1836],\n",
    "        [56.3477, 25.8789, 62.8906, 35.7422],\n",
    "        [58.6914, 34.7656, 79.2969, 54.2969],\n",
    "        [58.9844, 15.1367, 70.3125, 27.7344],\n",
    "        [60.2539, 91.2109, 78.1250, 94.8242],\n",
    "        [64.3555, 27.7344, 72.2656, 36.3281],\n",
    "        [80.4688, 29.9805, 94.1406, 48.2422],\n",
    "        [84.4727, 69.9219, 96.8750, 93.8477]])"
   ]
  },
  {
   "cell_type": "code",
   "execution_count": 10,
   "metadata": {
    "colab": {
     "base_uri": "https://localhost:8080/",
     "height": 671
    },
    "collapsed": true,
    "executionInfo": {
     "elapsed": 1561552,
     "status": "error",
     "timestamp": 1733858309083,
     "user": {
      "displayName": "Scott Schmidl",
      "userId": "07500865660181256076"
     },
     "user_tz": 360
    },
    "id": "r6DhEiYbEmIh",
    "outputId": "cd51ea82-b01b-467c-989e-d11b6b88e21c"
   },
   "outputs": [
    {
     "name": "stderr",
     "output_type": "stream",
     "text": [
      "  0%|          | 0/50 [00:00<?, ?it/s]"
     ]
    },
    {
     "name": "stdout",
     "output_type": "stream",
     "text": [
      "\n",
      "Epoch 1: Average Epoch Loss - 0.4422037796785106; Validation mAP - 0.03334479406476021.\n",
      "==============================\n",
      "\n"
     ]
    },
    {
     "name": "stderr",
     "output_type": "stream",
     "text": [
      "  2%|▏         | 1/50 [10:04<8:13:28, 604.25s/it]"
     ]
    },
    {
     "name": "stdout",
     "output_type": "stream",
     "text": [
      "\n",
      "Epoch 2: Average Epoch Loss - 0.33907696781328545; Validation mAP - 0.06744684278964996.\n",
      "==============================\n",
      "\n"
     ]
    },
    {
     "name": "stderr",
     "output_type": "stream",
     "text": [
      "  4%|▍         | 2/50 [20:16<8:07:19, 609.16s/it]"
     ]
    },
    {
     "name": "stdout",
     "output_type": "stream",
     "text": [
      "\n",
      "Epoch 3: Average Epoch Loss - 0.30421307539046044; Validation mAP - 0.0713246688246727.\n",
      "==============================\n",
      "\n"
     ]
    },
    {
     "name": "stderr",
     "output_type": "stream",
     "text": [
      "  6%|▌         | 3/50 [30:28<7:58:01, 610.25s/it]"
     ]
    },
    {
     "name": "stdout",
     "output_type": "stream",
     "text": [
      "\n",
      "Epoch 4: Average Epoch Loss - 0.2806916011397803; Validation mAP - 0.0903485119342804.\n",
      "==============================\n",
      "\n"
     ]
    },
    {
     "name": "stderr",
     "output_type": "stream",
     "text": [
      "  8%|▊         | 4/50 [40:26<7:44:09, 605.42s/it]"
     ]
    },
    {
     "name": "stdout",
     "output_type": "stream",
     "text": [
      "\n",
      "Epoch 5: Average Epoch Loss - 0.25794567963922593; Validation mAP - 0.10210544615983963.\n",
      "==============================\n",
      "\n"
     ]
    },
    {
     "name": "stderr",
     "output_type": "stream",
     "text": [
      " 10%|█         | 5/50 [50:23<7:31:53, 602.53s/it]"
     ]
    },
    {
     "name": "stdout",
     "output_type": "stream",
     "text": [
      "\n",
      "Epoch 6: Average Epoch Loss - 0.24167825345026106; Validation mAP - 0.10753374546766281.\n",
      "==============================\n",
      "\n"
     ]
    },
    {
     "name": "stderr",
     "output_type": "stream",
     "text": [
      " 12%|█▏        | 6/50 [1:00:31<7:23:04, 604.20s/it]"
     ]
    },
    {
     "name": "stdout",
     "output_type": "stream",
     "text": [
      "\n",
      "Epoch 7: Average Epoch Loss - 0.2248310607626636; Validation mAP - 0.11049509048461914.\n",
      "==============================\n",
      "\n"
     ]
    },
    {
     "name": "stderr",
     "output_type": "stream",
     "text": [
      " 14%|█▍        | 7/50 [1:10:32<7:12:20, 603.27s/it]"
     ]
    },
    {
     "name": "stdout",
     "output_type": "stream",
     "text": [
      "\n",
      "Epoch 8: Average Epoch Loss - 0.2089163793628719; Validation mAP - 0.09731253981590271.\n",
      "==============================\n",
      "\n"
     ]
    },
    {
     "name": "stderr",
     "output_type": "stream",
     "text": [
      " 16%|█▌        | 8/50 [1:20:34<7:02:00, 602.86s/it]"
     ]
    },
    {
     "name": "stdout",
     "output_type": "stream",
     "text": [
      "\n",
      "Epoch 9: Average Epoch Loss - 0.19484430519972323; Validation mAP - 0.11486800760030746.\n",
      "==============================\n",
      "\n"
     ]
    },
    {
     "name": "stderr",
     "output_type": "stream",
     "text": [
      " 18%|█▊        | 9/50 [1:30:31<6:50:38, 600.94s/it]"
     ]
    },
    {
     "name": "stdout",
     "output_type": "stream",
     "text": [
      "\n",
      "Epoch 10: Average Epoch Loss - 0.18192799209980234; Validation mAP - 0.11215168237686157.\n",
      "==============================\n",
      "\n"
     ]
    },
    {
     "name": "stderr",
     "output_type": "stream",
     "text": [
      " 20%|██        | 10/50 [1:40:22<6:38:40, 598.02s/it]"
     ]
    },
    {
     "name": "stdout",
     "output_type": "stream",
     "text": [
      "\n",
      "Epoch 11: Average Epoch Loss - 0.15477431682817075; Validation mAP - 0.10667169839143753.\n",
      "==============================\n",
      "\n"
     ]
    },
    {
     "name": "stderr",
     "output_type": "stream",
     "text": [
      " 22%|██▏       | 11/50 [1:50:15<6:27:34, 596.28s/it]"
     ]
    },
    {
     "name": "stdout",
     "output_type": "stream",
     "text": [
      "\n",
      "Epoch 12: Average Epoch Loss - 0.15061205625607274; Validation mAP - 0.10281992703676224.\n",
      "==============================\n",
      "\n"
     ]
    },
    {
     "name": "stderr",
     "output_type": "stream",
     "text": [
      " 24%|██▍       | 12/50 [2:00:10<6:17:26, 595.96s/it]"
     ]
    },
    {
     "name": "stdout",
     "output_type": "stream",
     "text": [
      "\n",
      "Epoch 13: Average Epoch Loss - 0.14740750524464338; Validation mAP - 0.11142288148403168.\n",
      "==============================\n",
      "\n"
     ]
    },
    {
     "name": "stderr",
     "output_type": "stream",
     "text": [
      " 26%|██▌       | 13/50 [2:10:01<6:06:32, 594.40s/it]"
     ]
    },
    {
     "name": "stdout",
     "output_type": "stream",
     "text": [
      "\n",
      "Epoch 14: Average Epoch Loss - 0.144954780524497; Validation mAP - 0.10111673921346664.\n",
      "==============================\n",
      "\n"
     ]
    },
    {
     "name": "stderr",
     "output_type": "stream",
     "text": [
      " 28%|██▊       | 14/50 [2:19:49<5:55:33, 592.59s/it]"
     ]
    },
    {
     "name": "stdout",
     "output_type": "stream",
     "text": [
      "\n",
      "Epoch 15: Average Epoch Loss - 0.1432792627843501; Validation mAP - 0.11570964008569717.\n",
      "==============================\n",
      "\n"
     ]
    },
    {
     "name": "stderr",
     "output_type": "stream",
     "text": [
      " 30%|███       | 15/50 [2:29:38<5:45:03, 591.53s/it]"
     ]
    },
    {
     "name": "stdout",
     "output_type": "stream",
     "text": [
      "\n",
      "Epoch 16: Average Epoch Loss - 0.14112561506273388; Validation mAP - 0.11161725968122482.\n",
      "==============================\n",
      "\n"
     ]
    },
    {
     "name": "stderr",
     "output_type": "stream",
     "text": [
      " 32%|███▏      | 16/50 [2:39:35<5:36:02, 593.03s/it]"
     ]
    },
    {
     "name": "stdout",
     "output_type": "stream",
     "text": [
      "\n",
      "Epoch 17: Average Epoch Loss - 0.13876638084220988; Validation mAP - 0.11395343393087387.\n",
      "==============================\n",
      "\n"
     ]
    },
    {
     "name": "stderr",
     "output_type": "stream",
     "text": [
      " 34%|███▍      | 17/50 [2:49:30<5:26:35, 593.79s/it]"
     ]
    },
    {
     "name": "stdout",
     "output_type": "stream",
     "text": [
      "\n",
      "Epoch 18: Average Epoch Loss - 0.13685024442237584; Validation mAP - 0.10717733204364777.\n",
      "==============================\n",
      "\n"
     ]
    },
    {
     "name": "stderr",
     "output_type": "stream",
     "text": [
      " 36%|███▌      | 18/50 [2:59:36<5:18:34, 597.33s/it]"
     ]
    },
    {
     "name": "stdout",
     "output_type": "stream",
     "text": [
      "\n",
      "Epoch 19: Average Epoch Loss - 0.1347238279098598; Validation mAP - 0.1144791916012764.\n",
      "==============================\n",
      "\n"
     ]
    },
    {
     "name": "stderr",
     "output_type": "stream",
     "text": [
      " 38%|███▊      | 19/50 [3:09:45<5:10:27, 600.88s/it]"
     ]
    },
    {
     "name": "stdout",
     "output_type": "stream",
     "text": [
      "\n",
      "Epoch 20: Average Epoch Loss - 0.13343784511206472; Validation mAP - 0.11220519989728928.\n",
      "==============================\n",
      "\n"
     ]
    },
    {
     "name": "stderr",
     "output_type": "stream",
     "text": [
      " 40%|████      | 20/50 [3:19:38<4:59:13, 598.45s/it]"
     ]
    },
    {
     "name": "stdout",
     "output_type": "stream",
     "text": [
      "\n",
      "Epoch 21: Average Epoch Loss - 0.12975957802659394; Validation mAP - 0.11120142042636871.\n",
      "==============================\n",
      "\n"
     ]
    },
    {
     "name": "stderr",
     "output_type": "stream",
     "text": [
      " 42%|████▏     | 21/50 [3:29:29<4:48:15, 596.39s/it]"
     ]
    },
    {
     "name": "stdout",
     "output_type": "stream",
     "text": [
      "\n",
      "Epoch 22: Average Epoch Loss - 0.12947597646933495; Validation mAP - 0.09814328700304031.\n",
      "==============================\n",
      "\n"
     ]
    },
    {
     "name": "stderr",
     "output_type": "stream",
     "text": [
      " 44%|████▍     | 22/50 [3:39:21<4:37:36, 594.86s/it]"
     ]
    },
    {
     "name": "stdout",
     "output_type": "stream",
     "text": [
      "\n",
      "Epoch 23: Average Epoch Loss - 0.12918624537118342; Validation mAP - 0.10735316574573517.\n",
      "==============================\n",
      "\n"
     ]
    },
    {
     "name": "stderr",
     "output_type": "stream",
     "text": [
      " 46%|████▌     | 23/50 [3:49:13<4:27:23, 594.20s/it]"
     ]
    },
    {
     "name": "stdout",
     "output_type": "stream",
     "text": [
      "\n",
      "Epoch 24: Average Epoch Loss - 0.12892618509735795; Validation mAP - 0.11025943607091904.\n",
      "==============================\n",
      "\n"
     ]
    },
    {
     "name": "stderr",
     "output_type": "stream",
     "text": [
      " 48%|████▊     | 24/50 [3:59:06<4:17:16, 593.72s/it]"
     ]
    },
    {
     "name": "stdout",
     "output_type": "stream",
     "text": [
      "\n",
      "Epoch 25: Average Epoch Loss - 0.12858120129156694; Validation mAP - 0.10614638030529022.\n",
      "==============================\n",
      "\n"
     ]
    },
    {
     "name": "stderr",
     "output_type": "stream",
     "text": [
      " 50%|█████     | 25/50 [4:09:01<4:07:30, 594.01s/it]"
     ]
    },
    {
     "name": "stdout",
     "output_type": "stream",
     "text": [
      "\n",
      "Epoch 26: Average Epoch Loss - 0.12841268975006523; Validation mAP - 0.10071134567260742.\n",
      "==============================\n",
      "\n"
     ]
    },
    {
     "name": "stderr",
     "output_type": "stream",
     "text": [
      " 52%|█████▏    | 26/50 [4:18:53<3:57:21, 593.41s/it]"
     ]
    },
    {
     "name": "stdout",
     "output_type": "stream",
     "text": [
      "\n",
      "Epoch 27: Average Epoch Loss - 0.12808240560079637; Validation mAP - 0.10098803043365479.\n",
      "==============================\n",
      "\n"
     ]
    },
    {
     "name": "stderr",
     "output_type": "stream",
     "text": [
      " 54%|█████▍    | 27/50 [4:28:42<3:46:58, 592.13s/it]"
     ]
    },
    {
     "name": "stdout",
     "output_type": "stream",
     "text": [
      "\n",
      "Epoch 28: Average Epoch Loss - 0.12783046287950128; Validation mAP - 0.0992879569530487.\n",
      "==============================\n",
      "\n"
     ]
    },
    {
     "name": "stderr",
     "output_type": "stream",
     "text": [
      " 56%|█████▌    | 28/50 [4:38:33<3:37:00, 591.84s/it]"
     ]
    },
    {
     "name": "stdout",
     "output_type": "stream",
     "text": [
      "\n",
      "Epoch 29: Average Epoch Loss - 0.12776492490600092; Validation mAP - 0.10725721716880798.\n",
      "==============================\n",
      "\n"
     ]
    },
    {
     "name": "stderr",
     "output_type": "stream",
     "text": [
      " 58%|█████▊    | 29/50 [4:48:21<3:26:47, 590.83s/it]"
     ]
    },
    {
     "name": "stdout",
     "output_type": "stream",
     "text": [
      "\n",
      "Epoch 30: Average Epoch Loss - 0.12804843512738603; Validation mAP - 0.09348460286855698.\n",
      "==============================\n",
      "\n"
     ]
    },
    {
     "name": "stderr",
     "output_type": "stream",
     "text": [
      " 60%|██████    | 30/50 [4:58:12<3:16:54, 590.75s/it]"
     ]
    },
    {
     "name": "stdout",
     "output_type": "stream",
     "text": [
      "\n",
      "Epoch 31: Average Epoch Loss - 0.1273385059559255; Validation mAP - 0.09792295098304749.\n",
      "==============================\n",
      "\n"
     ]
    },
    {
     "name": "stderr",
     "output_type": "stream",
     "text": [
      " 62%|██████▏   | 31/50 [5:08:00<3:06:50, 590.03s/it]"
     ]
    },
    {
     "name": "stdout",
     "output_type": "stream",
     "text": [
      "\n",
      "Epoch 32: Average Epoch Loss - 0.12759132720947372; Validation mAP - 0.10525581985712051.\n",
      "==============================\n",
      "\n"
     ]
    },
    {
     "name": "stderr",
     "output_type": "stream",
     "text": [
      " 64%|██████▍   | 32/50 [5:17:51<2:57:02, 590.17s/it]"
     ]
    },
    {
     "name": "stdout",
     "output_type": "stream",
     "text": [
      "\n",
      "Epoch 33: Average Epoch Loss - 0.1274030923729165; Validation mAP - 0.10267163068056107.\n",
      "==============================\n",
      "\n"
     ]
    },
    {
     "name": "stderr",
     "output_type": "stream",
     "text": [
      " 66%|██████▌   | 33/50 [5:27:41<2:47:15, 590.30s/it]"
     ]
    },
    {
     "name": "stdout",
     "output_type": "stream",
     "text": [
      "\n",
      "Epoch 34: Average Epoch Loss - 0.12737653128299042; Validation mAP - 0.10675704479217529.\n",
      "==============================\n",
      "\n"
     ]
    },
    {
     "name": "stderr",
     "output_type": "stream",
     "text": [
      " 68%|██████▊   | 34/50 [5:37:30<2:37:16, 589.77s/it]"
     ]
    },
    {
     "name": "stdout",
     "output_type": "stream",
     "text": [
      "\n",
      "Epoch 35: Average Epoch Loss - 0.12752379202386424; Validation mAP - 0.09352808445692062.\n",
      "==============================\n",
      "\n"
     ]
    },
    {
     "name": "stderr",
     "output_type": "stream",
     "text": [
      " 70%|███████   | 35/50 [5:47:17<2:27:13, 588.93s/it]"
     ]
    },
    {
     "name": "stdout",
     "output_type": "stream",
     "text": [
      "\n",
      "Epoch 36: Average Epoch Loss - 0.12739946218954293; Validation mAP - 0.09997748583555222.\n",
      "==============================\n",
      "\n"
     ]
    },
    {
     "name": "stderr",
     "output_type": "stream",
     "text": [
      " 72%|███████▏  | 36/50 [5:57:12<2:17:51, 590.81s/it]"
     ]
    },
    {
     "name": "stdout",
     "output_type": "stream",
     "text": [
      "\n",
      "Epoch 37: Average Epoch Loss - 0.12727215757327; Validation mAP - 0.1100422739982605.\n",
      "==============================\n",
      "\n"
     ]
    },
    {
     "name": "stderr",
     "output_type": "stream",
     "text": [
      " 74%|███████▍  | 37/50 [6:07:23<2:09:17, 596.74s/it]"
     ]
    },
    {
     "name": "stdout",
     "output_type": "stream",
     "text": [
      "\n",
      "Epoch 38: Average Epoch Loss - 0.12724266153996014; Validation mAP - 0.11264297366142273.\n",
      "==============================\n",
      "\n"
     ]
    },
    {
     "name": "stderr",
     "output_type": "stream",
     "text": [
      " 76%|███████▌  | 38/50 [6:17:21<1:59:26, 597.23s/it]"
     ]
    },
    {
     "name": "stdout",
     "output_type": "stream",
     "text": [
      "\n",
      "Epoch 39: Average Epoch Loss - 0.1272828044170666; Validation mAP - 0.10314038395881653.\n",
      "==============================\n",
      "\n"
     ]
    },
    {
     "name": "stderr",
     "output_type": "stream",
     "text": [
      " 78%|███████▊  | 39/50 [6:59:36<3:36:05, 1178.66s/it]"
     ]
    },
    {
     "name": "stdout",
     "output_type": "stream",
     "text": [
      "\n",
      "Epoch 40: Average Epoch Loss - 0.12694120511585413; Validation mAP - 0.1051851212978363.\n",
      "==============================\n",
      "\n"
     ]
    },
    {
     "name": "stderr",
     "output_type": "stream",
     "text": [
      " 80%|████████  | 40/50 [8:30:39<6:50:37, 2463.77s/it]"
     ]
    },
    {
     "name": "stdout",
     "output_type": "stream",
     "text": [
      "\n",
      "Epoch 41: Average Epoch Loss - 0.1272489675814901; Validation mAP - 0.08964075893163681.\n",
      "==============================\n",
      "\n"
     ]
    },
    {
     "name": "stderr",
     "output_type": "stream",
     "text": [
      " 82%|████████▏ | 41/50 [11:47:45<2:35:21, 1035.75s/it]\n"
     ]
    },
    {
     "ename": "KeyboardInterrupt",
     "evalue": "",
     "output_type": "error",
     "traceback": [
      "\u001b[1;31m---------------------------------------------------------------------------\u001b[0m",
      "\u001b[1;31mKeyboardInterrupt\u001b[0m                         Traceback (most recent call last)",
      "Cell \u001b[1;32mIn[10], line 1\u001b[0m\n\u001b[1;32m----> 1\u001b[0m \u001b[43msmmfr\u001b[49m\u001b[38;5;241;43m.\u001b[39;49m\u001b[43mtrain\u001b[49m\u001b[43m(\u001b[49m\u001b[43mtraining_data_loader\u001b[49m\u001b[38;5;241;43m=\u001b[39;49m\u001b[43mtrain_dataset\u001b[49m\u001b[43m,\u001b[49m\u001b[43m \u001b[49m\u001b[43mvalidation_data_loader\u001b[49m\u001b[38;5;241;43m=\u001b[39;49m\u001b[43mval_dataset\u001b[49m\u001b[43m,\u001b[49m\u001b[43m \u001b[49m\u001b[43mepochs\u001b[49m\u001b[38;5;241;43m=\u001b[39;49m\u001b[43mepochs\u001b[49m\u001b[43m)\u001b[49m\n",
      "Cell \u001b[1;32mIn[8], line 61\u001b[0m, in \u001b[0;36mFRCNNModelManager.train\u001b[1;34m(self, training_data_loader, validation_data_loader, epochs)\u001b[0m\n\u001b[0;32m     58\u001b[0m     targets \u001b[38;5;241m=\u001b[39m [{k: v\u001b[38;5;241m.\u001b[39mto(\u001b[38;5;28mself\u001b[39m\u001b[38;5;241m.\u001b[39mdevice) \u001b[38;5;28;01mfor\u001b[39;00m k, v \u001b[38;5;129;01min\u001b[39;00m t\u001b[38;5;241m.\u001b[39mitems()} \u001b[38;5;28;01mfor\u001b[39;00m t \u001b[38;5;129;01min\u001b[39;00m targets]\n\u001b[0;32m     60\u001b[0m     \u001b[38;5;28;01mwith\u001b[39;00m torch\u001b[38;5;241m.\u001b[39mno_grad():\n\u001b[1;32m---> 61\u001b[0m         predictions \u001b[38;5;241m=\u001b[39m \u001b[38;5;28;43mself\u001b[39;49m\u001b[38;5;241;43m.\u001b[39;49m\u001b[43mmodel\u001b[49m\u001b[38;5;241;43m.\u001b[39;49m\u001b[43mforward\u001b[49m\u001b[43m(\u001b[49m\u001b[43mimages\u001b[49m\u001b[43m)\u001b[49m\n\u001b[0;32m     63\u001b[0m     \u001b[38;5;28mself\u001b[39m\u001b[38;5;241m.\u001b[39mmetric\u001b[38;5;241m.\u001b[39mupdate(predictions, targets)\n\u001b[0;32m     65\u001b[0m \u001b[38;5;66;03m# Computing validation mAP:\u001b[39;00m\n",
      "File \u001b[1;32mc:\\Users\\prave\\miniconda3\\envs\\conv_test\\Lib\\site-packages\\torchvision\\models\\detection\\generalized_rcnn.py:104\u001b[0m, in \u001b[0;36mGeneralizedRCNN.forward\u001b[1;34m(self, images, targets)\u001b[0m\n\u001b[0;32m    102\u001b[0m \u001b[38;5;28;01mif\u001b[39;00m \u001b[38;5;28misinstance\u001b[39m(features, torch\u001b[38;5;241m.\u001b[39mTensor):\n\u001b[0;32m    103\u001b[0m     features \u001b[38;5;241m=\u001b[39m OrderedDict([(\u001b[38;5;124m\"\u001b[39m\u001b[38;5;124m0\u001b[39m\u001b[38;5;124m\"\u001b[39m, features)])\n\u001b[1;32m--> 104\u001b[0m proposals, proposal_losses \u001b[38;5;241m=\u001b[39m \u001b[38;5;28;43mself\u001b[39;49m\u001b[38;5;241;43m.\u001b[39;49m\u001b[43mrpn\u001b[49m\u001b[43m(\u001b[49m\u001b[43mimages\u001b[49m\u001b[43m,\u001b[49m\u001b[43m \u001b[49m\u001b[43mfeatures\u001b[49m\u001b[43m,\u001b[49m\u001b[43m \u001b[49m\u001b[43mtargets\u001b[49m\u001b[43m)\u001b[49m\n\u001b[0;32m    105\u001b[0m detections, detector_losses \u001b[38;5;241m=\u001b[39m \u001b[38;5;28mself\u001b[39m\u001b[38;5;241m.\u001b[39mroi_heads(features, proposals, images\u001b[38;5;241m.\u001b[39mimage_sizes, targets)\n\u001b[0;32m    106\u001b[0m detections \u001b[38;5;241m=\u001b[39m \u001b[38;5;28mself\u001b[39m\u001b[38;5;241m.\u001b[39mtransform\u001b[38;5;241m.\u001b[39mpostprocess(detections, images\u001b[38;5;241m.\u001b[39mimage_sizes, original_image_sizes)  \u001b[38;5;66;03m# type: ignore[operator]\u001b[39;00m\n",
      "File \u001b[1;32mc:\\Users\\prave\\miniconda3\\envs\\conv_test\\Lib\\site-packages\\torch\\nn\\modules\\module.py:1736\u001b[0m, in \u001b[0;36mModule._wrapped_call_impl\u001b[1;34m(self, *args, **kwargs)\u001b[0m\n\u001b[0;32m   1734\u001b[0m     \u001b[38;5;28;01mreturn\u001b[39;00m \u001b[38;5;28mself\u001b[39m\u001b[38;5;241m.\u001b[39m_compiled_call_impl(\u001b[38;5;241m*\u001b[39margs, \u001b[38;5;241m*\u001b[39m\u001b[38;5;241m*\u001b[39mkwargs)  \u001b[38;5;66;03m# type: ignore[misc]\u001b[39;00m\n\u001b[0;32m   1735\u001b[0m \u001b[38;5;28;01melse\u001b[39;00m:\n\u001b[1;32m-> 1736\u001b[0m     \u001b[38;5;28;01mreturn\u001b[39;00m \u001b[38;5;28;43mself\u001b[39;49m\u001b[38;5;241;43m.\u001b[39;49m\u001b[43m_call_impl\u001b[49m\u001b[43m(\u001b[49m\u001b[38;5;241;43m*\u001b[39;49m\u001b[43margs\u001b[49m\u001b[43m,\u001b[49m\u001b[43m \u001b[49m\u001b[38;5;241;43m*\u001b[39;49m\u001b[38;5;241;43m*\u001b[39;49m\u001b[43mkwargs\u001b[49m\u001b[43m)\u001b[49m\n",
      "File \u001b[1;32mc:\\Users\\prave\\miniconda3\\envs\\conv_test\\Lib\\site-packages\\torch\\nn\\modules\\module.py:1747\u001b[0m, in \u001b[0;36mModule._call_impl\u001b[1;34m(self, *args, **kwargs)\u001b[0m\n\u001b[0;32m   1742\u001b[0m \u001b[38;5;66;03m# If we don't have any hooks, we want to skip the rest of the logic in\u001b[39;00m\n\u001b[0;32m   1743\u001b[0m \u001b[38;5;66;03m# this function, and just call forward.\u001b[39;00m\n\u001b[0;32m   1744\u001b[0m \u001b[38;5;28;01mif\u001b[39;00m \u001b[38;5;129;01mnot\u001b[39;00m (\u001b[38;5;28mself\u001b[39m\u001b[38;5;241m.\u001b[39m_backward_hooks \u001b[38;5;129;01mor\u001b[39;00m \u001b[38;5;28mself\u001b[39m\u001b[38;5;241m.\u001b[39m_backward_pre_hooks \u001b[38;5;129;01mor\u001b[39;00m \u001b[38;5;28mself\u001b[39m\u001b[38;5;241m.\u001b[39m_forward_hooks \u001b[38;5;129;01mor\u001b[39;00m \u001b[38;5;28mself\u001b[39m\u001b[38;5;241m.\u001b[39m_forward_pre_hooks\n\u001b[0;32m   1745\u001b[0m         \u001b[38;5;129;01mor\u001b[39;00m _global_backward_pre_hooks \u001b[38;5;129;01mor\u001b[39;00m _global_backward_hooks\n\u001b[0;32m   1746\u001b[0m         \u001b[38;5;129;01mor\u001b[39;00m _global_forward_hooks \u001b[38;5;129;01mor\u001b[39;00m _global_forward_pre_hooks):\n\u001b[1;32m-> 1747\u001b[0m     \u001b[38;5;28;01mreturn\u001b[39;00m \u001b[43mforward_call\u001b[49m\u001b[43m(\u001b[49m\u001b[38;5;241;43m*\u001b[39;49m\u001b[43margs\u001b[49m\u001b[43m,\u001b[49m\u001b[43m \u001b[49m\u001b[38;5;241;43m*\u001b[39;49m\u001b[38;5;241;43m*\u001b[39;49m\u001b[43mkwargs\u001b[49m\u001b[43m)\u001b[49m\n\u001b[0;32m   1749\u001b[0m result \u001b[38;5;241m=\u001b[39m \u001b[38;5;28;01mNone\u001b[39;00m\n\u001b[0;32m   1750\u001b[0m called_always_called_hooks \u001b[38;5;241m=\u001b[39m \u001b[38;5;28mset\u001b[39m()\n",
      "File \u001b[1;32mc:\\Users\\prave\\miniconda3\\envs\\conv_test\\Lib\\site-packages\\torchvision\\models\\detection\\rpn.py:371\u001b[0m, in \u001b[0;36mRegionProposalNetwork.forward\u001b[1;34m(self, images, features, targets)\u001b[0m\n\u001b[0;32m    367\u001b[0m objectness, pred_bbox_deltas \u001b[38;5;241m=\u001b[39m concat_box_prediction_layers(objectness, pred_bbox_deltas)\n\u001b[0;32m    368\u001b[0m \u001b[38;5;66;03m# apply pred_bbox_deltas to anchors to obtain the decoded proposals\u001b[39;00m\n\u001b[0;32m    369\u001b[0m \u001b[38;5;66;03m# note that we detach the deltas because Faster R-CNN do not backprop through\u001b[39;00m\n\u001b[0;32m    370\u001b[0m \u001b[38;5;66;03m# the proposals\u001b[39;00m\n\u001b[1;32m--> 371\u001b[0m proposals \u001b[38;5;241m=\u001b[39m \u001b[38;5;28;43mself\u001b[39;49m\u001b[38;5;241;43m.\u001b[39;49m\u001b[43mbox_coder\u001b[49m\u001b[38;5;241;43m.\u001b[39;49m\u001b[43mdecode\u001b[49m\u001b[43m(\u001b[49m\u001b[43mpred_bbox_deltas\u001b[49m\u001b[38;5;241;43m.\u001b[39;49m\u001b[43mdetach\u001b[49m\u001b[43m(\u001b[49m\u001b[43m)\u001b[49m\u001b[43m,\u001b[49m\u001b[43m \u001b[49m\u001b[43manchors\u001b[49m\u001b[43m)\u001b[49m\n\u001b[0;32m    372\u001b[0m proposals \u001b[38;5;241m=\u001b[39m proposals\u001b[38;5;241m.\u001b[39mview(num_images, \u001b[38;5;241m-\u001b[39m\u001b[38;5;241m1\u001b[39m, \u001b[38;5;241m4\u001b[39m)\n\u001b[0;32m    373\u001b[0m boxes, scores \u001b[38;5;241m=\u001b[39m \u001b[38;5;28mself\u001b[39m\u001b[38;5;241m.\u001b[39mfilter_proposals(proposals, objectness, images\u001b[38;5;241m.\u001b[39mimage_sizes, num_anchors_per_level)\n",
      "File \u001b[1;32mc:\\Users\\prave\\miniconda3\\envs\\conv_test\\Lib\\site-packages\\torchvision\\models\\detection\\_utils.py:178\u001b[0m, in \u001b[0;36mBoxCoder.decode\u001b[1;34m(self, rel_codes, boxes)\u001b[0m\n\u001b[0;32m    176\u001b[0m \u001b[38;5;28;01mif\u001b[39;00m box_sum \u001b[38;5;241m>\u001b[39m \u001b[38;5;241m0\u001b[39m:\n\u001b[0;32m    177\u001b[0m     rel_codes \u001b[38;5;241m=\u001b[39m rel_codes\u001b[38;5;241m.\u001b[39mreshape(box_sum, \u001b[38;5;241m-\u001b[39m\u001b[38;5;241m1\u001b[39m)\n\u001b[1;32m--> 178\u001b[0m pred_boxes \u001b[38;5;241m=\u001b[39m \u001b[38;5;28;43mself\u001b[39;49m\u001b[38;5;241;43m.\u001b[39;49m\u001b[43mdecode_single\u001b[49m\u001b[43m(\u001b[49m\u001b[43mrel_codes\u001b[49m\u001b[43m,\u001b[49m\u001b[43m \u001b[49m\u001b[43mconcat_boxes\u001b[49m\u001b[43m)\u001b[49m\n\u001b[0;32m    179\u001b[0m \u001b[38;5;28;01mif\u001b[39;00m box_sum \u001b[38;5;241m>\u001b[39m \u001b[38;5;241m0\u001b[39m:\n\u001b[0;32m    180\u001b[0m     pred_boxes \u001b[38;5;241m=\u001b[39m pred_boxes\u001b[38;5;241m.\u001b[39mreshape(box_sum, \u001b[38;5;241m-\u001b[39m\u001b[38;5;241m1\u001b[39m, \u001b[38;5;241m4\u001b[39m)\n",
      "File \u001b[1;32mc:\\Users\\prave\\miniconda3\\envs\\conv_test\\Lib\\site-packages\\torchvision\\models\\detection\\_utils.py:216\u001b[0m, in \u001b[0;36mBoxCoder.decode_single\u001b[1;34m(self, rel_codes, boxes)\u001b[0m\n\u001b[0;32m    213\u001b[0m pred_h \u001b[38;5;241m=\u001b[39m torch\u001b[38;5;241m.\u001b[39mexp(dh) \u001b[38;5;241m*\u001b[39m heights[:, \u001b[38;5;28;01mNone\u001b[39;00m]\n\u001b[0;32m    215\u001b[0m \u001b[38;5;66;03m# Distance from center to box's corner.\u001b[39;00m\n\u001b[1;32m--> 216\u001b[0m c_to_c_h \u001b[38;5;241m=\u001b[39m \u001b[43mtorch\u001b[49m\u001b[38;5;241;43m.\u001b[39;49m\u001b[43mtensor\u001b[49m\u001b[43m(\u001b[49m\u001b[38;5;241;43m0.5\u001b[39;49m\u001b[43m,\u001b[49m\u001b[43m \u001b[49m\u001b[43mdtype\u001b[49m\u001b[38;5;241;43m=\u001b[39;49m\u001b[43mpred_ctr_y\u001b[49m\u001b[38;5;241;43m.\u001b[39;49m\u001b[43mdtype\u001b[49m\u001b[43m,\u001b[49m\u001b[43m \u001b[49m\u001b[43mdevice\u001b[49m\u001b[38;5;241;43m=\u001b[39;49m\u001b[43mpred_h\u001b[49m\u001b[38;5;241;43m.\u001b[39;49m\u001b[43mdevice\u001b[49m\u001b[43m)\u001b[49m \u001b[38;5;241m*\u001b[39m pred_h\n\u001b[0;32m    217\u001b[0m c_to_c_w \u001b[38;5;241m=\u001b[39m torch\u001b[38;5;241m.\u001b[39mtensor(\u001b[38;5;241m0.5\u001b[39m, dtype\u001b[38;5;241m=\u001b[39mpred_ctr_x\u001b[38;5;241m.\u001b[39mdtype, device\u001b[38;5;241m=\u001b[39mpred_w\u001b[38;5;241m.\u001b[39mdevice) \u001b[38;5;241m*\u001b[39m pred_w\n\u001b[0;32m    219\u001b[0m pred_boxes1 \u001b[38;5;241m=\u001b[39m pred_ctr_x \u001b[38;5;241m-\u001b[39m c_to_c_w\n",
      "\u001b[1;31mKeyboardInterrupt\u001b[0m: "
     ]
    }
   ],
   "source": [
    "smmfr.train(training_data_loader=train_dataset, validation_data_loader=val_dataset, epochs=epochs)"
   ]
  },
  {
   "cell_type": "code",
   "execution_count": 11,
   "metadata": {
    "id": "xJ2D0c9OsfHw"
   },
   "outputs": [
    {
     "data": {
      "image/png": "[encoded data removed]",
      "text/plain": [
       "<Figure size 1200x500 with 2 Axes>"
      ]
     },
     "metadata": {},
     "output_type": "display_data"
    }
   ],
   "source": [
    "### Plotting results:\n",
    "\n",
    "frcnn_results_path = 'frcnn_40.pkl'\n",
    "\n",
    "with open(frcnn_results_path, 'rb') as file:\n",
    "    data = pickle.load(file)\n",
    "\n",
    "training_loss = data['loss']\n",
    "val_mAP = data['mAP']\n",
    "\n",
    "fig, axs = plt.subplots(1, 2, figsize=(12, 5))\n",
    "\n",
    "# Training loss:\n",
    "axs[0].plot(training_loss, label='Training Loss', color='blue')\n",
    "axs[0].set_title('Training Loss')\n",
    "axs[0].set_xlabel('Epochs')\n",
    "axs[0].set_ylabel('Loss')\n",
    "axs[0].legend()\n",
    "axs[0].grid(True)\n",
    "\n",
    "# Validation mAP:\n",
    "axs[1].plot(val_mAP, label='Validation mAP', color='orange')\n",
    "axs[1].set_title('Validation mAP')\n",
    "axs[1].set_xlabel('Epochs')\n",
    "axs[1].set_ylabel('mAP')\n",
    "axs[1].legend()\n",
    "axs[1].grid(True)\n",
    "\n",
    "plt.suptitle(\"Faster R-CNN Training Results\")\n",
    "\n",
    "# Adjust layout and show the plots\n",
    "plt.tight_layout()\n",
    "plt.savefig(\"FRCNN_results.png\", dpi=600)\n",
    "plt.show()\n",
    "\n",
    "\n"
   ]
  }
 ],
 "metadata": {
  "accelerator": "GPU",
  "colab": {
   "gpuType": "T4",
   "provenance": []
  },
  "kernelspec": {
   "display_name": "conv_test",
   "language": "python",
   "name": "python3"
  },
  "language_info": {
   "codemirror_mode": {
    "name": "ipython",
    "version": 3
   },
   "file_extension": ".py",
   "mimetype": "text/x-python",
   "name": "python",
   "nbconvert_exporter": "python",
   "pygments_lexer": "ipython3",
   "version": "3.11.10"
  }
 },
 "nbformat": 4,
 "nbformat_minor": 0
}
