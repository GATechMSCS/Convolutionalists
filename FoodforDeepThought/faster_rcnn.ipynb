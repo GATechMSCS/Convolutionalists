{
 "cells": [
  {
   "cell_type": "code",
   "execution_count": null,
   "metadata": {
    "colab": {
     "base_uri": "https://localhost:8080/"
    },
    "collapsed": true,
    "executionInfo": {
     "elapsed": 3678,
     "status": "ok",
     "timestamp": 1733852555991,
     "user": {
      "displayName": "Scott Schmidl",
      "userId": "07500865660181256076"
     },
     "user_tz": 360
    },
    "id": "OLE73T11EpzF",
    "outputId": "3e744b7c-ce06-4a20-8d0f-09239d94db6f"
   },
   "outputs": [],
   "source": [
    "# # Mount into drive\n",
    "\n",
    "# from google.colab import drive\n",
    "\n",
    "# drive.mount(\"/content/drive\")\n",
    "\n",
    "# %cd '/content/drive/MyDrive/ColabNotebooks/gt_omscs_ml/deep_learning/Convolutionalists/FoodforDeepThought'\n",
    "\n",
    "# !pip install -q condacolab\n",
    "# import condacolab\n",
    "# condacolab.install()"
   ]
  },
  {
   "cell_type": "code",
   "execution_count": null,
   "metadata": {
    "colab": {
     "base_uri": "https://localhost:8080/"
    },
    "collapsed": true,
    "executionInfo": {
     "elapsed": 86314,
     "status": "ok",
     "timestamp": 1733852642303,
     "user": {
      "displayName": "Scott Schmidl",
      "userId": "07500865660181256076"
     },
     "user_tz": 360
    },
    "id": "WNpfiZpWU9cJ",
    "outputId": "5be1deee-5782-4854-fff4-eb69501f5fa6"
   },
   "outputs": [],
   "source": [
    "# !conda install pip pytorch=2.5.1 torchvision=0.20.1 jupyter ipykernel torchmetrics"
   ]
  },
  {
   "cell_type": "code",
   "execution_count": null,
   "metadata": {
    "colab": {
     "base_uri": "https://localhost:8080/"
    },
    "collapsed": true,
    "executionInfo": {
     "elapsed": 2980,
     "status": "ok",
     "timestamp": 1733852645278,
     "user": {
      "displayName": "Scott Schmidl",
      "userId": "07500865660181256076"
     },
     "user_tz": 360
    },
    "id": "Iqo-K4bMVI6N",
    "outputId": "62004489-8909-4195-8c82-29b2cc6f0bbb"
   },
   "outputs": [],
   "source": [
    "# !pip install openimages ultralytics==8.3.40 opencv-python matplotlib Pillow requests scipy tqdm pandas seaborn tensorboard torchmetrics[detection] transformers==4.46.3"
   ]
  },
  {
   "cell_type": "code",
   "execution_count": 1,
   "metadata": {
    "colab": {
     "base_uri": "https://localhost:8080/"
    },
    "collapsed": true,
    "executionInfo": {
     "elapsed": 272,
     "status": "ok",
     "timestamp": 1733856742536,
     "user": {
      "displayName": "Scott Schmidl",
      "userId": "07500865660181256076"
     },
     "user_tz": 360
    },
    "id": "aEL9vgidEmIV",
    "outputId": "6048dff4-5f27-4d61-d4ad-7b758a09dff8"
   },
   "outputs": [
    {
     "name": "stdout",
     "output_type": "stream",
     "text": [
      "Device being used: cpu\n"
     ]
    }
   ],
   "source": [
    "# utils\n",
    "from src.model_managers.standard_model_manager import (StandardModelManager,\n",
    "                                                       FRCNNModelManager)\n",
    "from tqdm import tqdm, tqdm_notebook\n",
    "import matplotlib as plt\n",
    "import pandas as pd\n",
    "import numpy as np\n",
    "import time\n",
    "import os\n",
    "\n",
    "# torch\n",
    "from torchvision.models.detection.faster_rcnn import FastRCNNPredictor\n",
    "from torchvision.models.detection import (fasterrcnn_resnet50_fpn_v2,\n",
    "                                         fasterrcnn_resnet50_fpn)\n",
    "from torchmetrics.detection.mean_ap import MeanAveragePrecision\n",
    "from torch.utils.data.sampler import SubsetRandomSampler\n",
    "import torchvision.transforms as transforms\n",
    "from torchvision.transforms import v2\n",
    "from torchvision import tv_tensors\n",
    "import torch.optim as optim\n",
    "import torch.nn as nn\n",
    "import torchvision\n",
    "import torch\n",
    "\n",
    "# transfomers\n",
    "from transformers import BertTokenizer, BertForQuestionAnswering\n",
    "from transformers import AutoTokenizer, AutoModelForCausalLM\n",
    "from transformers import GPT2LMHeadModel, GPT2Tokenizer\n",
    "\n",
    "# load data\n",
    "from src.dataset_loaders.download_openimages import (OpenImagesLoader,\n",
    "                                                     ImageLoaderFRCNN)\n",
    "from src.dataset_loaders.fruits360 import Fruits360Loader\n",
    "\n",
    "# set device\n",
    "device = 'cpu'\n",
    "if torch.cuda.is_available():\n",
    "    device = 'cuda'\n",
    "elif torch.backends.mps.is_available():\n",
    "    device = 'mps'\n",
    "\n",
    "print(f\"Device being used: {device}\")"
   ]
  },
  {
   "cell_type": "code",
   "execution_count": 2,
   "metadata": {
    "colab": {
     "base_uri": "https://localhost:8080/"
    },
    "collapsed": true,
    "executionInfo": {
     "elapsed": 984,
     "status": "ok",
     "timestamp": 1733856745630,
     "user": {
      "displayName": "Scott Schmidl",
      "userId": "07500865660181256076"
     },
     "user_tz": 360
    },
    "id": "hHVMjbILEmId",
    "outputId": "b6393551-3fc6-4c4e-fb66-c5b49c74368d"
   },
   "outputs": [
    {
     "data": {
      "text/plain": [
       "(12531, 1601, 1660)"
      ]
     },
     "execution_count": 2,
     "metadata": {},
     "output_type": "execute_result"
    }
   ],
   "source": [
    "def get_transform(train):\n",
    "    def resize_with_boxes(image, target):\n",
    "        orig_size = image.size\n",
    "        new_size = 100\n",
    "        image = v2.Resize((new_size, new_size))(image)\n",
    "        if target is not None:\n",
    "            scale_x, scale_y = new_size / orig_size[0], new_size / orig_size[1]\n",
    "            target[\"boxes\"][:, [0, 2]] *= scale_x\n",
    "            target[\"boxes\"][:, [1, 3]] *= scale_y\n",
    "        return image, target\n",
    "    #transf = []\n",
    "    #transf.append(v2.Resize((100)))\n",
    "    #transf.append(v2.ToTensor())\n",
    "    transf = [resize_with_boxes, v2.ToTensor()]\n",
    "    \n",
    "    if train:\n",
    "        transf.append(v2.Normalize(mean=[0.485,\n",
    "                                         0.456,\n",
    "                                         0.406],\n",
    "                                   std=[0.229,\n",
    "                                        0.224,\n",
    "                                        0.225]))\n",
    "\n",
    "    return v2.Compose(transf)\n",
    "\n",
    "ttform = get_transform(train=True)\n",
    "vtform = get_transform(train=False)\n",
    "\n",
    "loader = OpenImagesLoader(random_seed=101,\n",
    "                         batch_size=2,\n",
    "                         perc_keep=1.0,\n",
    "                         num_images_per_class=500,)\n",
    "opim_dir = loader.data_dir\n",
    "seed = loader.random_seed\n",
    "batch_size = loader.batch_size\n",
    "per_keep = loader.perc_keep\n",
    "im_per_class = loader.num_images_per_class\n",
    "\n",
    "ann_form = loader.annotation_format\n",
    "classes = loader.classes\n",
    "class2index = loader.class_2_index\n",
    "train_direct = loader.train_dir\n",
    "val_direct = loader.val_dir\n",
    "test_direct = loader.test_dir\n",
    "\n",
    "train_dataset = ImageLoaderFRCNN(root=train_direct,\n",
    "                                 classes=classes,\n",
    "                                 tforms=ttform)\n",
    "val_dataset = ImageLoaderFRCNN(root=val_direct,\n",
    "                               classes=classes,\n",
    "                               tforms=vtform)\n",
    "test_dataset = ImageLoaderFRCNN(root=test_direct,\n",
    "                               classes=classes,)\n",
    "\n",
    "len(train_dataset), len(val_dataset), len(test_dataset)"
   ]
  },
  {
   "cell_type": "code",
   "execution_count": 3,
   "metadata": {
    "colab": {
     "base_uri": "https://localhost:8080/"
    },
    "executionInfo": {
     "elapsed": 4,
     "status": "ok",
     "timestamp": 1733856745630,
     "user": {
      "displayName": "Scott Schmidl",
      "userId": "07500865660181256076"
     },
     "user_tz": 360
    },
    "id": "p2k3Nc-qEmIe",
    "outputId": "cba08b37-e5a8-445d-dacf-b6929dc5cc77"
   },
   "outputs": [
    {
     "data": {
      "text/plain": [
       "(375, 50, 50)"
      ]
     },
     "execution_count": 3,
     "metadata": {},
     "output_type": "execute_result"
    }
   ],
   "source": [
    "train_idx = list(range(750))  # This will include indices 0 to 2500\n",
    "val_idx = list(range(100))  # This will include indices 0 to 1000\n",
    "test_idx = list(range(100))  # This will include indices 0 to 1000\n",
    "tr_samp = SubsetRandomSampler(train_idx)\n",
    "val_samp = SubsetRandomSampler(val_idx)\n",
    "te_samp = SubsetRandomSampler(test_idx)\n",
    "\n",
    "def collate(data):\n",
    "    return tuple(zip(*data))\n",
    "\n",
    "train_loader = torch.utils.data.DataLoader(train_dataset,\n",
    "                                           batch_size=batch_size,\n",
    "                                           shuffle=False,\n",
    "                                           num_workers=4,\n",
    "                                           collate_fn=collate,\n",
    "                                           sampler=tr_samp)\n",
    "val_loader = torch.utils.data.DataLoader(val_dataset,\n",
    "                                         batch_size=batch_size,\n",
    "                                         shuffle=False,\n",
    "                                         num_workers=4,\n",
    "                                         collate_fn=collate,\n",
    "                                         sampler=val_samp)\n",
    "test_loader = torch.utils.data.DataLoader(test_dataset,\n",
    "                                         batch_size=batch_size,\n",
    "                                         shuffle=False,\n",
    "                                         num_workers=4,\n",
    "                                         collate_fn=collate,\n",
    "                                         sampler=te_samp)\n",
    "len(train_loader), len(val_loader), len(test_loader)"
   ]
  },
  {
   "cell_type": "code",
   "execution_count": 4,
   "metadata": {
    "executionInfo": {
     "elapsed": 1234,
     "status": "ok",
     "timestamp": 1733856746861,
     "user": {
      "displayName": "Scott Schmidl",
      "userId": "07500865660181256076"
     },
     "user_tz": 360
    },
    "id": "do8QGVOJEmIf"
   },
   "outputs": [],
   "source": [
    "# create model\n",
    "def get_model(num_classes):\n",
    "    model = fasterrcnn_resnet50_fpn_v2(weights=\"COCO_V1\")\n",
    "\n",
    "    in_features = model.roi_heads.box_predictor.cls_score.in_features\n",
    "    model.roi_heads.box_predictor = FastRCNNPredictor(in_features, num_classes)\n",
    "\n",
    "    return model\n",
    "\n",
    "model = get_model(num_classes=138)"
   ]
  },
  {
   "cell_type": "code",
   "execution_count": 5,
   "metadata": {
    "executionInfo": {
     "elapsed": 3,
     "status": "ok",
     "timestamp": 1733856746861,
     "user": {
      "displayName": "Scott Schmidl",
      "userId": "07500865660181256076"
     },
     "user_tz": 360
    },
    "id": "AWGOjtEZEmIg"
   },
   "outputs": [],
   "source": [
    "# train and evaluate model\n",
    "lr = 0.001\n",
    "epochs = 10\n",
    "metric = MeanAveragePrecision()\n",
    "optimizer = optim.AdamW(model.parameters(), lr=lr)\n",
    "smmfr = FRCNNModelManager(model=model,\n",
    "                         metric=metric,\n",
    "                         optimizer=optimizer,\n",
    "                         device=device)"
   ]
  },
  {
   "cell_type": "markdown",
   "metadata": {},
   "source": [
    "Before transf img size: (1024, 1024)\n",
    "boxes size:\n",
    "tensor([[147., 243., 252., 339.],\n",
    "        [148., 336., 235., 427.],\n",
    "        [198., 385., 318., 460.],\n",
    "        [275., 230., 380., 324.],\n",
    "        [291.,  51., 425., 144.],\n",
    "        [316., 280., 519., 494.],\n",
    "        [344.,  97., 536., 291.],\n",
    "        [390., 702., 579., 903.],\n",
    "        [577., 265., 644., 366.],\n",
    "        [601., 356., 812., 556.],\n",
    "        [604., 155., 720., 284.],\n",
    "        [617., 934., 800., 971.],\n",
    "        [659., 284., 740., 372.],\n",
    "        [824., 307., 964., 494.],\n",
    "        [865., 716., 992., 961.]])\n",
    "\n",
    "\n",
    "After transf img size: torch.Size([3, 100, 100])\n",
    "boxes size:\n",
    "tensor([[14.3555, 23.7305, 24.6094, 33.1055],\n",
    "        [14.4531, 32.8125, 22.9492, 41.6992],\n",
    "        [19.3359, 37.5977, 31.0547, 44.9219],\n",
    "        [26.8555, 22.4609, 37.1094, 31.6406],\n",
    "        [28.4180,  4.9805, 41.5039, 14.0625],\n",
    "        [30.8594, 27.3438, 50.6836, 48.2422],\n",
    "        [33.5938,  9.4727, 52.3438, 28.4180],\n",
    "        [38.0859, 68.5547, 56.5430, 88.1836],\n",
    "        [56.3477, 25.8789, 62.8906, 35.7422],\n",
    "        [58.6914, 34.7656, 79.2969, 54.2969],\n",
    "        [58.9844, 15.1367, 70.3125, 27.7344],\n",
    "        [60.2539, 91.2109, 78.1250, 94.8242],\n",
    "        [64.3555, 27.7344, 72.2656, 36.3281],\n",
    "        [80.4688, 29.9805, 94.1406, 48.2422],\n",
    "        [84.4727, 69.9219, 96.8750, 93.8477]])"
   ]
  },
  {
   "cell_type": "code",
   "execution_count": null,
   "metadata": {
    "colab": {
     "base_uri": "https://localhost:8080/",
     "height": 671
    },
    "collapsed": true,
    "executionInfo": {
     "elapsed": 1561552,
     "status": "error",
     "timestamp": 1733858309083,
     "user": {
      "displayName": "Scott Schmidl",
      "userId": "07500865660181256076"
     },
     "user_tz": 360
    },
    "id": "r6DhEiYbEmIh",
    "outputId": "cd51ea82-b01b-467c-989e-d11b6b88e21c"
   },
   "outputs": [],
   "source": [
    "smmfr.train(training_data_loader=train_loader,\n",
    "            validation_data_loader=val_loader,\n",
    "            epochs=epochs,)"
   ]
  },
  {
   "cell_type": "code",
   "execution_count": null,
   "metadata": {
    "id": "xJ2D0c9OsfHw"
   },
   "outputs": [],
   "source": []
  }
 ],
 "metadata": {
  "accelerator": "GPU",
  "colab": {
   "gpuType": "T4",
   "provenance": []
  },
  "kernelspec": {
   "display_name": "convolutionalists",
   "language": "python",
   "name": "python3"
  },
  "language_info": {
   "codemirror_mode": {
    "name": "ipython",
    "version": 3
   },
   "file_extension": ".py",
   "mimetype": "text/x-python",
   "name": "python",
   "nbconvert_exporter": "python",
   "pygments_lexer": "ipython3",
   "version": "3.11.10"
  }
 },
 "nbformat": 4,
 "nbformat_minor": 0
}
