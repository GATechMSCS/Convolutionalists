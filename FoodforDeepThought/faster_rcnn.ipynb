{
 "cells": [
  {
   "cell_type": "code",
   "execution_count": 1,
   "metadata": {},
   "outputs": [
    {
     "name": "stdout",
     "output_type": "stream",
     "text": [
      "Device being used: cpu\n"
     ]
    }
   ],
   "source": [
    "# utils\n",
    "from src.model_managers.standard_model_manager import StandardModelManager\n",
    "from src.model_managers.standard_model_manager import FRCNNModelManager\n",
    "from tqdm import tqdm, tqdm_notebook\n",
    "import matplotlib as plt\n",
    "import pandas as pd\n",
    "import numpy as np\n",
    "import time\n",
    "import os\n",
    "\n",
    "# torch\n",
    "from torchvision.models.detection.faster_rcnn import FastRCNNPredictor\n",
    "from torchvision.models.detection import fasterrcnn_resnet50_fpn_v2\n",
    "from torchvision.models.detection import fasterrcnn_resnet50_fpn\n",
    "import torch.optim as optim\n",
    "import torch.nn as nn\n",
    "import torchvision\n",
    "import torch\n",
    "\n",
    "# transfomers\n",
    "from transformers import BertTokenizer, BertForQuestionAnswering\n",
    "from transformers import AutoTokenizer, AutoModelForCausalLM\n",
    "from transformers import GPT2LMHeadModel, GPT2Tokenizer\n",
    "\n",
    "# load data\n",
    "from src.dataset_loaders.fruits360 import Fruits360Loader\n",
    "from src.dataset_loaders.download_openimages import OpenImagesLoader\n",
    "\n",
    "# set device\n",
    "device = 'cpu'\n",
    "if torch.cuda.is_available():\n",
    "    device = 'cuda'\n",
    "elif torch.backends.mps.is_available():\n",
    "    device = 'mps'\n",
    "\n",
    "print(f\"Device being used: {device}\")"
   ]
  },
  {
   "cell_type": "code",
   "execution_count": null,
   "metadata": {},
   "outputs": [],
   "source": [
    "# get/create model\n",
    "def get_model(num_classes):\n",
    "    # model types: fasterrcnn_resnet50_fpn,\n",
    "    #              fasterrcnn_resnet50_fpn_v2,\n",
    "    #              fasterrcnn_mobilenet_v3_large_fpn,\n",
    "    #              fasterrcnn_mobilenet_v3_large_320_fpn\n",
    "    model = fasterrcnn_resnet50_fpn_v2(weights=\"DEFAULT\")\n",
    "\n",
    "    in_features = model.roi_heads.box_predictor.cls_score.in_features\n",
    "    model.roi_heads.box_predictor = FastRCNNPredictor(in_features, num_classes)\n",
    "    \n",
    "    return model\n",
    "        \n",
    "model = get_model(num_classes=138)"
   ]
  },
  {
   "cell_type": "code",
   "execution_count": null,
   "metadata": {},
   "outputs": [],
   "source": [
    "# train and evaluate model\n",
    "lr = 0.001\n",
    "epochs = 10\n",
    "criterion = nn.CrossEntropyLoss()\n",
    "optimizer = optim.AdamW(model.parameters(), lr=lr)\n",
    "smm = FRCNNModelManager(model=model, \n",
    "                        criterion=criterion, \n",
    "                        optimizer=optimizer,\n",
    "                        device=device)"
   ]
  },
  {
   "cell_type": "code",
   "execution_count": 58,
   "metadata": {},
   "outputs": [],
   "source": [
    "# get data\n",
    "fl = Fruits360Loader(random_seed=101,\n",
    "                     batch_size=128,\n",
    "                     perc_keep=1.0)\n",
    "train_fl, val_fl, test_fl = fl.load_data()\n",
    "\n",
    "oil = OpenImagesLoader(random_seed=101,\n",
    "                       batch_size=128,\n",
    "                       perc_keep=1.0,\n",
    "                       num_images_per_class=500,)\n",
    "# oil.download_data(annotation_format='pascal')\n",
    "# oil.split_data()\n",
    "train, val, test = oil.get_datasets()\n",
    "csb = pd.read_csv(\"data/openimages_csv_dir/class-descriptions-boxable.csv\",\n",
    "                  header=None,\n",
    "                  names=['LabelName',\n",
    "                           'Label'])\n",
    "trabb = pd.read_csv(\"data/openimages_csv_dir/train-annotations-bbox.csv\",)\n",
    "vabb = pd.read_csv(\"data/openimages_csv_dir/validation-annotations-bbox.csv\",)\n",
    "teabb = pd.read_csv(\"data/openimages_csv_dir/test-annotations-bbox.csv\",)"
   ]
  },
  {
   "cell_type": "code",
   "execution_count": null,
   "metadata": {},
   "outputs": [],
   "source": [
    "# fruits 360\n",
    "# smm.train(training_data_loader=train_fl,\n",
    "#           validation_data_loader=val,\n",
    "#           epochs=epochs,\n",
    "#           has_box=False)\n",
    "\n",
    "# smm.train(training_data_loader=train,\n",
    "#           validation_data_loader=val,\n",
    "#           epochs=epochs,\n",
    "#           has_box=True)"
   ]
  },
  {
   "cell_type": "code",
   "execution_count": null,
   "metadata": {},
   "outputs": [],
   "source": [
    "food_cats = [\"Hot dog\", \"French fries\", \"Waffle\", \"Pancake\", \"Burrito\", \"Pretzel\",\n",
    "            \"Popcorn\", \"Cookie\", \"Muffin\", \"Ice cream\", \"Cake\", \"Candy\",\n",
    "            \"Guacamole\", \"Apple\", \"Grape\", \"Common fig\", \"Pear\",\n",
    "            \"Strawberry\", \"Tomato\", \"Lemon\", \"Banana\", \"Orange\", \"Peach\", \"Mango\",\n",
    "            \"Pineapple\", \"Grapefruit\", \"Pomegranate\", \"Watermelon\", \"Cantaloupe\",\n",
    "            \"Egg (Food)\", \"Bagel\", \"Bread\", \"Doughnut\", \"Croissant\",\n",
    "            \"Tart\", \"Mushroom\", \"Pasta\", \"Pizza\", \"Squid\",\n",
    "            \"Oyster\", \"Lobster\", \"Shrimp\", \"Crab\", \"Taco\", \"Cooking spray\",\n",
    "            \"Cucumber\", \"Radish\", \"Artichoke\", \"Potato\", \"Garden Asparagus\",\n",
    "            \"Pumpkin\", \"Zucchini\", \"Cabbage\", \"Carrot\", \"Salad\",\n",
    "            \"Broccoli\", \"Bell pepper\", \"Winter melon\", \"Honeycomb\",\n",
    "            \"Hamburger\", \"Submarine sandwich\", \"Cheese\", \"Milk\", \"Sushi\"]\n",
    "\n",
    "csb = csb[csb['Label'].isin(food_cats)]\n",
    "csb\n",
    "\n",
    "print(len(trabb))\n",
    "trabb = trabb[trabb['LabelName'].isin(csb[\"LabelName\"])]\n",
    "print(len(trabb))\n",
    "trabb_csb = pd.merge(csb, trabb, on='LabelName', how='inner')\n",
    "print(len(trabb_csb))\n",
    "trabb_csb\n",
    "\n",
    "print(len(vabb))\n",
    "vabb = vabb[vabb['LabelName'].isin(csb[\"LabelName\"])]\n",
    "print(len(vabb))\n",
    "vabb_csb = pd.merge(csb, vabb, on='LabelName', how='inner')\n",
    "print(len(vabb_csb))\n",
    "vabb_csb\n",
    "\n",
    "print(len(teabb))\n",
    "teabb = teabb[teabb['LabelName'].isin(csb[\"LabelName\"])]\n",
    "print(len(teabb))\n",
    "teabb_csb = pd.merge(csb, teabb, on='LabelName', how='inner')\n",
    "print(len(teabb_csb))\n",
    "teabb_csb"
   ]
  },
  {
   "cell_type": "code",
   "execution_count": null,
   "metadata": {},
   "outputs": [],
   "source": [
    "train_target = [{\"label\": torch.Tensor(row[\"Label\"]),\n",
    "                 \"boxes\": torch.tensor([row[\"XMin\"], row[\"XMax\"], row[\"YMin\"], row[\"YMax\"]])}\n",
    "                for _, row in trabb_csb.iterrows()]\n",
    "train_target"
   ]
  },
  {
   "cell_type": "code",
   "execution_count": null,
   "metadata": {},
   "outputs": [],
   "source": []
  }
 ],
 "metadata": {
  "kernelspec": {
   "display_name": "convolutionalists",
   "language": "python",
   "name": "python3"
  },
  "language_info": {
   "codemirror_mode": {
    "name": "ipython",
    "version": 3
   },
   "file_extension": ".py",
   "mimetype": "text/x-python",
   "name": "python",
   "nbconvert_exporter": "python",
   "pygments_lexer": "ipython3",
   "version": "3.11.10"
  }
 },
 "nbformat": 4,
 "nbformat_minor": 2
}
