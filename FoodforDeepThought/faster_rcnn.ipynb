{
 "cells": [
  {
   "cell_type": "code",
   "execution_count": 1,
   "metadata": {},
   "outputs": [
    {
     "name": "stdout",
     "output_type": "stream",
     "text": [
      "Device being used: cpu\n"
     ]
    }
   ],
   "source": [
    "# utils\n",
    "from src.model_managers.standard_model_manager import StandardModelManager\n",
    "from src.model_managers.standard_model_manager import FRCNNModelManager\n",
    "from tqdm import tqdm, tqdm_notebook\n",
    "import matplotlib as plt\n",
    "import numpy as np\n",
    "import time\n",
    "import os\n",
    "\n",
    "# torch\n",
    "from torchvision.models.detection.faster_rcnn import FastRCNNPredictor\n",
    "from torchvision.models.detection import fasterrcnn_resnet50_fpn_v2\n",
    "from torchvision.models.detection import fasterrcnn_resnet50_fpn\n",
    "import torch.optim as optim\n",
    "import torch.nn as nn\n",
    "import torchvision\n",
    "import torch\n",
    "\n",
    "# transfomers\n",
    "from transformers import BertTokenizer, BertForQuestionAnswering\n",
    "from transformers import AutoTokenizer, AutoModelForCausalLM\n",
    "from transformers import GPT2LMHeadModel, GPT2Tokenizer\n",
    "\n",
    "# load data\n",
    "from src.dataset_loaders.fruits360 import Fruits360Loader\n",
    "from src.dataset_loaders.download_openimages import OpenImagesLoader\n",
    "\n",
    "# set device\n",
    "device = 'cpu'\n",
    "if torch.cuda.is_available():\n",
    "    device = 'cuda'\n",
    "elif torch.backends.mps.is_available():\n",
    "    device = 'mps'\n",
    "\n",
    "print(f\"Device being used: {device}\")"
   ]
  },
  {
   "cell_type": "code",
   "execution_count": null,
   "metadata": {},
   "outputs": [],
   "source": [
    "# get data\n",
    "fl = Fruits360Loader(random_seed=101,\n",
    "                     batch_size=128,\n",
    "                     perc_keep=1.0)\n",
    "train_fl, val_fl, test_fl = fl.load_data()\n",
    "\n",
    "oil = OpenImagesLoader(random_seed=101,\n",
    "                       batch_size=128,\n",
    "                       perc_keep=1.0)\n",
    "# oil.download_data()\n",
    "# oil.split_data()"
   ]
  },
  {
   "cell_type": "code",
   "execution_count": null,
   "metadata": {},
   "outputs": [],
   "source": [
    "def get_datasets(self):\n",
    "\n",
    "        \"\"\" This function strives to get datasets to the local data directory if\n",
    "        it has not already been downloaded previously. This function also splits the datasets into training,\n",
    "        validation, and testing sets, assigning them as class variables. \"\"\"\n",
    "\n",
    "        # Note - this assumes the openimages  dataset has already been downloaded to their respective directories:.\n",
    "        # If the dataset has not been downloaded, then please manually download it and place it in the directories\n",
    "        # as described in the class initialization:\n",
    "        self.train_dir = os.path.join(self.data_dir, \"train\")  # Directory in which dataset resides\n",
    "        self.val_dir = os.path.join(self.data_dir, \"val\")\n",
    "        self.test_dir = os.path.join(self.data_dir, \"test\")\n",
    "        train_raw = ImageFolder(self.train_dir, transform=self.transforms)\n",
    "        val_raw = ImageFolder(self.val_dir, transform=self.transforms)\n",
    "        test_raw = ImageFolder(self.test_dir, transform=self.transforms)\n",
    "\n",
    "        # Seed generator:\n",
    "        generator = torch.Generator().manual_seed(self.random_seed)\n",
    "\n",
    "        if self.perc_keep != 1.00:\n",
    "            # Calculating the limited sizes of the datasets to keep:\n",
    "            train_size = int(len(train_raw) * self.perc_keep)\n",
    "            val_size = int(len(val_raw) * self.perc_keep)\n",
    "            test_size = int(len(test_raw) * self.perc_keep)\n",
    "\n",
    "            # Decreasing the size of the datasets using random_split:\n",
    "            train_raw, _ = random_split(train_raw, [train_size, (len(train_raw)-train_size)])\n",
    "            val_raw, _ = random_split(val_raw, [val_size, (len(val_raw)-val_size)])\n",
    "            test_raw, _ = random_split(test_raw, [test_size, (len(test_raw)-test_size)])\n",
    "\n",
    "        train_set = DataLoader(train_raw, batch_size=self.batch_size, shuffle=True) # Applying a DataLoader to the test set\n",
    "        val_set = DataLoader(val_raw, batch_size=self.batch_size, shuffle=True) # Applying a DataLoader to the test set\n",
    "        test_set = DataLoader(test_raw, batch_size=self.batch_size, shuffle=True) # Applying a DataLoader to the test set\n",
    "        \n",
    "        return train_set, val_set, test_set\n"
   ]
  },
  {
   "cell_type": "code",
   "execution_count": null,
   "metadata": {},
   "outputs": [],
   "source": [
    "# get/create model\n",
    "def get_model(num_classes):\n",
    "    # model types: fasterrcnn_resnet50_fpn,\n",
    "    #              fasterrcnn_resnet50_fpn_v2,\n",
    "    #              fasterrcnn_mobilenet_v3_large_fpn,\n",
    "    #              fasterrcnn_mobilenet_v3_large_320_fpn\n",
    "    model = fasterrcnn_resnet50_fpn_v2(weights=\"DEFAULT\")\n",
    "\n",
    "    in_features = model.roi_heads.box_predictor.cls_score.in_features\n",
    "    model.roi_heads.box_predictor = FastRCNNPredictor(in_features, num_classes)\n",
    "    \n",
    "    return model\n",
    "        \n",
    "model = get_model(num_classes=138)"
   ]
  },
  {
   "cell_type": "code",
   "execution_count": null,
   "metadata": {},
   "outputs": [],
   "source": [
    "# train and evaluate model\n",
    "lr = 0.001\n",
    "epochs = 10\n",
    "criterion = nn.CrossEntropyLoss()\n",
    "optimizer = optim.AdamW(model.parameters(), lr=lr)\n",
    "smm = FRCNNModelManager(model=model, \n",
    "                        criterion=criterion, \n",
    "                        optimizer=optimizer,\n",
    "                        device=device)"
   ]
  },
  {
   "cell_type": "code",
   "execution_count": null,
   "metadata": {},
   "outputs": [
    {
     "name": "stdout",
     "output_type": "stream",
     "text": [
      "idx: 0\n",
      "len data: 128\n",
      " len target: 128\n",
      "idx: 1\n",
      "len data: 128\n",
      " len target: 128\n"
     ]
    }
   ],
   "source": [
    "for idx, (data, target) in enumerate(train_fl):\n",
    "    if idx < 2:\n",
    "        print(f\"idx: {idx}\\nlen data: {len(data)}\\n len target: {len(target)}\")\n",
    "        if idx == 1:\n",
    "            break"
   ]
  },
  {
   "cell_type": "code",
   "execution_count": null,
   "metadata": {},
   "outputs": [],
   "source": [
    "smm.train(training_data_loader=train_fl,\n",
    "          validation_data_loader=val_fl,\n",
    "          epochs=epochs)"
   ]
  },
  {
   "cell_type": "code",
   "execution_count": null,
   "metadata": {},
   "outputs": [],
   "source": []
  }
 ],
 "metadata": {
  "kernelspec": {
   "display_name": "convolutionalists",
   "language": "python",
   "name": "python3"
  },
  "language_info": {
   "codemirror_mode": {
    "name": "ipython",
    "version": 3
   },
   "file_extension": ".py",
   "mimetype": "text/x-python",
   "name": "python",
   "nbconvert_exporter": "python",
   "pygments_lexer": "ipython3",
   "version": "3.11.10"
  }
 },
 "nbformat": 4,
 "nbformat_minor": 2
}
