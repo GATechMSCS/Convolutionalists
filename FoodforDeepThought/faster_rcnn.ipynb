{
 "cells": [
  {
   "cell_type": "code",
   "execution_count": null,
   "metadata": {},
   "outputs": [
    {
     "name": "stdout",
     "output_type": "stream",
     "text": [
      "Device being used: cpu\n"
     ]
    }
   ],
   "source": [
    "# utils\n",
    "from src.model_managers.standard_model_manager import StandardModelManager\n",
    "from src.model_managers.standard_model_manager import FRCNNModelManager\n",
    "from tqdm import tqdm, tqdm_notebook\n",
    "import matplotlib as plt\n",
    "import pandas as pd\n",
    "import numpy as np\n",
    "import time\n",
    "import os\n",
    "\n",
    "# torch\n",
    "from torchvision.models.detection.faster_rcnn import FastRCNNPredictor\n",
    "from torchvision.models.detection import fasterrcnn_resnet50_fpn_v2\n",
    "from torchvision.models.detection import fasterrcnn_resnet50_fpn\n",
    "import torch.optim as optim\n",
    "import torch.nn as nn\n",
    "import torchvision\n",
    "import torch\n",
    "\n",
    "# transfomers\n",
    "from transformers import BertTokenizer, BertForQuestionAnswering\n",
    "from transformers import AutoTokenizer, AutoModelForCausalLM\n",
    "from transformers import GPT2LMHeadModel, GPT2Tokenizer\n",
    "\n",
    "# load data\n",
    "from src.dataset_loaders.fruits360 import Fruits360Loader\n",
    "from src.dataset_loaders.download_openimages import OpenImagesLoader\n",
    "\n",
    "# set device\n",
    "device = 'cpu'\n",
    "if torch.cuda.is_available():\n",
    "    device = 'cuda'\n",
    "elif torch.backends.mps.is_available():\n",
    "    device = 'mps'\n",
    "\n",
    "print(f\"Device being used: {device}\")"
   ]
  },
  {
   "cell_type": "code",
   "execution_count": 4,
   "metadata": {},
   "outputs": [],
   "source": [
    "# get data\n",
    "fl = Fruits360Loader(random_seed=101,\n",
    "                     batch_size=128,\n",
    "                     perc_keep=1.0)\n",
    "train_fl, val_fl, test_fl = fl.load_data()\n",
    "\n",
    "oil = OpenImagesLoader(random_seed=101,\n",
    "                       batch_size=128,\n",
    "                       perc_keep=1.0,\n",
    "                       num_images_per_class=500,\n",
    "                       annotation_format='pascal')\n",
    "# oil.download_data()\n",
    "# oil.split_data()\n",
    "train, val, test = oil.get_datasets()"
   ]
  },
  {
   "cell_type": "code",
   "execution_count": 5,
   "metadata": {},
   "outputs": [],
   "source": [
    "# get/create model\n",
    "def get_model(num_classes):\n",
    "    # model types: fasterrcnn_resnet50_fpn,\n",
    "    #              fasterrcnn_resnet50_fpn_v2,\n",
    "    #              fasterrcnn_mobilenet_v3_large_fpn,\n",
    "    #              fasterrcnn_mobilenet_v3_large_320_fpn\n",
    "    model = fasterrcnn_resnet50_fpn_v2(weights=\"DEFAULT\")\n",
    "\n",
    "    in_features = model.roi_heads.box_predictor.cls_score.in_features\n",
    "    model.roi_heads.box_predictor = FastRCNNPredictor(in_features, num_classes)\n",
    "    \n",
    "    return model\n",
    "        \n",
    "model = get_model(num_classes=138)"
   ]
  },
  {
   "cell_type": "code",
   "execution_count": 6,
   "metadata": {},
   "outputs": [],
   "source": [
    "# train and evaluate model\n",
    "lr = 0.001\n",
    "epochs = 10\n",
    "criterion = nn.CrossEntropyLoss()\n",
    "optimizer = optim.AdamW(model.parameters(), lr=lr)\n",
    "smm = FRCNNModelManager(model=model, \n",
    "                        criterion=criterion, \n",
    "                        optimizer=optimizer,\n",
    "                        device=device)"
   ]
  },
  {
   "cell_type": "code",
   "execution_count": 7,
   "metadata": {},
   "outputs": [],
   "source": [
    "# print('fruits 360')\n",
    "# for idx, (data, target) in enumerate(train_fl):\n",
    "#     if idx < 2:\n",
    "#         print(f\"{idx} {len(data)} {len(target)}\")\n",
    "#         if idx == 1:\n",
    "#             break\n",
    "\n",
    "# print('\\nopenimages')\n",
    "# for idx, (img, target) in enumerate(train):\n",
    "#     if idx < 2:\n",
    "#         print(f\"{idx} {len(img)} {len(target)}\")\n",
    "#         if idx == 1:\n",
    "#             break\n",
    "# print(f\"\\nopenimages:\\n{len(train)}, {len(val)}, {len(test)}\\nfruit360:\\n{len(train_fl)}, {len(val_fl)}, {len(test_fl)}\")\n",
    "\n",
    "# targets = []\n",
    "# for idx, (data, target) in enumerate(train):\n",
    "#     # Train Batch\n",
    "#     targ = {\"labels\": target}\n",
    "#     targ[\"boxes\"] = smm.generate_hardcoded_boxes(targ[\"labels\"])\n",
    "#     targets.append(targ)\n",
    "#     #roi = smm.prepare_targets(targ[\"labels\"])\n",
    "#     #targets.append(roi)\n",
    "#     if idx == 1:\n",
    "#         break\n",
    "# targets"
   ]
  },
  {
   "cell_type": "code",
   "execution_count": null,
   "metadata": {},
   "outputs": [
    {
     "name": "stderr",
     "output_type": "stream",
     "text": [
      "  0%|          | 0/10 [00:00<?, ?it/s]"
     ]
    }
   ],
   "source": [
    "smm.train(training_data_loader=train_fl,\n",
    "          validation_data_loader=val,\n",
    "          epochs=epochs,\n",
    "          has_box=False)"
   ]
  },
  {
   "cell_type": "code",
   "execution_count": null,
   "metadata": {},
   "outputs": [],
   "source": []
  }
 ],
 "metadata": {
  "kernelspec": {
   "display_name": "convolutionalists",
   "language": "python",
   "name": "python3"
  },
  "language_info": {
   "codemirror_mode": {
    "name": "ipython",
    "version": 3
   },
   "file_extension": ".py",
   "mimetype": "text/x-python",
   "name": "python",
   "nbconvert_exporter": "python",
   "pygments_lexer": "ipython3",
   "version": "3.11.10"
  }
 },
 "nbformat": 4,
 "nbformat_minor": 2
}
