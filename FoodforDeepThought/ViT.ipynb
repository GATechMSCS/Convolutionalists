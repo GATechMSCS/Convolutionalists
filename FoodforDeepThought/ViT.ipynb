{
 "cells": [
  {
   "cell_type": "code",
   "execution_count": 1,
   "id": "ae27b52a-395a-4cf1-b771-2b46271ec61c",
   "metadata": {},
   "outputs": [],
   "source": [
    "import os\n",
    "import time\n",
    "import matplotlib as plt\n",
    "import numpy as np\n",
    "\n",
    "import torch\n",
    "import torch.nn as nn\n",
    "import torch.optim as optim\n",
    "import torchvision\n",
    "\n",
    "from src.datasets.food101 import food101\n",
    "from tqdm import tqdm, tqdm_notebook\n",
    "\n"
   ]
  },
  {
   "cell_type": "code",
   "execution_count": 2,
   "id": "af7f95ad-cf5c-4ded-a359-ac932338764b",
   "metadata": {},
   "outputs": [
    {
     "name": "stdout",
     "output_type": "stream",
     "text": [
      "Device being used: cuda\n"
     ]
    }
   ],
   "source": [
    "# Device Configuration:\n",
    "if torch.cuda.is_available():\n",
    "    device = 'cuda'\n",
    "else:\n",
    "    device = 'cpu'\n",
    "\n",
    "print(f\"Device being used: {device}\")"
   ]
  },
  {
   "cell_type": "code",
   "execution_count": 5,
   "id": "e6131883-aec7-44c4-8c09-7079ed35629e",
   "metadata": {},
   "outputs": [
    {
     "ename": "ValueError",
     "evalue": "too many values to unpack (expected 2)",
     "output_type": "error",
     "traceback": [
      "\u001b[1;31m---------------------------------------------------------------------------\u001b[0m",
      "\u001b[1;31mValueError\u001b[0m                                Traceback (most recent call last)",
      "Cell \u001b[1;32mIn[5], line 11\u001b[0m\n\u001b[0;32m      8\u001b[0m food101_loader\u001b[38;5;241m.\u001b[39mload_data()\n\u001b[0;32m     10\u001b[0m counter \u001b[38;5;241m=\u001b[39m \u001b[38;5;241m0\u001b[39m\n\u001b[1;32m---> 11\u001b[0m \u001b[38;5;28;01mfor\u001b[39;00m idx, (data, target) \u001b[38;5;129;01min\u001b[39;00m \u001b[38;5;28menumerate\u001b[39m(food101_loader\u001b[38;5;241m.\u001b[39mtrain):\n\u001b[0;32m     12\u001b[0m     \u001b[38;5;28mprint\u001b[39m(counter)    \n\u001b[0;32m     13\u001b[0m     counter\u001b[38;5;241m+\u001b[39m\u001b[38;5;241m=\u001b[39m\u001b[38;5;241m1\u001b[39m\n",
      "\u001b[1;31mValueError\u001b[0m: too many values to unpack (expected 2)"
     ]
    }
   ],
   "source": [
    "### Loading Food101 Dataset:\n",
    "\n",
    "# Data Configuration:\n",
    "PERC_KEEP = 0.50 # Proportion of data from datasets to keep\n",
    "BATCH_SIZE = 64 # Batch size\n",
    "\n",
    "food101_loader = food101(batch_size=BATCH_SIZE, perc_keep=PERC_KEEP)\n",
    "food101_loader.load_data()\n",
    "\n",
    "\n"
   ]
  },
  {
   "cell_type": "code",
   "execution_count": null,
   "id": "1aed006d-a028-4a65-bdd1-080f8089107c",
   "metadata": {},
   "outputs": [],
   "source": [
    "### Loading Food 2k dataset:\n",
    "\n",
    "\n",
    "\n",
    "\n",
    "\n"
   ]
  },
  {
   "cell_type": "code",
   "execution_count": null,
   "id": "0ea25b33-1c44-454d-986d-b0b61bdf9ea5",
   "metadata": {},
   "outputs": [],
   "source": [
    "### Creating ViT Models:"
   ]
  }
 ],
 "metadata": {
  "kernelspec": {
   "display_name": "Python 3 (ipykernel)",
   "language": "python",
   "name": "python3"
  },
  "language_info": {
   "codemirror_mode": {
    "name": "ipython",
    "version": 3
   },
   "file_extension": ".py",
   "mimetype": "text/x-python",
   "name": "python",
   "nbconvert_exporter": "python",
   "pygments_lexer": "ipython3",
   "version": "3.9.20"
  }
 },
 "nbformat": 4,
 "nbformat_minor": 5
}
