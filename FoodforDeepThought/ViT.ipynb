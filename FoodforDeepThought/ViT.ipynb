{
 "cells": [
  {
   "cell_type": "code",
   "execution_count": 1,
   "id": "ae27b52a-395a-4cf1-b771-2b46271ec61c",
   "metadata": {},
   "outputs": [],
   "source": [
    "import os\n",
    "import time\n",
    "import matplotlib.pyplot as plt\n",
    "import numpy as np\n",
    "\n",
    "import torch\n",
    "import torch.nn as nn\n",
    "import torch.optim as optim\n",
    "import torchvision\n",
    "from torchvision.models import vit_b_16, vit_l_16\n",
    "from torchvision.models import ViT_B_16_Weights\n",
    "from src.model_managers.standard_model_manager import StandardModelManager\n",
    "\n",
    "from src.dataset_loaders.fruits360 import Fruits360Loader\n",
    "from tqdm import tqdm, tqdm_notebook\n",
    "\n"
   ]
  },
  {
   "cell_type": "code",
   "execution_count": 2,
   "id": "af7f95ad-cf5c-4ded-a359-ac932338764b",
   "metadata": {},
   "outputs": [
    {
     "name": "stdout",
     "output_type": "stream",
     "text": [
      "Device being used: cuda\n"
     ]
    }
   ],
   "source": [
    "# Device Configuration:\n",
    "if torch.cuda.is_available():\n",
    "    device = 'cuda'\n",
    "else:\n",
    "    device = 'cpu'\n",
    "\n",
    "print(f\"Device being used: {device}\")"
   ]
  },
  {
   "cell_type": "code",
   "execution_count": 4,
   "id": "49d0b78a-58d9-4169-99bd-3539ece25ba8",
   "metadata": {},
   "outputs": [
    {
     "name": "stdout",
     "output_type": "stream",
     "text": [
      "111\n",
      "28\n",
      "47\n"
     ]
    }
   ],
   "source": [
    "### Loading Fruits360 dataset:\n",
    "\n",
    "# Data Configuration & Hyperparameters:\n",
    "PERC_KEEP = 0.25 # Proportion of data from datasets to keep\n",
    "BATCH_SIZE = 128 # Batch size\n",
    "EPOCHS = 10\n",
    "LEARNING_RATE = 5e-4\n",
    "\n",
    "fruits360_loader = Fruits360Loader(batch_size=BATCH_SIZE, perc_keep=PERC_KEEP)\n",
    "train_360, val_360, test_360 = fruits360_loader.load_data()\n",
    "\n",
    "print(f\"Number of Batches in Training Set: {len(train_360)}\")\n",
    "print(f\"Number of Batches in Validation Set: {len(val_360)}\")\n",
    "print(f\"Number of Batches in Testing Set: {len(test_360)}\")\n"
   ]
  },
  {
   "cell_type": "code",
   "execution_count": 5,
   "id": "f9323d22-4e15-45a9-86e5-248623f62f2c",
   "metadata": {},
   "outputs": [],
   "source": [
    "# Loading vit_b_16 model with pre-trained weights on the ImageNet dataset:\n",
    "vit_b = vit_b_16(weights=ViT_B_16_Weights.IMAGENET1K_V1)\n",
    "\n",
    "# Number of classes of the Fruit360 dataset:\n",
    "num_classes = 141\n",
    "\n",
    "# Adjusting the last layer of the transformer to perform classification on the Fruits360 dataset:\n",
    "vit_b.heads.head = nn.Linear(in_features=768, out_features=num_classes)\n",
    "\n",
    "# Freezing the architecture:\n",
    "for param in vit_b.parameters():\n",
    "    param.requires_grad = False\n",
    "\n",
    "# Unfreezing the architecture in the last layer to fine-tune model:\n",
    "for param in vit_b.heads.head.parameters():\n",
    "    param.requires_grad = True\n",
    "\n",
    "# Model Training Configuration:\n",
    "criterion = nn.CrossEntropyLoss()\n",
    "optimizer = optim.AdamW(vit_b.parameters(), lr=LEARNING_RATE)\n",
    "\n",
    "# Wrapping the model in the StandardModelManager:\n",
    "vit_b_wrapper = StandardModelManager(model=vit_b, criterion=criterion, optimizer=optimizer, device=device)\n"
   ]
  },
  {
   "cell_type": "code",
   "execution_count": 6,
   "id": "6df3ecdb-a7f6-4385-acbb-b1c76e8ca8df",
   "metadata": {},
   "outputs": [
    {
     "name": "stderr",
     "output_type": "stream",
     "text": [
      "  0%|                                                                                           | 0/10 [00:00<?, ?it/s]"
     ]
    },
    {
     "name": "stdout",
     "output_type": "stream",
     "text": [
      "Epoch 1 Batch Training Accuracy: 0.0234\n",
      "Epoch 1 Batch Training Accuracy: 0.2422\n",
      "Epoch 1 Batch Training Accuracy: 0.3984\n",
      "Epoch 1 Batch Training Accuracy: 0.6484\n",
      "Epoch 1 Batch Training Accuracy: 0.7734\n",
      "Epoch 1 Batch Training Accuracy: 0.7734\n",
      "Epoch 1 Batch Training Accuracy: 0.8672\n",
      "Epoch 1 Batch Training Accuracy: 0.9141\n",
      "Epoch 1 Batch Training Accuracy: 0.8281\n",
      "Epoch 1 Batch Training Accuracy: 0.9375\n",
      "Epoch 1 Batch Training Accuracy: 0.9375\n",
      "Epoch 1 Batch Training Accuracy: 1.0000\n"
     ]
    },
    {
     "name": "stderr",
     "output_type": "stream",
     "text": [
      " 10%|████████▏                                                                         | 1/10 [04:16<38:27, 256.40s/it]"
     ]
    },
    {
     "name": "stdout",
     "output_type": "stream",
     "text": [
      "Epoch 1 Batch Validation Accuracy: 0.9435\n",
      "===========================================================\n",
      "Epoch 2 Batch Training Accuracy: 0.9531\n",
      "Epoch 2 Batch Training Accuracy: 0.9453\n",
      "Epoch 2 Batch Training Accuracy: 0.9609\n",
      "Epoch 2 Batch Training Accuracy: 0.9609\n",
      "Epoch 2 Batch Training Accuracy: 0.9297\n",
      "Epoch 2 Batch Training Accuracy: 0.9453\n",
      "Epoch 2 Batch Training Accuracy: 1.0000\n",
      "Epoch 2 Batch Training Accuracy: 0.9688\n",
      "Epoch 2 Batch Training Accuracy: 0.9844\n",
      "Epoch 2 Batch Training Accuracy: 0.9609\n",
      "Epoch 2 Batch Training Accuracy: 0.9766\n",
      "Epoch 2 Batch Training Accuracy: 1.0000\n"
     ]
    },
    {
     "name": "stderr",
     "output_type": "stream",
     "text": [
      " 20%|████████████████▍                                                                 | 2/10 [07:03<27:11, 203.92s/it]"
     ]
    },
    {
     "name": "stdout",
     "output_type": "stream",
     "text": [
      "Epoch 2 Batch Validation Accuracy: 0.9799\n",
      "===========================================================\n",
      "Epoch 3 Batch Training Accuracy: 1.0000\n",
      "Epoch 3 Batch Training Accuracy: 0.9922\n",
      "Epoch 3 Batch Training Accuracy: 0.9766\n",
      "Epoch 3 Batch Training Accuracy: 0.9922\n",
      "Epoch 3 Batch Training Accuracy: 0.9844\n",
      "Epoch 3 Batch Training Accuracy: 0.9844\n",
      "Epoch 3 Batch Training Accuracy: 0.9844\n",
      "Epoch 3 Batch Training Accuracy: 0.9922\n",
      "Epoch 3 Batch Training Accuracy: 1.0000\n",
      "Epoch 3 Batch Training Accuracy: 0.9922\n",
      "Epoch 3 Batch Training Accuracy: 0.9844\n",
      "Epoch 3 Batch Training Accuracy: 1.0000\n"
     ]
    },
    {
     "name": "stderr",
     "output_type": "stream",
     "text": [
      " 30%|████████████████████████▌                                                         | 3/10 [09:52<21:53, 187.71s/it]"
     ]
    },
    {
     "name": "stdout",
     "output_type": "stream",
     "text": [
      "Epoch 3 Batch Validation Accuracy: 0.9898\n",
      "===========================================================\n",
      "Epoch 4 Batch Training Accuracy: 1.0000\n",
      "Epoch 4 Batch Training Accuracy: 0.9922\n",
      "Epoch 4 Batch Training Accuracy: 0.9922\n",
      "Epoch 4 Batch Training Accuracy: 0.9766\n",
      "Epoch 4 Batch Training Accuracy: 0.9922\n",
      "Epoch 4 Batch Training Accuracy: 1.0000\n",
      "Epoch 4 Batch Training Accuracy: 0.9922\n",
      "Epoch 4 Batch Training Accuracy: 0.9922\n",
      "Epoch 4 Batch Training Accuracy: 1.0000\n",
      "Epoch 4 Batch Training Accuracy: 0.9844\n",
      "Epoch 4 Batch Training Accuracy: 0.9922\n",
      "Epoch 4 Batch Training Accuracy: 1.0000\n"
     ]
    },
    {
     "name": "stderr",
     "output_type": "stream",
     "text": [
      " 40%|████████████████████████████████▊                                                 | 4/10 [12:41<18:02, 180.48s/it]"
     ]
    },
    {
     "name": "stdout",
     "output_type": "stream",
     "text": [
      "Epoch 4 Batch Validation Accuracy: 0.9955\n",
      "===========================================================\n",
      "Epoch 5 Batch Training Accuracy: 1.0000\n",
      "Epoch 5 Batch Training Accuracy: 0.9922\n",
      "Epoch 5 Batch Training Accuracy: 1.0000\n",
      "Epoch 5 Batch Training Accuracy: 0.9922\n",
      "Epoch 5 Batch Training Accuracy: 1.0000\n",
      "Epoch 5 Batch Training Accuracy: 0.9922\n",
      "Epoch 5 Batch Training Accuracy: 1.0000\n",
      "Epoch 5 Batch Training Accuracy: 0.9844\n",
      "Epoch 5 Batch Training Accuracy: 1.0000\n",
      "Epoch 5 Batch Training Accuracy: 1.0000\n",
      "Epoch 5 Batch Training Accuracy: 1.0000\n",
      "Epoch 5 Batch Training Accuracy: 1.0000\n"
     ]
    },
    {
     "name": "stderr",
     "output_type": "stream",
     "text": [
      " 50%|█████████████████████████████████████████                                         | 5/10 [15:28<14:38, 175.66s/it]"
     ]
    },
    {
     "name": "stdout",
     "output_type": "stream",
     "text": [
      "Epoch 5 Batch Validation Accuracy: 0.9966\n",
      "===========================================================\n",
      "Epoch 6 Batch Training Accuracy: 1.0000\n",
      "Epoch 6 Batch Training Accuracy: 1.0000\n",
      "Epoch 6 Batch Training Accuracy: 1.0000\n",
      "Epoch 6 Batch Training Accuracy: 1.0000\n",
      "Epoch 6 Batch Training Accuracy: 1.0000\n",
      "Epoch 6 Batch Training Accuracy: 1.0000\n",
      "Epoch 6 Batch Training Accuracy: 1.0000\n",
      "Epoch 6 Batch Training Accuracy: 1.0000\n",
      "Epoch 6 Batch Training Accuracy: 1.0000\n",
      "Epoch 6 Batch Training Accuracy: 0.9844\n",
      "Epoch 6 Batch Training Accuracy: 1.0000\n",
      "Epoch 6 Batch Training Accuracy: 1.0000\n"
     ]
    },
    {
     "name": "stderr",
     "output_type": "stream",
     "text": [
      " 60%|█████████████████████████████████████████████████▏                                | 6/10 [18:14<11:29, 172.31s/it]"
     ]
    },
    {
     "name": "stdout",
     "output_type": "stream",
     "text": [
      "Epoch 6 Batch Validation Accuracy: 0.9980\n",
      "===========================================================\n",
      "Epoch 7 Batch Training Accuracy: 1.0000\n",
      "Epoch 7 Batch Training Accuracy: 1.0000\n",
      "Epoch 7 Batch Training Accuracy: 1.0000\n",
      "Epoch 7 Batch Training Accuracy: 1.0000\n",
      "Epoch 7 Batch Training Accuracy: 1.0000\n",
      "Epoch 7 Batch Training Accuracy: 1.0000\n",
      "Epoch 7 Batch Training Accuracy: 0.9922\n",
      "Epoch 7 Batch Training Accuracy: 1.0000\n",
      "Epoch 7 Batch Training Accuracy: 1.0000\n",
      "Epoch 7 Batch Training Accuracy: 1.0000\n",
      "Epoch 7 Batch Training Accuracy: 1.0000\n",
      "Epoch 7 Batch Training Accuracy: 1.0000\n"
     ]
    },
    {
     "name": "stderr",
     "output_type": "stream",
     "text": [
      " 70%|█████████████████████████████████████████████████████████▍                        | 7/10 [21:00<08:30, 170.31s/it]"
     ]
    },
    {
     "name": "stdout",
     "output_type": "stream",
     "text": [
      "Epoch 7 Batch Validation Accuracy: 0.9986\n",
      "===========================================================\n",
      "Epoch 8 Batch Training Accuracy: 1.0000\n",
      "Epoch 8 Batch Training Accuracy: 1.0000\n",
      "Epoch 8 Batch Training Accuracy: 0.9922\n",
      "Epoch 8 Batch Training Accuracy: 0.9922\n",
      "Epoch 8 Batch Training Accuracy: 0.9922\n",
      "Epoch 8 Batch Training Accuracy: 1.0000\n",
      "Epoch 8 Batch Training Accuracy: 0.9922\n",
      "Epoch 8 Batch Training Accuracy: 1.0000\n",
      "Epoch 8 Batch Training Accuracy: 1.0000\n",
      "Epoch 8 Batch Training Accuracy: 1.0000\n",
      "Epoch 8 Batch Training Accuracy: 1.0000\n",
      "Epoch 8 Batch Training Accuracy: 1.0000\n"
     ]
    },
    {
     "name": "stderr",
     "output_type": "stream",
     "text": [
      " 80%|█████████████████████████████████████████████████████████████████▌                | 8/10 [23:46<05:38, 169.03s/it]"
     ]
    },
    {
     "name": "stdout",
     "output_type": "stream",
     "text": [
      "Epoch 8 Batch Validation Accuracy: 0.9989\n",
      "===========================================================\n",
      "Epoch 9 Batch Training Accuracy: 1.0000\n",
      "Epoch 9 Batch Training Accuracy: 1.0000\n",
      "Epoch 9 Batch Training Accuracy: 1.0000\n",
      "Epoch 9 Batch Training Accuracy: 1.0000\n",
      "Epoch 9 Batch Training Accuracy: 1.0000\n",
      "Epoch 9 Batch Training Accuracy: 1.0000\n",
      "Epoch 9 Batch Training Accuracy: 1.0000\n",
      "Epoch 9 Batch Training Accuracy: 1.0000\n",
      "Epoch 9 Batch Training Accuracy: 1.0000\n",
      "Epoch 9 Batch Training Accuracy: 1.0000\n",
      "Epoch 9 Batch Training Accuracy: 1.0000\n",
      "Epoch 9 Batch Training Accuracy: 1.0000\n"
     ]
    },
    {
     "name": "stderr",
     "output_type": "stream",
     "text": [
      " 90%|█████████████████████████████████████████████████████████████████████████▊        | 9/10 [26:33<02:48, 168.41s/it]"
     ]
    },
    {
     "name": "stdout",
     "output_type": "stream",
     "text": [
      "Epoch 9 Batch Validation Accuracy: 0.9989\n",
      "===========================================================\n",
      "Epoch 10 Batch Training Accuracy: 1.0000\n",
      "Epoch 10 Batch Training Accuracy: 1.0000\n",
      "Epoch 10 Batch Training Accuracy: 1.0000\n",
      "Epoch 10 Batch Training Accuracy: 1.0000\n",
      "Epoch 10 Batch Training Accuracy: 1.0000\n",
      "Epoch 10 Batch Training Accuracy: 1.0000\n",
      "Epoch 10 Batch Training Accuracy: 1.0000\n",
      "Epoch 10 Batch Training Accuracy: 1.0000\n",
      "Epoch 10 Batch Training Accuracy: 1.0000\n",
      "Epoch 10 Batch Training Accuracy: 1.0000\n",
      "Epoch 10 Batch Training Accuracy: 1.0000\n",
      "Epoch 10 Batch Training Accuracy: 1.0000\n"
     ]
    },
    {
     "name": "stderr",
     "output_type": "stream",
     "text": [
      "100%|█████████████████████████████████████████████████████████████████████████████████| 10/10 [29:20<00:00, 176.09s/it]"
     ]
    },
    {
     "name": "stdout",
     "output_type": "stream",
     "text": [
      "Epoch 10 Batch Validation Accuracy: 0.9994\n",
      "===========================================================\n"
     ]
    },
    {
     "name": "stderr",
     "output_type": "stream",
     "text": [
      "\n"
     ]
    },
    {
     "data": {
      "image/png": "[encoded data removed]",
      "text/plain": [
       "<Figure size 640x480 with 1 Axes>"
      ]
     },
     "metadata": {},
     "output_type": "display_data"
    },
    {
     "name": "stdout",
     "output_type": "stream",
     "text": [
      "Test Accuracy: 0.9802\n",
      "===========================================================\n"
     ]
    },
    {
     "data": {
      "text/plain": [
       "tensor(0.9802, device='cuda:0')"
      ]
     },
     "execution_count": 6,
     "metadata": {},
     "output_type": "execute_result"
    }
   ],
   "source": [
    "# Training the model:\n",
    "vit_b_wrapper.train(training_data_loader=train_360, validation_data_loader=val_360, epochs=EPOCHS)\n",
    "\n",
    "# Creating, saving, and displaying learning curve from training:\n",
    "vit_b_wrapper.plot_learning_curve(\"vit_b_16\")\n",
    "\n",
    "# Testing the model:\n",
    "vit_b_wrapper.test(test_360)"
   ]
  },
  {
   "cell_type": "code",
   "execution_count": null,
   "id": "c40d8705-c919-4e09-9b92-8e73933fce32",
   "metadata": {},
   "outputs": [],
   "source": []
  }
 ],
 "metadata": {
  "kernelspec": {
   "display_name": "Python 3 (ipykernel)",
   "language": "python",
   "name": "python3"
  },
  "language_info": {
   "codemirror_mode": {
    "name": "ipython",
    "version": 3
   },
   "file_extension": ".py",
   "mimetype": "text/x-python",
   "name": "python",
   "nbconvert_exporter": "python",
   "pygments_lexer": "ipython3",
   "version": "3.9.20"
  }
 },
 "nbformat": 4,
 "nbformat_minor": 5
}
