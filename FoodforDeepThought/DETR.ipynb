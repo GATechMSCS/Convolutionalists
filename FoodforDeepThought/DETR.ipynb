{
 "cells": [
  {
   "cell_type": "code",
   "execution_count": 1,
   "id": "ae27b52a-395a-4cf1-b771-2b46271ec61c",
   "metadata": {},
   "outputs": [],
   "source": [
    "import os\n",
    "import time\n",
    "import matplotlib.pyplot as plt\n",
    "import numpy as np\n",
    "\n",
    "import torch\n",
    "import torch.nn as nn\n",
    "import torch.optim as optim\n",
    "import torchvision\n",
    "\n",
    "# from src.model_managers.detr_model_manager import DETRModelManager\n",
    "from src.dataset_loaders.download_openimages import OpenImagesLoader\n",
    "# from src.dataset_loaders.detr_dataset_processor import DETRDatasetProcessor\n",
    "from tqdm import tqdm, tqdm_notebook\n",
    "\n",
    "\n",
    "from transformers import DetrForObjectDetection, DetrImageProcessor\n"
   ]
  },
  {
   "cell_type": "code",
   "execution_count": 2,
   "id": "af7f95ad-cf5c-4ded-a359-ac932338764b",
   "metadata": {},
   "outputs": [
    {
     "name": "stdout",
     "output_type": "stream",
     "text": [
      "Device being used: cuda\n"
     ]
    }
   ],
   "source": [
    "\n",
    "# Device Configuration:\n",
    "if torch.cuda.is_available():\n",
    "    device = 'cuda'\n",
    "else:\n",
    "    device = 'cpu'\n",
    "\n",
    "print(f\"Device being used: {device}\")"
   ]
  },
  {
   "cell_type": "code",
   "execution_count": 3,
   "id": "e3942cc2",
   "metadata": {},
   "outputs": [],
   "source": [
    "import os\n",
    "import torchvision.transforms.v2 as transforms\n",
    "from openimages.download import download_dataset\n",
    "import random\n",
    "import shutil\n",
    "import torch\n",
    "from torch.utils.data import DataLoader\n",
    "from PIL import Image as PILImage\n",
    "from torchvision import tv_tensors\n",
    "from torchvision.transforms.v2 import Resize\n",
    "from torchvision.ops import box_convert\n",
    "\n",
    "\n",
    "class DETRDatasetProcessor():\n",
    "\n",
    "    def __init__(self, random_seed = 101, batch_size = 128, perc_keep = 1.0, num_images_per_class=500):\n",
    "        self.data_dir = os.path.join(\"data\", \"openimages\")  # Directory in which dataset resides\n",
    "        self.random_seed = random_seed\n",
    "        self.batch_size = batch_size\n",
    "        self.perc_keep = perc_keep  # Percentage of dataset to be kept (number between 0 and 1)\n",
    "        self.num_images_per_class = num_images_per_class\n",
    "\n",
    "        self.transforms_all = transforms.Compose(\n",
    "            [\n",
    "                Resize((512, 512)),\n",
    "            ]\n",
    "        )\n",
    "\n",
    "        self.transforms_img = transforms.Compose(\n",
    "            [\n",
    "                transforms.ToTensor(),\n",
    "                transforms.Normalize(mean=[0.485, 0.456, 0.406], std=[0.229, 0.224, 0.225]) # ImageNet's normalization statistics\n",
    "            ]\n",
    "        )\n",
    "\n",
    "        self.classes = [\n",
    "            \"Hot dog\", \"French fries\", \"Waffle\", \"Pancake\", \"Burrito\", \"Pretzel\",\n",
    "            \"Popcorn\", \"Cookie\", \"Muffin\", \"Ice cream\", \"Cake\", \"Candy\",\n",
    "            \"Guacamole\", \"Apple\", \"Grape\", \"Common fig\", \"Pear\",\n",
    "            \"Strawberry\", \"Tomato\", \"Lemon\", \"Banana\", \"Orange\", \"Peach\", \"Mango\",\n",
    "            \"Pineapple\", \"Grapefruit\", \"Pomegranate\", \"Watermelon\", \"Cantaloupe\",\n",
    "            \"Egg (Food)\", \"Bagel\", \"Bread\", \"Doughnut\", \"Croissant\",\n",
    "            \"Tart\", \"Mushroom\", \"Pasta\", \"Pizza\", \"Squid\",\n",
    "            \"Oyster\", \"Lobster\", \"Shrimp\", \"Crab\", \"Taco\", \"Cooking spray\",\n",
    "            \"Cucumber\", \"Radish\", \"Artichoke\", \"Potato\", \"Garden Asparagus\",\n",
    "            \"Pumpkin\", \"Zucchini\", \"Cabbage\", \"Carrot\", \"Salad\",\n",
    "            \"Broccoli\", \"Bell pepper\", \"Winter melon\", \"Honeycomb\",\n",
    "            \"Hamburger\", \"Submarine sandwich\", \"Cheese\", \"Milk\", \"Sushi\"\n",
    "        ]\n",
    "\n",
    "        # Creating a dictionary mapping each class name to an index:\n",
    "        self.class_2_index = {}\n",
    "        for i, class_name in enumerate(self.classes):\n",
    "            self.class_2_index[class_name.lower()] = i\n",
    "\n",
    "        # Creating a dictionary mapping each class index to its corresponding class name:\n",
    "        self.index_2_class = {}\n",
    "        for k, v in self.class_2_index.items():\n",
    "            self.index_2_class[v] = k\n",
    "\n",
    "        self.train_dir = os.path.join(self.data_dir, \"train\") # Directory in which train dataset resides\n",
    "        self.val_dir = os.path.join(self.data_dir, \"val\") # Directory in which validation dataset resides\n",
    "        self.test_dir = os.path.join(self.data_dir, \"test\") # Directory in which test dataset resides\n",
    "\n",
    "        self.train_red_dir = os.path.join(self.data_dir, \"train_reduced\") # Directory in which reduced train dataset resides\n",
    "        self.val_red_dir = os.path.join(self.data_dir, \"val_reduced\") # Directory in which reduced validation dataset resides\n",
    "        self.test_red_dir = os.path.join(self.data_dir, \"test_reduced\") # Directory in which reduced test dataset resides\n",
    "\n",
    "\n",
    "    def download_data(self, annotation_format='darknet'):\n",
    "        # download_dataset(self.data_dir, self.classes, annotation_format=annotation_format, limit=5)\n",
    "        \n",
    "        for class_name in self.classes:\n",
    "            print(f'Attempting to download {class_name} data')\n",
    "            if not os.path.isdir(os.path.join(self.data_dir, class_name.lower())):\n",
    "                try:\n",
    "                    download_dataset(self.data_dir, [class_name], annotation_format=annotation_format, limit=5)\n",
    "                except Exception as e:\n",
    "                    print(f'An exception occurred for {class_name}. ERROR: {e}')\n",
    "            else:\n",
    "                print(f'Skipped {class_name}, data already downloaded')\n",
    "\n",
    "\n",
    "    def split_data(self, keep_class_dirs=True):\n",
    "\n",
    "        \"\"\" This function splits the downloaded Open Image dataset, and splits each class into training, validation, and testing sets.\n",
    "            This function assumes that the required data has already been downloaded.\"\"\"\n",
    "\n",
    "        # Setting the random seed:\n",
    "        random.seed(self.random_seed)\n",
    "        \n",
    "        splits = [\"train\", \"val\", \"test\"]\n",
    "\n",
    "        # Making folders for each of the splits:\n",
    "        for split in splits:\n",
    "            split_dir = os.path.join(self.data_dir, split)\n",
    "            os.makedirs(split_dir, exist_ok=True)\n",
    "\n",
    "        # Iterating through each class:\n",
    "        for class_cur in self.classes:\n",
    "            print(f'Splitting data for class {class_cur}')\n",
    "\n",
    "            # Getting directories for the images and annotations for each class:\n",
    "            imgs_dir = os.path.join(self.data_dir, class_cur.lower(), \"images\")\n",
    "            anns_dir = os.path.join(self.data_dir, class_cur.lower(), \"darknet\")\n",
    "\n",
    "            # Ensuring each class has images and annotations:\n",
    "            if not imgs_dir:\n",
    "                raise Exception(f'Images do not exist for {class_cur}!')\n",
    "\n",
    "            if not anns_dir:\n",
    "                raise Exception(f'Annotations do not exist for {class_cur}!')\n",
    "\n",
    "            class_imgs = os.listdir(imgs_dir) # Images for current class\n",
    "            class_anns = os.listdir(anns_dir) # Annotations for current class\n",
    "            class_imgs.sort()\n",
    "            class_anns.sort()\n",
    "\n",
    "            num_imgs = len(class_imgs) # Number of images and annotations for current class\n",
    "            \n",
    "            # Shuffling data:\n",
    "            inds_list = list(range(num_imgs)) # List of indices ranging for the total number of images\n",
    "            random.shuffle(inds_list) # Shuffling indices list\n",
    "            class_imgs = [class_imgs[i] for i in inds_list] # Shuffling class images according to shuffled inds_list\n",
    "            class_anns = [class_anns[i] for i in inds_list] # Shuffling class annotations according to shuffled inds_list\n",
    "\n",
    "            ind_train = int(0.8 * num_imgs) # Ending index for the training images\n",
    "            ind_val = ind_train + int(0.1 * num_imgs) # Ending index for the validation images\n",
    "\n",
    "            # Splitting images into training, validation, and testing:\n",
    "            train_imgs = class_imgs[:ind_train]\n",
    "            val_imgs = class_imgs[ind_train:ind_val]\n",
    "            test_imgs = class_imgs[ind_val:]\n",
    "\n",
    "            all_imgs = [train_imgs, val_imgs, test_imgs] # All images\n",
    "            \n",
    "            # Splitting annotations into training, validation, and testing:\n",
    "            train_anns = class_anns[:ind_train]\n",
    "            val_anns = class_anns[ind_train:ind_val]\n",
    "            test_anns = class_anns[ind_val:]\n",
    "\n",
    "            all_anns = [train_anns, val_anns, test_anns] # All annotations\n",
    "            \n",
    "            # Looping through all split types and corresponding split images:\n",
    "            for split_type, split_imgs, split_anns in zip(splits, all_imgs, all_anns):\n",
    "                if keep_class_dirs:\n",
    "                    # Creating each split directory for images and annotations for current class:\n",
    "                    split_dir_img = os.path.join(self.data_dir, split_type, class_cur.lower(), \"images\")\n",
    "                    split_dir_ann = os.path.join(self.data_dir, split_type, class_cur.lower(), \"annotations\")\n",
    "                else:\n",
    "                    split_dir_img = os.path.join(self.data_dir, split_type, \"images\")\n",
    "                    split_dir_ann = os.path.join(self.data_dir, split_type, \"annotations\")\n",
    "\n",
    "                os.makedirs(split_dir_img, exist_ok=True)\n",
    "                os.makedirs(split_dir_ann, exist_ok=True)\n",
    "\n",
    "                # Copying each image from initial directory to corresponding split directory for each split:\n",
    "                for img, ann in zip(split_imgs, split_anns):\n",
    "                    shutil.copy(os.path.join(imgs_dir, img), os.path.join(split_dir_img, img))\n",
    "                    shutil.copy(os.path.join(anns_dir, ann), os.path.join(split_dir_ann, ann))\n",
    "\n",
    "                    # Code to replace each original class label (which is 0) to the class label as found in self.class_2_index:\n",
    "                    ann_file_cur_dir = os.path.join(split_dir_ann, ann) # File path of current annotation file\n",
    "                    with open(ann_file_cur_dir, 'r') as file:\n",
    "                        objects = file.readlines()\n",
    "\n",
    "                        new_labels = []\n",
    "                        for obj in objects:\n",
    "                            obj_items = obj.split()\n",
    "                            new_class_label = self.class_2_index[class_cur.lower()]\n",
    "                            obj_items[0] = str(new_class_label)\n",
    "\n",
    "                            obj_new = ' '.join(obj_items) + '\\n'\n",
    "                            new_labels.append(obj_new)\n",
    "                    \n",
    "                    with open(ann_file_cur_dir, 'w') as file:\n",
    "                        file.writelines(new_labels)\n",
    "                            \n",
    "\n",
    "    def split_data_reduced(self, keep_class_dirs=True):\n",
    "\n",
    "        \"\"\" This function splits the downloaded Open Image dataset, and splits each class into training, validation, and testing sets.\n",
    "            This function assumes that the required data has already been downloaded.\n",
    "            This function reduces the dataset by self.keep_perc. \"\"\"\n",
    "\n",
    "        # Setting the random seed:\n",
    "        random.seed(self.random_seed)\n",
    "        \n",
    "        splits = [\"train_reduced\", \"val_reduced\", \"test_reduced\"]\n",
    "        \n",
    "        # Making folders for each of the splits:\n",
    "        for split in splits:\n",
    "            split_dir = os.path.join(self.data_dir, split)\n",
    "            os.makedirs(split_dir, exist_ok=True)\n",
    "\n",
    "        # Iterating through each class:\n",
    "        for class_cur in self.classes:\n",
    "            print(f'Splitting data for class {class_cur}')\n",
    "\n",
    "            # Getting directories for the images and annotations for each class:\n",
    "            imgs_dir = os.path.join(self.data_dir, class_cur.lower(), \"images\")\n",
    "            anns_dir = os.path.join(self.data_dir, class_cur.lower(), \"darknet\")\n",
    "\n",
    "            # Ensuring each class has images and annotations:\n",
    "            if not imgs_dir:\n",
    "                raise Exception(f'Images do not exist for {class_cur}!')\n",
    "\n",
    "            if not anns_dir:\n",
    "                raise Exception(f'Annotations do not exist for {class_cur}!')\n",
    "\n",
    "            class_imgs = os.listdir(imgs_dir) # Images for current class\n",
    "            class_anns = os.listdir(anns_dir) # Annotations for current class\n",
    "            class_imgs.sort()\n",
    "            class_anns.sort()\n",
    "\n",
    "            num_imgs = len(class_imgs) # Number of images and annotations for current class\n",
    "            \n",
    "            if self.perc_keep != 1.00 and num_imgs > 50:\n",
    "                num_imgs = int(num_imgs * self.perc_keep)\n",
    "                class_imgs = class_imgs[:num_imgs]\n",
    "                class_anns = class_anns[:num_imgs]\n",
    "\n",
    "            # Shuffling data:\n",
    "            inds_list = list(range(num_imgs)) # List of indices ranging for the total number of images\n",
    "            random.shuffle(inds_list) # Shuffling indices list\n",
    "            class_imgs = [class_imgs[i] for i in inds_list] # Shuffling class images according to shuffled inds_list\n",
    "            class_anns = [class_anns[i] for i in inds_list] # Shuffling class annotations according to shuffled inds_list\n",
    "\n",
    "            ind_train = int(0.8 * num_imgs) # Ending index for the training images\n",
    "            ind_val = ind_train + int(0.1 * num_imgs) # Ending index for the validation images\n",
    "\n",
    "            # Splitting images into training, validation, and testing:\n",
    "            train_imgs = class_imgs[:ind_train]\n",
    "            val_imgs = class_imgs[ind_train:ind_val]\n",
    "            test_imgs = class_imgs[ind_val:]\n",
    "\n",
    "            all_imgs = [train_imgs, val_imgs, test_imgs] # All images\n",
    "            \n",
    "            # Splitting annotations into training, validation, and testing:\n",
    "            train_anns = class_anns[:ind_train]\n",
    "            val_anns = class_anns[ind_train:ind_val]\n",
    "            test_anns = class_anns[ind_val:]\n",
    "\n",
    "            all_anns = [train_anns, val_anns, test_anns] # All annotations\n",
    "            \n",
    "            # Looping through all split types and corresponding split images:\n",
    "            for split_type, split_imgs, split_anns in zip(splits, all_imgs, all_anns):\n",
    "                if keep_class_dirs:\n",
    "                    # Creating each split directory for images and annotations for current class:\n",
    "                    split_dir_img = os.path.join(self.data_dir, split_type, class_cur.lower(), \"images\")\n",
    "                    split_dir_ann = os.path.join(self.data_dir, split_type, class_cur.lower(), \"annotations\")\n",
    "                else:\n",
    "                    split_dir_img = os.path.join(self.data_dir, split_type, \"images\")\n",
    "                    split_dir_ann = os.path.join(self.data_dir, split_type, \"annotations\")\n",
    "\n",
    "                os.makedirs(split_dir_img, exist_ok=True)\n",
    "                os.makedirs(split_dir_ann, exist_ok=True)\n",
    "\n",
    "                # Copying each image from initial directory to corresponding split directory for each split:\n",
    "                for img, ann in zip(split_imgs, split_anns):\n",
    "                    shutil.copy(os.path.join(imgs_dir, img), os.path.join(split_dir_img, img))\n",
    "                    shutil.copy(os.path.join(anns_dir, ann), os.path.join(split_dir_ann, ann))\n",
    "\n",
    "                    # Code to replace each original class label (which is 0) to the class label as found in self.class_2_index:\n",
    "                    ann_file_cur_dir = os.path.join(split_dir_ann, ann) # File path of current annotation file\n",
    "                    with open(ann_file_cur_dir, 'r') as file:\n",
    "                        objects = file.readlines()\n",
    "\n",
    "                        new_labels = []\n",
    "                        for obj in objects:\n",
    "                            obj_items = obj.split()\n",
    "                            new_class_label = self.class_2_index[class_cur.lower()]\n",
    "                            obj_items[0] = str(new_class_label)\n",
    "\n",
    "                            obj_new = ' '.join(obj_items) + '\\n'\n",
    "                            new_labels.append(obj_new)\n",
    "                    \n",
    "                    with open(ann_file_cur_dir, 'w') as file:\n",
    "                        file.writelines(new_labels)\n",
    "\n",
    "        print(f\"Dataset has been reduced!\")\n",
    "\n",
    "\n",
    "    def see_class_labels(self):\n",
    "        \"\"\" Simple function to determine if all of the images have just one class in them. \"\"\"\n",
    "\n",
    "        # Change the split to \"train\", \"val\", or \"test\" to choose which directory you need to test:\n",
    "        anns_dir =  os.path.join(self.data_dir, \"test\", \"annotations\")\n",
    "\n",
    "        ann_files = os.listdir(anns_dir)\n",
    "\n",
    "        for ann_file in ann_files:\n",
    "            ann_file_dir = os.path.join(anns_dir, ann_file)\n",
    "\n",
    "            with open(ann_file_dir, 'r') as file:\n",
    "                objects = file.readlines()\n",
    "\n",
    "                for obj in objects:\n",
    "                    class_label = int(obj.split()[0])\n",
    "                    if class_label != 0:\n",
    "                        print(f\"Object {obj} in file {ann_file}\")\n",
    "\n",
    "\n",
    "\n",
    "\n",
    "\n",
    "    def make_dataloader(self, split_name):\n",
    "        \"\"\" Function to create a DataLoader object that's compatible with Facebook's DETR model.\n",
    "        \n",
    "        Inputs:\n",
    "        split_name (str) - must be one of the following: \"train\", \"train_reduced\", \"val\", \"val_reduced\", \"test\", \"test_reduced\n",
    "\n",
    "        Outputs:\n",
    "        dl (DataLoader) - DataLoader object\n",
    "\n",
    "        \"\"\"\n",
    "\n",
    "        def collate_fn(data):\n",
    "            \"\"\" Defining the collate function to pad and return images and list of annotations,\n",
    "                as object-detection can have variable image sizes and variable number of objects\n",
    "                in each image. \n",
    "            \"\"\"\n",
    "\n",
    "            # Extracting the images and corresponding annotations:\n",
    "            imgs, anns = zip(*data)\n",
    "\n",
    "            return torch.stack(imgs), anns        \n",
    "\n",
    "        imgs_dir = os.path.join(self.data_dir, split_name, \"images\")\n",
    "        anns_dir = os.path.join(self.data_dir, split_name, \"annotations\")\n",
    "\n",
    "        # Lists of all the images and corresponding annotation files in the selected directory:\n",
    "        imgs_list = os.listdir(imgs_dir)\n",
    "        anns_list = os.listdir(anns_dir)\n",
    "\n",
    "        dataset = []\n",
    "        # Iterating through each image and annotation pair:\n",
    "        for img_cur, ann_cur in zip(imgs_list, anns_list):\n",
    "            \n",
    "            # Directories of current image and annotation:\n",
    "            img_cur_dir = os.path.join(imgs_dir, img_cur)\n",
    "            ann_cur_dir = os.path.join(anns_dir, ann_cur)\n",
    "\n",
    "            # Reading image:\n",
    "            img_pil = PILImage.open(img_cur_dir).convert(\"RGB\")\n",
    "            img_size_orig = img_pil.size # (width, height) format\n",
    "            # img_tv = TVImage(torch.tensor(img_pil).permute(2, 0, 1))\n",
    "\n",
    "            ann_list = []\n",
    "            # Reading annotation file:\n",
    "            with open(ann_cur_dir, 'r') as file:\n",
    "\n",
    "                objects = file.readlines()\n",
    "\n",
    "                # Iterating through each object in the image (all assumed to equal to the target class):\n",
    "                for obj in objects:\n",
    "                    obj_items = obj.split()\n",
    "                    class_label = int(obj_items[0]) # Class label\n",
    "                    x_cent = float(obj_items[1]) # x-coordinate of bounding box's center\n",
    "                    y_cent = float(obj_items[2]) # y-coordinate of bounding box's center\n",
    "                    box_width = float(obj_items[3]) # Width of bounding box\n",
    "                    box_height = float(obj_items[4]) # Height of bounding box\n",
    "\n",
    "                    # Appending the bounding box information to the list of bounding box information:\n",
    "                    ann_list.append([x_cent, y_cent, box_width, box_height])\n",
    "\n",
    "                # Converting list of bounding box information to a PyTorch tensor:\n",
    "                box_tensor = torch.tensor(ann_list, dtype=torch.float)\n",
    "\n",
    "            # box_tensor_convert = box_convert(box_tensor, in_fmt='cxcywh', out_fmt='xyxy') # Converting bounding boxes from CXCYWH format to XYXY format to make it compatible with DETR model\n",
    "\n",
    "            # Bounding box object for current annotation file:\n",
    "            # bounding_boxes = tv_tensors.BoundingBoxes(box_tensor_convert, format=\"XYXY\", canvas_size=img_size_orig)\n",
    "            bounding_boxes = tv_tensors.BoundingBoxes(box_tensor, format=\"CXCYWH\", canvas_size=img_size_orig)\n",
    "\n",
    "\n",
    "            # Applying transformations to bounding boxes and image:\n",
    "            img_trans = self.transforms_all(img_pil) # Applying the general transformations to the image\n",
    "            bb_trans = self.transforms_all(bounding_boxes) # Applying the general transformations to the image's corresponding bounding boxes\n",
    "            img_trans = self.transforms_img(img_trans) # Applying the image-specific transformations to the image (tensor conversion and normalization)\n",
    "\n",
    "            num_labels = bb_trans.shape[0] # Number of objects\n",
    "            labels_tensor = torch.ones(num_labels, dtype=torch.long) * class_label # Creating a labels tensor\n",
    "\n",
    "            ann_dict = {\"boxes\": bb_trans, \"class_labels\": labels_tensor}\n",
    "\n",
    "            info_tuple = (img_trans, ann_dict)\n",
    "            dataset.append(info_tuple)\n",
    "        \n",
    "\n",
    "        dataset_wrapper = DETRDataset(dataset)\n",
    "        dl = DataLoader(dataset_wrapper, batch_size=self.batch_size, shuffle=True, collate_fn=collate_fn)\n",
    "\n",
    "        return dl\n",
    "\n",
    "\n",
    "class DETRDataset():\n",
    "    def __init__(self, dataset):\n",
    "        self.dataset = dataset\n",
    "\n",
    "    def __getitem__(self, ind):\n",
    "        return self.dataset[ind]\n",
    "\n",
    "    def __len__(self):\n",
    "        return len(self.dataset)\n",
    "    \n"
   ]
  },
  {
   "cell_type": "code",
   "execution_count": 4,
   "id": "4643233a",
   "metadata": {},
   "outputs": [],
   "source": [
    "# Data Configuration & Hyperparameters:\n",
    "PERC_KEEP = 0.10 # Proportion of data from datasets to keep\n",
    "BATCH_SIZE = 16 # Batch size\n",
    "EPOCHS = 50 # Number of epochs to train the model for\n",
    "LEARNING_RATE = 1e-4 # Learning rate"
   ]
  },
  {
   "cell_type": "code",
   "execution_count": 5,
   "id": "49d0b78a-58d9-4169-99bd-3539ece25ba8",
   "metadata": {},
   "outputs": [
    {
     "name": "stdout",
     "output_type": "stream",
     "text": [
      "Number of classes: 64\n",
      "Number of Batches in Training Set: 82\n",
      "Number of Batches in Validation Set: 10\n",
      "Number of Batches in Testing Set: 14\n"
     ]
    }
   ],
   "source": [
    "### Loading Open Images Dataset:\n",
    "\n",
    "# Initializing the DETRDatasetProcessor class:\n",
    "detr_processor = DETRDatasetProcessor(batch_size=BATCH_SIZE, perc_keep=PERC_KEEP)\n",
    "print(f\"Number of classes: {len(detr_processor.classes)}\")\n",
    "\n",
    "# Downloading the Open Images Dataset in darknet format:\n",
    "# detr_processor.download_data()\n",
    "\n",
    "# Splitting the downloaded data into training, validation, and test sets:\n",
    "# detr_processor.split_data(keep_class_dirs=False)\n",
    "\n",
    "# Splitting the downloaded data into reduced training, validation, and test sets:\n",
    "# detr_processor.split_data_reduced(keep_class_dirs=False)\n",
    "\n",
    "# Creating training, validation, and testing dataloaders:\n",
    "train_set = detr_processor.make_dataloader(\"train_reduced\")\n",
    "val_set = detr_processor.make_dataloader(\"val_reduced\")\n",
    "test_set = detr_processor.make_dataloader(\"test_reduced\")\n",
    "\n",
    "print(f\"Number of Batches in Training Set: {len(train_set)}\")\n",
    "print(f\"Number of Batches in Validation Set: {len(val_set)}\")\n",
    "print(f\"Number of Batches in Testing Set: {len(test_set)}\")\n",
    "\n",
    "\n"
   ]
  },
  {
   "cell_type": "code",
   "execution_count": 6,
   "id": "1c9cea3e",
   "metadata": {},
   "outputs": [],
   "source": [
    "from transformers import AutoTokenizer, AutoModelForCausalLM\n",
    "import matplotlib.pyplot as plt\n",
    "from tqdm import tqdm\n",
    "import torch\n",
    "import copy\n",
    "import numpy as np\n",
    "from torchmetrics.detection.mean_ap import MeanAveragePrecision\n",
    "import torchvision\n",
    "from torchvision import tv_tensors\n",
    "\n",
    "\n",
    "class DETRModelManager:\n",
    "    def __init__(self, model, im_processor, optimizer, scheduler=None, device=None):\n",
    "\n",
    "        if device:\n",
    "            self.device = device\n",
    "        else:\n",
    "            self.device = torch.device('cuda') if torch.cuda.is_available() else torch.device('cpu')\n",
    "    \n",
    "        self.model = model.to(self.device)\n",
    "        self.im_processor = im_processor\n",
    "        self.optimizer = optimizer\n",
    "        self.scheduler = scheduler\n",
    "        self.confidence_threshold = 0.02\n",
    "        self.best_accuracy = 0.0\n",
    "        self.best_loss = np.inf\n",
    "        self.best_model_state_dict = None\n",
    "        \n",
    "        self.training_losses = None\n",
    "        self.val_losses = None\n",
    "        self.training_maps = None\n",
    "        self.val_maps = None\n",
    "        self.training_maps_50 = None\n",
    "        self.val_maps_50 = None\n",
    "\n",
    "    def train(self, training_data_loader, validation_data_loader = None, epochs=10):\n",
    "\n",
    "        # Creating empty lists for the training and validation losses and mAP values:\n",
    "        training_losses = []\n",
    "        val_losses = []\n",
    "        \n",
    "        training_maps = []\n",
    "        val_maps = []\n",
    "\n",
    "        training_maps_50 = []\n",
    "        val_maps_50 = []\n",
    "\n",
    "        for epoch in tqdm(range(epochs)):\n",
    "            display_epoch = epoch + 1\n",
    "\n",
    "            self.model.train() # Putting the model (back) in training mode\n",
    "            \n",
    "            loss_epoch = 0\n",
    "            map_epoch = MeanAveragePrecision()\n",
    "\n",
    "\n",
    "            for idx, (imgs, anns) in enumerate(training_data_loader):\n",
    "                \n",
    "                # Extracting height and width of each image in the batch as well as batch size:\n",
    "                batch_size = imgs.shape[0]\n",
    "                img_height = 512\n",
    "                img_width = 512\n",
    "                img_sizes = [(img.shape[1], img.shape[2]) for img in imgs]\n",
    "                \n",
    "                # Moving all input and target tensors to device:\n",
    "                inputs = {\"pixel_values\": imgs.to(self.device)} # Creating inputs for model\n",
    "                anns = [{key: val.to(self.device) for key, val in ann.items()} for ann in anns]\n",
    "\n",
    "                # Forward pass:\n",
    "                output = self.model(**inputs, labels=anns)\n",
    "\n",
    "                # Loss from current batch:\n",
    "                loss = output.loss\n",
    "                loss_epoch += loss\n",
    "\n",
    "                # Backward pass:\n",
    "                self.optimizer.zero_grad()\n",
    "                loss.backward()\n",
    "                self.optimizer.step()\n",
    "\n",
    "                ### Check MAP:\n",
    "                pred = self.im_processor.post_process_object_detection(output, threshold=self.confidence_threshold, target_sizes=img_sizes)\n",
    "\n",
    "                # Updating the mean average precision:\n",
    "                # anns_target = [{\"boxes\": ann[\"boxes\"], \"labels\": ann[\"class_labels\"]} for ann in anns]\n",
    "                anns_target = [{\"boxes\": tv_tensors.BoundingBoxes(ann[\"boxes\"], format=\"XYXY\", canvas_size=(img_height, img_width)), \"labels\": ann[\"class_labels\"]} for ann in anns]\n",
    "                map_epoch.update(pred, anns_target)\n",
    "\n",
    "            if self.scheduler:\n",
    "                # Stepping the learning rate scheduler:\n",
    "                self.scheduler.step()\n",
    "\n",
    "            # Calculating the average loss for current epoch:\n",
    "            loss_epoch_avg = loss_epoch / len(training_data_loader)\n",
    "            training_losses.append(loss_epoch_avg.cpu().cpu().detach().numpy())\n",
    "\n",
    "            map_epoch_results = map_epoch.compute()\n",
    "            print(f\"Outputs From Last Batch: {output.loss_dict}\")\n",
    "            print(f\"Epoch {display_epoch} Average Loss: {loss_epoch_avg}\")\n",
    "            print(f\"Epoch {display_epoch} Mean Average Precision: {map_epoch_results['map']}, {map_epoch_results['map_50']}\")\n",
    "\n",
    "            training_maps.append(map_epoch_results['map'].cpu().detach().numpy())\n",
    "            training_maps_50.append(map_epoch_results['map_50'].cpu().detach().numpy())\n",
    "\n",
    "        \n",
    "            if validation_data_loader:\n",
    "                \n",
    "                loss_val = 0\n",
    "                map_val = MeanAveragePrecision()\n",
    "                self.model.eval() # Putting the model in evaluation mode\n",
    "\n",
    "                for idx, (imgs, anns) in enumerate(validation_data_loader):\n",
    "\n",
    "                    # Extracting height and width of each image in the batch as well as batch size:\n",
    "                    batch_size = imgs.shape[0]\n",
    "                    img_height = 512\n",
    "                    img_width = 512                 \n",
    "                    img_sizes = [(img.shape[1], img.shape[2]) for img in imgs]\n",
    "\n",
    "                    # Moving all input and target tensors to device:\n",
    "                    inputs = {\"pixel_values\": imgs.to(self.device)}\n",
    "                    anns = [{key: val.to(self.device) for key, val in ann.items()} for ann in anns]\n",
    "\n",
    "                    with torch.no_grad():\n",
    "                        \n",
    "                        # Forward pass:\n",
    "                        output = self.model(**inputs, labels=anns)\n",
    "\n",
    "                        # Loss from current batch:\n",
    "                        loss = output.loss\n",
    "                        loss_val += loss # Adding current loss to the total loss across the batch\n",
    "\n",
    "                        ### Check mAP:\n",
    "                        pred = self.im_processor.post_process_object_detection(output, threshold=self.confidence_threshold, target_sizes=img_sizes)\n",
    "\n",
    "                        # Updating the mean average precision:\n",
    "                        anns_target = [{\"boxes\": tv_tensors.BoundingBoxes(ann[\"boxes\"], format=\"XYXY\", canvas_size=(img_height, img_width)), \"labels\": ann[\"class_labels\"]} for ann in anns]\n",
    "                        map_val.update(pred, anns_target)\n",
    "\n",
    "\n",
    "            # Calculating average validation loss:\n",
    "            loss_val_avg = loss_val / len(validation_data_loader)\n",
    "            val_losses.append(loss_val_avg.cpu().detach().numpy())\n",
    "\n",
    "            map_val_results = map_val.compute()\n",
    "\n",
    "            val_maps.append(map_val_results['map'].cpu().detach().numpy())\n",
    "            val_maps_50.append(map_val_results['map_50'].cpu().detach().numpy())\n",
    "\n",
    "            print(f\"Validation Loss: {loss_val_avg}\")\n",
    "            print(f\"Validation Mean Average Precision: {map_val_results['map']}, {map_val_results['map_50']}\")\n",
    "\n",
    "\n",
    "            # Ensuring to save the model that achieves the lowest loss:\n",
    "            if loss_val_avg < self.best_loss:\n",
    "                self.best_loss = loss_val_avg\n",
    "                self.best_model_state_dict = copy.deepcopy(self.model.state_dict())\n",
    "        \n",
    "        # Load best state after training for use:\n",
    "        if self.best_model_state_dict is not None:\n",
    "            self.model.load_state_dict(self.best_model_state_dict)\n",
    "\n",
    "        # Setting the training and validation metric lists to their respective class variables:\n",
    "        self.training_losses = training_losses\n",
    "        self.val_losses = val_losses\n",
    "        self.training_maps = training_maps\n",
    "        self.val_maps = val_maps\n",
    "        self.training_maps_50 = training_maps_50\n",
    "        self.val_maps_50 = val_maps_50\n",
    "\n",
    "\n",
    "    def test(self, test_data_loader):\n",
    "        \"\"\" This function applies the trained model to the given test data. \n",
    "            It prints and returns the test accuracy.\n",
    "        \"\"\"\n",
    "\n",
    "        loss_test = 0\n",
    "        map_test = MeanAveragePrecision()\n",
    "        self.model.eval() # Putting the model in evlauation mode\n",
    "\n",
    "        for idx, (imgs, anns) in enumerate(test_data_loader):\n",
    "            \n",
    "            # Moving all input and target tensors to device:\n",
    "            inputs = {\"pixel_values\": imgs.to(self.device)}\n",
    "            anns = [{key: val.to(self.device) for key, val in ann.items()} for ann in anns]\n",
    "\n",
    "            with torch.no_grad():\n",
    "                \n",
    "                # Forward pass:\n",
    "                output = self.model(**inputs, labels=anns)\n",
    "\n",
    "                # Loss from current batch:\n",
    "                loss = output.loss\n",
    "                loss_test += loss # Adding current loss to the total loss across the batch\n",
    "\n",
    "                ### Check MAP:\n",
    "\n",
    "                # Getting predictions:\n",
    "                pred = []\n",
    "                for ind in range(len(output.logits)):\n",
    "                    pred_dict = {}\n",
    "                    pred_dict['boxes'] = output.logits[ind]['boxes']\n",
    "                    pred_dict['labels'] = output.logits[ind]['labels']\n",
    "                    pred.append(pred_dict)\n",
    "\n",
    "                # Updating the mean average precision\n",
    "                map_test.update(pred, anns)\n",
    "\n",
    "        # Calculating average validation loss:\n",
    "        loss_test_avg = loss_test / len(test_data_loader)\n",
    "        map_test_results = map_test.compute()\n",
    "\n",
    "        print(f\"Test Loss: {loss_test_avg}\")\n",
    "        print(f\"Test Mean Average Precision: {map_test_results['map']}, {map_test_results['map_50']}\")\n",
    "\n",
    "\n",
    "    def plot_loss_curve(self, model_name):\n",
    "        \"\"\"\n",
    "        This function plots the loss curve from the most recent training period of this model manager.\n",
    "        \n",
    "        Inputs:\n",
    "        model_name (str) - Name of the model\n",
    "        \"\"\"\n",
    "\n",
    "        title = model_name + \" Loss Curve\"\n",
    "        filename = model_name + \"_loss_curve.png\"\n",
    "\n",
    "        # Moving tensors to CPU:\n",
    "        for i, values in enumerate(zip(self.training_losses, self.val_losses)):\n",
    "            self.training_losses[i] = values[0]\n",
    "            self.val_losses[i] = values[1]\n",
    "\n",
    "        # Plotting training and validation accuracy values:\n",
    "        plt.plot(self.training_losses, label='Training Loss')\n",
    "        plt.plot(self.val_losses, label='Validation Loss')\n",
    "        plt.xlabel('Epochs')\n",
    "        plt.ylabel('Loss')\n",
    "        plt.title(title)\n",
    "        plt.legend(loc='best')\n",
    "        plt.savefig(filename, dpi=600)\n",
    "        plt.show()\n",
    "\n",
    "\n",
    "    def plot_map_curve(self, model_name):\n",
    "        \"\"\"\n",
    "        This function plots the map curve from the most recent training period of this model manager.\n",
    "        \n",
    "        Inputs:\n",
    "        model_name (str) - Name of the model\n",
    "        \"\"\"\n",
    "\n",
    "        title = model_name + \" mAP Curve\"\n",
    "        filename = model_name + \"_map_curve.png\"\n",
    "\n",
    "        # Moving tensors to CPU:\n",
    "        for i, values in enumerate(zip(self.training_maps, self.val_maps)):\n",
    "            self.training_maps[i] = values[0]\n",
    "            self.val_maps[i] = values[1]\n",
    "\n",
    "        # Plotting training and validation accuracy values:\n",
    "        plt.plot(self.training_maps, label='Training mAP')\n",
    "        plt.plot(self.val_maps, label='Validation mAP')\n",
    "        plt.xlabel('Epochs')\n",
    "        plt.ylabel('Mean Average Precision')\n",
    "        plt.title(title)\n",
    "        plt.legend(loc='best')\n",
    "        plt.savefig(filename, dpi=600)\n",
    "        plt.show()\n",
    "\n",
    "\n",
    "    def plot_map50_curve(self, model_name):\n",
    "        \"\"\"\n",
    "        This function plots the map50 curve from the most recent training period of this model manager.\n",
    "        \n",
    "        Inputs:\n",
    "        model_name (str) - Name of the model\n",
    "        \"\"\"\n",
    "\n",
    "        title = model_name + \" mAP50 Curve\"\n",
    "        filename = model_name + \"_map50_curve.png\"\n",
    "\n",
    "        # Moving tensors to CPU:\n",
    "        for i, values in enumerate(zip(self.training_maps_50, self.val_maps_50)):\n",
    "            self.training_maps_50[i] = values[0]\n",
    "            self.val_maps_50[i]=values[1]\n",
    "\n",
    "        # Plotting training and validation accuracy values:\n",
    "        plt.plot(self.training_maps_50, label='Training mAP50')\n",
    "        plt.plot(self.val_maps_50, label='Validation mAP50')\n",
    "        plt.xlabel('Epochs')\n",
    "        plt.ylabel('Mean Average Precision 50')\n",
    "        plt.title(title)\n",
    "        plt.legend(loc='best')\n",
    "        plt.savefig(filename, dpi=600)\n",
    "        plt.show()\n",
    "\n",
    "\n",
    "    def save(self, filepath):\n",
    "        if self.best_model_state_dict is None:\n",
    "            torch.save(self.model.state_dict(), filepath)\n",
    "        else:\n",
    "            torch.save(self.best_model_state_dict, filepath)\n",
    "\n",
    "    def load(self, filepath):\n",
    "        self.model.load_state_dict(torch.load(filepath, weights_only=True))\n",
    "\n",
    "    def prompt_llm(self, model_preds, prompt):\n",
    "        \"\"\"prompts a llm for food nutrition facts, health benefits, and recipes\n",
    "\n",
    "        Args:\n",
    "            model_preds (string): model prediciton. the food label\n",
    "\n",
    "        Returns:\n",
    "            str: llm's response\n",
    "        \"\"\"\n",
    "\n",
    "        tokenizer = AutoTokenizer.from_pretrained(\"gpt3.5-turbo\")\n",
    "        llm = AutoModelForCausalLM.from_pretrained(\"gpt3.5-turbo\")\n",
    "        \n",
    "        prompt = f\"{prompt} {model_preds}\"\n",
    "        \n",
    "        inputs = tokenizer(prompt, return_tensors=\"pt\")\n",
    "        outputs = llm.generate(**inputs, max_length=500)\n",
    "        response = tokenizer.decode(outputs[0], skip_special_tokens=True)\n",
    "\n",
    "        print(f\"Detected Food Item: {detected_items}\")\n",
    "        print(f\"Requested Data:\\n{response}\")\n",
    "        return response"
   ]
  },
  {
   "cell_type": "code",
   "execution_count": 7,
   "id": "36942380-5c19-4213-8d50-d40dec1a1aea",
   "metadata": {},
   "outputs": [
    {
     "name": "stderr",
     "output_type": "stream",
     "text": [
      "2024-12-08  07:52:32 INFO Loading pretrained weights from Hugging Face hub (timm/resnet50.a1_in1k)\n",
      "2024-12-08  07:52:32 INFO [timm/resnet50.a1_in1k] Safe alternative available for 'pytorch_model.bin' (as 'model.safetensors'). Loading weights using safetensors.\n",
      "2024-12-08  07:52:32 INFO Missing keys (fc.weight, fc.bias) discovered while loading pretrained weights. This is expected if model is being adapted.\n",
      "Some weights of the model checkpoint at facebook/detr-resnet-50 were not used when initializing DetrForObjectDetection: ['model.backbone.conv_encoder.model.layer1.0.downsample.1.num_batches_tracked', 'model.backbone.conv_encoder.model.layer2.0.downsample.1.num_batches_tracked', 'model.backbone.conv_encoder.model.layer3.0.downsample.1.num_batches_tracked', 'model.backbone.conv_encoder.model.layer4.0.downsample.1.num_batches_tracked']\n",
      "- This IS expected if you are initializing DetrForObjectDetection from the checkpoint of a model trained on another task or with another architecture (e.g. initializing a BertForSequenceClassification model from a BertForPreTraining model).\n",
      "- This IS NOT expected if you are initializing DetrForObjectDetection from the checkpoint of a model that you expect to be exactly identical (initializing a BertForSequenceClassification model from a BertForSequenceClassification model).\n"
     ]
    }
   ],
   "source": [
    "# Loading DETR Resnet-50 Model from HuggingFace:\n",
    "\n",
    "num_labels = len(detr_processor.classes) + 1 # Adding 1 for the no-object class\n",
    "\n",
    "# detr_model = DetrForObjectDetection.from_pretrained(\"facebook/detr-resnet-50\", num_labels=num_labels, num_queries=25, ignore_mismatched_sizes=True)\n",
    "detr_model = DetrForObjectDetection.from_pretrained(\"facebook/detr-resnet-50\")\n",
    "\n",
    "# Modifying classifier layer:\n",
    "detr_model.model.class_head = nn.Linear(detr_model.config.d_model, num_labels)\n",
    "\n",
    "# Freezing backbone architecture:\n",
    "for param in detr_model.model.backbone.parameters():\n",
    "    param.requires_grad = False\n",
    "\n",
    "# Setting the weight for no objects equal to the following:\n",
    "detr_model.config.no_object_weight = 0.1\n",
    "\n",
    "detr_im_processor = DetrImageProcessor(\"facebook/detr-resnet-50\")\n",
    "\n",
    "optimizer = optim.AdamW(detr_model.parameters(), lr=LEARNING_RATE)\n",
    "\n",
    "scheduler = None\n",
    "# scheduler = optim.lr_scheduler.CosineAnnealingLR(optimizer, T_max=50)\n",
    "# scheduler = optim.lr_scheduler.StepLR(optimizer, step_size=10, gamma=0.1)\n",
    "\n",
    "\n",
    "detr_wrapper = DETRModelManager(model=detr_model, im_processor=detr_im_processor, optimizer=optimizer, scheduler=scheduler, device=device)"
   ]
  },
  {
   "cell_type": "code",
   "execution_count": 8,
   "id": "f9084c28-fc88-4b7f-8a53-9af341b046a0",
   "metadata": {},
   "outputs": [
    {
     "name": "stderr",
     "output_type": "stream",
     "text": [
      "  0%|          | 0/50 [00:00<?, ?it/s]"
     ]
    },
    {
     "name": "stdout",
     "output_type": "stream",
     "text": [
      "Outputs From Last Batch: {'loss_ce': tensor(1.5340, device='cuda:0', grad_fn=<NllLoss2DBackward0>), 'loss_bbox': tensor(0.1075, device='cuda:0', grad_fn=<DivBackward0>), 'loss_giou': tensor(0.6491, device='cuda:0', grad_fn=<DivBackward0>), 'cardinality_error': tensor(3.6667, device='cuda:0')}\n",
      "Epoch 1 Average Loss: 3.766998529434204\n",
      "Epoch 1 Mean Average Precision: 0.0, 0.0\n"
     ]
    },
    {
     "name": "stderr",
     "output_type": "stream",
     "text": [
      "  2%|▏         | 1/50 [00:44<36:18, 44.45s/it]"
     ]
    },
    {
     "name": "stdout",
     "output_type": "stream",
     "text": [
      "Validation Loss: 3.0608460903167725\n",
      "Validation Mean Average Precision: 0.0, 0.0\n",
      "Outputs From Last Batch: {'loss_ce': tensor(0.9349, device='cuda:0', grad_fn=<NllLoss2DBackward0>), 'loss_bbox': tensor(0.0671, device='cuda:0', grad_fn=<DivBackward0>), 'loss_giou': tensor(0.4043, device='cuda:0', grad_fn=<DivBackward0>), 'cardinality_error': tensor(1.3333, device='cuda:0')}\n",
      "Epoch 2 Average Loss: 2.8270769119262695\n",
      "Epoch 2 Mean Average Precision: 0.0, 0.0\n"
     ]
    },
    {
     "name": "stderr",
     "output_type": "stream",
     "text": [
      "  4%|▍         | 2/50 [01:28<35:31, 44.41s/it]"
     ]
    },
    {
     "name": "stdout",
     "output_type": "stream",
     "text": [
      "Validation Loss: 2.792982339859009\n",
      "Validation Mean Average Precision: 0.0, 0.0\n",
      "Outputs From Last Batch: {'loss_ce': tensor(0.7553, device='cuda:0', grad_fn=<NllLoss2DBackward0>), 'loss_bbox': tensor(0.0804, device='cuda:0', grad_fn=<DivBackward0>), 'loss_giou': tensor(0.2895, device='cuda:0', grad_fn=<DivBackward0>), 'cardinality_error': tensor(1.1667, device='cuda:0')}\n",
      "Epoch 3 Average Loss: 2.586874008178711\n",
      "Epoch 3 Mean Average Precision: 0.0, 0.0\n"
     ]
    },
    {
     "name": "stderr",
     "output_type": "stream",
     "text": [
      "  6%|▌         | 3/50 [02:12<34:21, 43.86s/it]"
     ]
    },
    {
     "name": "stdout",
     "output_type": "stream",
     "text": [
      "Validation Loss: 2.5968544483184814\n",
      "Validation Mean Average Precision: 0.0, 0.0\n",
      "Outputs From Last Batch: {'loss_ce': tensor(0.8956, device='cuda:0', grad_fn=<NllLoss2DBackward0>), 'loss_bbox': tensor(0.0724, device='cuda:0', grad_fn=<DivBackward0>), 'loss_giou': tensor(0.2702, device='cuda:0', grad_fn=<DivBackward0>), 'cardinality_error': tensor(1.1667, device='cuda:0')}\n",
      "Epoch 4 Average Loss: 2.459812641143799\n",
      "Epoch 4 Mean Average Precision: 0.0, 0.0\n"
     ]
    },
    {
     "name": "stderr",
     "output_type": "stream",
     "text": [
      "  8%|▊         | 4/50 [02:56<33:45, 44.04s/it]"
     ]
    },
    {
     "name": "stdout",
     "output_type": "stream",
     "text": [
      "Validation Loss: 2.4368650913238525\n",
      "Validation Mean Average Precision: 0.0, 0.0\n",
      "Outputs From Last Batch: {'loss_ce': tensor(0.6864, device='cuda:0', grad_fn=<NllLoss2DBackward0>), 'loss_bbox': tensor(0.1566, device='cuda:0', grad_fn=<DivBackward0>), 'loss_giou': tensor(0.5264, device='cuda:0', grad_fn=<DivBackward0>), 'cardinality_error': tensor(1.1667, device='cuda:0')}\n",
      "Epoch 5 Average Loss: 2.339627504348755\n",
      "Epoch 5 Mean Average Precision: 0.0, 0.0\n"
     ]
    },
    {
     "name": "stderr",
     "output_type": "stream",
     "text": [
      " 10%|█         | 5/50 [03:41<33:12, 44.27s/it]"
     ]
    },
    {
     "name": "stdout",
     "output_type": "stream",
     "text": [
      "Validation Loss: 2.3712410926818848\n",
      "Validation Mean Average Precision: 0.0, 0.0\n",
      "Outputs From Last Batch: {'loss_ce': tensor(0.6434, device='cuda:0', grad_fn=<NllLoss2DBackward0>), 'loss_bbox': tensor(0.0641, device='cuda:0', grad_fn=<DivBackward0>), 'loss_giou': tensor(0.3620, device='cuda:0', grad_fn=<DivBackward0>), 'cardinality_error': tensor(1., device='cuda:0')}\n",
      "Epoch 6 Average Loss: 2.2591562271118164\n",
      "Epoch 6 Mean Average Precision: 0.0, 0.0\n"
     ]
    },
    {
     "name": "stderr",
     "output_type": "stream",
     "text": [
      " 12%|█▏        | 6/50 [04:26<32:50, 44.78s/it]"
     ]
    },
    {
     "name": "stdout",
     "output_type": "stream",
     "text": [
      "Validation Loss: 2.4323782920837402\n",
      "Validation Mean Average Precision: 0.0, 0.0\n",
      "Outputs From Last Batch: {'loss_ce': tensor(0.8136, device='cuda:0', grad_fn=<NllLoss2DBackward0>), 'loss_bbox': tensor(0.0822, device='cuda:0', grad_fn=<DivBackward0>), 'loss_giou': tensor(0.3915, device='cuda:0', grad_fn=<DivBackward0>), 'cardinality_error': tensor(1.1667, device='cuda:0')}\n",
      "Epoch 7 Average Loss: 2.180438995361328\n",
      "Epoch 7 Mean Average Precision: 0.0, 0.0\n"
     ]
    },
    {
     "name": "stderr",
     "output_type": "stream",
     "text": [
      " 14%|█▍        | 7/50 [05:11<32:03, 44.73s/it]"
     ]
    },
    {
     "name": "stdout",
     "output_type": "stream",
     "text": [
      "Validation Loss: 2.267472267150879\n",
      "Validation Mean Average Precision: 0.0, 0.0\n",
      "Outputs From Last Batch: {'loss_ce': tensor(0.6424, device='cuda:0', grad_fn=<NllLoss2DBackward0>), 'loss_bbox': tensor(0.0583, device='cuda:0', grad_fn=<DivBackward0>), 'loss_giou': tensor(0.3516, device='cuda:0', grad_fn=<DivBackward0>), 'cardinality_error': tensor(1., device='cuda:0')}\n",
      "Epoch 8 Average Loss: 2.0959858894348145\n",
      "Epoch 8 Mean Average Precision: 0.0, 0.0\n"
     ]
    },
    {
     "name": "stderr",
     "output_type": "stream",
     "text": [
      " 16%|█▌        | 8/50 [05:58<31:47, 45.42s/it]"
     ]
    },
    {
     "name": "stdout",
     "output_type": "stream",
     "text": [
      "Validation Loss: 2.24737286567688\n",
      "Validation Mean Average Precision: 0.0, 0.0\n",
      "Outputs From Last Batch: {'loss_ce': tensor(0.6255, device='cuda:0', grad_fn=<NllLoss2DBackward0>), 'loss_bbox': tensor(0.0660, device='cuda:0', grad_fn=<DivBackward0>), 'loss_giou': tensor(0.3199, device='cuda:0', grad_fn=<DivBackward0>), 'cardinality_error': tensor(1.1667, device='cuda:0')}\n",
      "Epoch 9 Average Loss: 2.1051177978515625\n",
      "Epoch 9 Mean Average Precision: 0.0, 0.0\n"
     ]
    },
    {
     "name": "stderr",
     "output_type": "stream",
     "text": [
      " 18%|█▊        | 9/50 [06:43<31:00, 45.39s/it]"
     ]
    },
    {
     "name": "stdout",
     "output_type": "stream",
     "text": [
      "Validation Loss: 2.2846202850341797\n",
      "Validation Mean Average Precision: 0.0, 0.0\n",
      "Outputs From Last Batch: {'loss_ce': tensor(0.6953, device='cuda:0', grad_fn=<NllLoss2DBackward0>), 'loss_bbox': tensor(0.0597, device='cuda:0', grad_fn=<DivBackward0>), 'loss_giou': tensor(0.4166, device='cuda:0', grad_fn=<DivBackward0>), 'cardinality_error': tensor(1.1667, device='cuda:0')}\n",
      "Epoch 10 Average Loss: 2.1330454349517822\n",
      "Epoch 10 Mean Average Precision: 0.0, 0.0\n"
     ]
    },
    {
     "name": "stderr",
     "output_type": "stream",
     "text": [
      " 20%|██        | 10/50 [07:29<30:20, 45.50s/it]"
     ]
    },
    {
     "name": "stdout",
     "output_type": "stream",
     "text": [
      "Validation Loss: 2.2393805980682373\n",
      "Validation Mean Average Precision: 0.0, 0.0\n",
      "Outputs From Last Batch: {'loss_ce': tensor(1.1017, device='cuda:0', grad_fn=<NllLoss2DBackward0>), 'loss_bbox': tensor(0.0700, device='cuda:0', grad_fn=<DivBackward0>), 'loss_giou': tensor(0.3351, device='cuda:0', grad_fn=<DivBackward0>), 'cardinality_error': tensor(1.6667, device='cuda:0')}\n",
      "Epoch 11 Average Loss: 2.025651693344116\n",
      "Epoch 11 Mean Average Precision: 0.0, 0.0\n"
     ]
    },
    {
     "name": "stderr",
     "output_type": "stream",
     "text": [
      " 22%|██▏       | 11/50 [08:16<29:58, 46.12s/it]"
     ]
    },
    {
     "name": "stdout",
     "output_type": "stream",
     "text": [
      "Validation Loss: 2.256230115890503\n",
      "Validation Mean Average Precision: 0.0, 0.0\n",
      "Outputs From Last Batch: {'loss_ce': tensor(0.8711, device='cuda:0', grad_fn=<NllLoss2DBackward0>), 'loss_bbox': tensor(0.0398, device='cuda:0', grad_fn=<DivBackward0>), 'loss_giou': tensor(0.2571, device='cuda:0', grad_fn=<DivBackward0>), 'cardinality_error': tensor(1.1667, device='cuda:0')}\n",
      "Epoch 12 Average Loss: 1.954215407371521\n",
      "Epoch 12 Mean Average Precision: 0.0, 0.0\n"
     ]
    },
    {
     "name": "stderr",
     "output_type": "stream",
     "text": [
      " 24%|██▍       | 12/50 [09:03<29:20, 46.34s/it]"
     ]
    },
    {
     "name": "stdout",
     "output_type": "stream",
     "text": [
      "Validation Loss: 2.1766324043273926\n",
      "Validation Mean Average Precision: 0.0, 0.0\n",
      "Outputs From Last Batch: {'loss_ce': tensor(0.9111, device='cuda:0', grad_fn=<NllLoss2DBackward0>), 'loss_bbox': tensor(0.0941, device='cuda:0', grad_fn=<DivBackward0>), 'loss_giou': tensor(0.3415, device='cuda:0', grad_fn=<DivBackward0>), 'cardinality_error': tensor(1.5000, device='cuda:0')}\n",
      "Epoch 13 Average Loss: 1.9133613109588623\n",
      "Epoch 13 Mean Average Precision: 0.0, 0.0\n"
     ]
    },
    {
     "name": "stderr",
     "output_type": "stream",
     "text": [
      " 26%|██▌       | 13/50 [09:50<28:34, 46.33s/it]"
     ]
    },
    {
     "name": "stdout",
     "output_type": "stream",
     "text": [
      "Validation Loss: 2.0806243419647217\n",
      "Validation Mean Average Precision: 0.0, 0.0\n",
      "Outputs From Last Batch: {'loss_ce': tensor(0.6246, device='cuda:0', grad_fn=<NllLoss2DBackward0>), 'loss_bbox': tensor(0.0657, device='cuda:0', grad_fn=<DivBackward0>), 'loss_giou': tensor(0.2785, device='cuda:0', grad_fn=<DivBackward0>), 'cardinality_error': tensor(1.3333, device='cuda:0')}\n",
      "Epoch 14 Average Loss: 1.869969367980957\n",
      "Epoch 14 Mean Average Precision: 0.0, 0.0\n"
     ]
    },
    {
     "name": "stderr",
     "output_type": "stream",
     "text": [
      " 28%|██▊       | 14/50 [10:35<27:34, 45.96s/it]"
     ]
    },
    {
     "name": "stdout",
     "output_type": "stream",
     "text": [
      "Validation Loss: 2.131934642791748\n",
      "Validation Mean Average Precision: 0.0, 0.0\n",
      "Outputs From Last Batch: {'loss_ce': tensor(0.6225, device='cuda:0', grad_fn=<NllLoss2DBackward0>), 'loss_bbox': tensor(0.0417, device='cuda:0', grad_fn=<DivBackward0>), 'loss_giou': tensor(0.2371, device='cuda:0', grad_fn=<DivBackward0>), 'cardinality_error': tensor(1.3333, device='cuda:0')}\n",
      "Epoch 15 Average Loss: 1.8074965476989746\n",
      "Epoch 15 Mean Average Precision: 0.0, 0.0\n"
     ]
    },
    {
     "name": "stderr",
     "output_type": "stream",
     "text": [
      " 30%|███       | 15/50 [11:23<27:14, 46.70s/it]"
     ]
    },
    {
     "name": "stdout",
     "output_type": "stream",
     "text": [
      "Validation Loss: 2.0917611122131348\n",
      "Validation Mean Average Precision: 0.0, 0.0\n",
      "Outputs From Last Batch: {'loss_ce': tensor(0.6568, device='cuda:0', grad_fn=<NllLoss2DBackward0>), 'loss_bbox': tensor(0.0339, device='cuda:0', grad_fn=<DivBackward0>), 'loss_giou': tensor(0.1596, device='cuda:0', grad_fn=<DivBackward0>), 'cardinality_error': tensor(4.8333, device='cuda:0')}\n",
      "Epoch 16 Average Loss: 1.838889479637146\n",
      "Epoch 16 Mean Average Precision: 0.0, 0.0\n"
     ]
    },
    {
     "name": "stderr",
     "output_type": "stream",
     "text": [
      " 32%|███▏      | 16/50 [12:11<26:36, 46.96s/it]"
     ]
    },
    {
     "name": "stdout",
     "output_type": "stream",
     "text": [
      "Validation Loss: 2.2006466388702393\n",
      "Validation Mean Average Precision: 0.0, 0.0\n",
      "Outputs From Last Batch: {'loss_ce': tensor(1.0210, device='cuda:0', grad_fn=<NllLoss2DBackward0>), 'loss_bbox': tensor(0.0850, device='cuda:0', grad_fn=<DivBackward0>), 'loss_giou': tensor(0.3879, device='cuda:0', grad_fn=<DivBackward0>), 'cardinality_error': tensor(2.3333, device='cuda:0')}\n",
      "Epoch 17 Average Loss: 1.8252192735671997\n",
      "Epoch 17 Mean Average Precision: 0.0, 0.0\n"
     ]
    },
    {
     "name": "stderr",
     "output_type": "stream",
     "text": [
      " 34%|███▍      | 17/50 [12:58<25:57, 47.19s/it]"
     ]
    },
    {
     "name": "stdout",
     "output_type": "stream",
     "text": [
      "Validation Loss: 2.1033425331115723\n",
      "Validation Mean Average Precision: 0.0, 0.0\n",
      "Outputs From Last Batch: {'loss_ce': tensor(0.5092, device='cuda:0', grad_fn=<NllLoss2DBackward0>), 'loss_bbox': tensor(0.2253, device='cuda:0', grad_fn=<DivBackward0>), 'loss_giou': tensor(0.3810, device='cuda:0', grad_fn=<DivBackward0>), 'cardinality_error': tensor(1.1667, device='cuda:0')}\n",
      "Epoch 18 Average Loss: 1.7542632818222046\n",
      "Epoch 18 Mean Average Precision: 0.0, 0.0\n"
     ]
    },
    {
     "name": "stderr",
     "output_type": "stream",
     "text": [
      " 36%|███▌      | 18/50 [13:49<25:44, 48.28s/it]"
     ]
    },
    {
     "name": "stdout",
     "output_type": "stream",
     "text": [
      "Validation Loss: 2.1898419857025146\n",
      "Validation Mean Average Precision: 0.0, 0.0\n",
      "Outputs From Last Batch: {'loss_ce': tensor(0.5637, device='cuda:0', grad_fn=<NllLoss2DBackward0>), 'loss_bbox': tensor(0.0559, device='cuda:0', grad_fn=<DivBackward0>), 'loss_giou': tensor(0.2795, device='cuda:0', grad_fn=<DivBackward0>), 'cardinality_error': tensor(1.5000, device='cuda:0')}\n",
      "Epoch 19 Average Loss: 1.7562735080718994\n",
      "Epoch 19 Mean Average Precision: 0.0, 0.0\n"
     ]
    },
    {
     "name": "stderr",
     "output_type": "stream",
     "text": [
      " 38%|███▊      | 19/50 [14:34<24:23, 47.21s/it]"
     ]
    },
    {
     "name": "stdout",
     "output_type": "stream",
     "text": [
      "Validation Loss: 2.0500028133392334\n",
      "Validation Mean Average Precision: 0.0, 0.0\n",
      "Outputs From Last Batch: {'loss_ce': tensor(0.7841, device='cuda:0', grad_fn=<NllLoss2DBackward0>), 'loss_bbox': tensor(0.0773, device='cuda:0', grad_fn=<DivBackward0>), 'loss_giou': tensor(0.4941, device='cuda:0', grad_fn=<DivBackward0>), 'cardinality_error': tensor(1.6667, device='cuda:0')}\n",
      "Epoch 20 Average Loss: 1.7583788633346558\n",
      "Epoch 20 Mean Average Precision: 0.0, 0.0\n"
     ]
    },
    {
     "name": "stderr",
     "output_type": "stream",
     "text": [
      " 40%|████      | 20/50 [15:19<23:17, 46.60s/it]"
     ]
    },
    {
     "name": "stdout",
     "output_type": "stream",
     "text": [
      "Validation Loss: 2.0080950260162354\n",
      "Validation Mean Average Precision: 0.0, 0.0\n",
      "Outputs From Last Batch: {'loss_ce': tensor(0.7619, device='cuda:0', grad_fn=<NllLoss2DBackward0>), 'loss_bbox': tensor(0.0624, device='cuda:0', grad_fn=<DivBackward0>), 'loss_giou': tensor(0.2882, device='cuda:0', grad_fn=<DivBackward0>), 'cardinality_error': tensor(1.3333, device='cuda:0')}\n",
      "Epoch 21 Average Loss: 1.745186686515808\n",
      "Epoch 21 Mean Average Precision: 0.0, 0.0\n"
     ]
    },
    {
     "name": "stderr",
     "output_type": "stream",
     "text": [
      " 42%|████▏     | 21/50 [16:05<22:28, 46.50s/it]"
     ]
    },
    {
     "name": "stdout",
     "output_type": "stream",
     "text": [
      "Validation Loss: 2.105754852294922\n",
      "Validation Mean Average Precision: 0.0, 0.0\n",
      "Outputs From Last Batch: {'loss_ce': tensor(0.5195, device='cuda:0', grad_fn=<NllLoss2DBackward0>), 'loss_bbox': tensor(0.0547, device='cuda:0', grad_fn=<DivBackward0>), 'loss_giou': tensor(0.2332, device='cuda:0', grad_fn=<DivBackward0>), 'cardinality_error': tensor(1.1667, device='cuda:0')}\n",
      "Epoch 22 Average Loss: 1.7103482484817505\n",
      "Epoch 22 Mean Average Precision: 0.0, 0.0\n"
     ]
    },
    {
     "name": "stderr",
     "output_type": "stream",
     "text": [
      " 44%|████▍     | 22/50 [16:51<21:38, 46.36s/it]"
     ]
    },
    {
     "name": "stdout",
     "output_type": "stream",
     "text": [
      "Validation Loss: 2.1162033081054688\n",
      "Validation Mean Average Precision: 0.0, 0.0\n",
      "Outputs From Last Batch: {'loss_ce': tensor(0.9188, device='cuda:0', grad_fn=<NllLoss2DBackward0>), 'loss_bbox': tensor(0.1064, device='cuda:0', grad_fn=<DivBackward0>), 'loss_giou': tensor(0.4450, device='cuda:0', grad_fn=<DivBackward0>), 'cardinality_error': tensor(1.8333, device='cuda:0')}\n",
      "Epoch 23 Average Loss: 1.7175631523132324\n",
      "Epoch 23 Mean Average Precision: 0.0, 0.0\n"
     ]
    },
    {
     "name": "stderr",
     "output_type": "stream",
     "text": [
      " 46%|████▌     | 23/50 [17:35<20:33, 45.68s/it]"
     ]
    },
    {
     "name": "stdout",
     "output_type": "stream",
     "text": [
      "Validation Loss: 2.046978235244751\n",
      "Validation Mean Average Precision: 0.0, 0.0\n",
      "Outputs From Last Batch: {'loss_ce': tensor(0.6301, device='cuda:0', grad_fn=<NllLoss2DBackward0>), 'loss_bbox': tensor(0.0734, device='cuda:0', grad_fn=<DivBackward0>), 'loss_giou': tensor(0.1912, device='cuda:0', grad_fn=<DivBackward0>), 'cardinality_error': tensor(1., device='cuda:0')}\n",
      "Epoch 24 Average Loss: 1.6298218965530396\n",
      "Epoch 24 Mean Average Precision: 0.0, 0.0\n"
     ]
    },
    {
     "name": "stderr",
     "output_type": "stream",
     "text": [
      " 48%|████▊     | 24/50 [18:24<20:07, 46.46s/it]"
     ]
    },
    {
     "name": "stdout",
     "output_type": "stream",
     "text": [
      "Validation Loss: 2.0110762119293213\n",
      "Validation Mean Average Precision: 0.0, 0.0\n",
      "Outputs From Last Batch: {'loss_ce': tensor(0.7888, device='cuda:0', grad_fn=<NllLoss2DBackward0>), 'loss_bbox': tensor(0.0911, device='cuda:0', grad_fn=<DivBackward0>), 'loss_giou': tensor(0.4601, device='cuda:0', grad_fn=<DivBackward0>), 'cardinality_error': tensor(1.8333, device='cuda:0')}\n",
      "Epoch 25 Average Loss: 1.7244410514831543\n",
      "Epoch 25 Mean Average Precision: 0.0, 0.0\n"
     ]
    },
    {
     "name": "stderr",
     "output_type": "stream",
     "text": [
      " 50%|█████     | 25/50 [19:12<19:34, 47.00s/it]"
     ]
    },
    {
     "name": "stdout",
     "output_type": "stream",
     "text": [
      "Validation Loss: 2.2148690223693848\n",
      "Validation Mean Average Precision: 0.0, 0.0\n",
      "Outputs From Last Batch: {'loss_ce': tensor(0.7820, device='cuda:0', grad_fn=<NllLoss2DBackward0>), 'loss_bbox': tensor(0.0870, device='cuda:0', grad_fn=<DivBackward0>), 'loss_giou': tensor(0.4198, device='cuda:0', grad_fn=<DivBackward0>), 'cardinality_error': tensor(1.5000, device='cuda:0')}\n",
      "Epoch 26 Average Loss: 1.7333935499191284\n",
      "Epoch 26 Mean Average Precision: 0.0, 0.0\n"
     ]
    },
    {
     "name": "stderr",
     "output_type": "stream",
     "text": [
      " 52%|█████▏    | 26/50 [19:57<18:34, 46.44s/it]"
     ]
    },
    {
     "name": "stdout",
     "output_type": "stream",
     "text": [
      "Validation Loss: 2.1743555068969727\n",
      "Validation Mean Average Precision: 0.0, 0.0\n",
      "Outputs From Last Batch: {'loss_ce': tensor(0.5287, device='cuda:0', grad_fn=<NllLoss2DBackward0>), 'loss_bbox': tensor(0.0504, device='cuda:0', grad_fn=<DivBackward0>), 'loss_giou': tensor(0.2023, device='cuda:0', grad_fn=<DivBackward0>), 'cardinality_error': tensor(1.5000, device='cuda:0')}\n",
      "Epoch 27 Average Loss: 1.699369192123413\n",
      "Epoch 27 Mean Average Precision: 0.0, 0.0\n"
     ]
    },
    {
     "name": "stderr",
     "output_type": "stream",
     "text": [
      " 54%|█████▍    | 27/50 [20:42<17:38, 46.02s/it]"
     ]
    },
    {
     "name": "stdout",
     "output_type": "stream",
     "text": [
      "Validation Loss: 2.035372257232666\n",
      "Validation Mean Average Precision: 0.0, 0.0\n",
      "Outputs From Last Batch: {'loss_ce': tensor(0.4869, device='cuda:0', grad_fn=<NllLoss2DBackward0>), 'loss_bbox': tensor(0.0426, device='cuda:0', grad_fn=<DivBackward0>), 'loss_giou': tensor(0.2716, device='cuda:0', grad_fn=<DivBackward0>), 'cardinality_error': tensor(1.3333, device='cuda:0')}\n",
      "Epoch 28 Average Loss: 1.6052837371826172\n",
      "Epoch 28 Mean Average Precision: 0.0, 0.0\n"
     ]
    },
    {
     "name": "stderr",
     "output_type": "stream",
     "text": [
      " 56%|█████▌    | 28/50 [21:26<16:35, 45.25s/it]"
     ]
    },
    {
     "name": "stdout",
     "output_type": "stream",
     "text": [
      "Validation Loss: 1.990046501159668\n",
      "Validation Mean Average Precision: 0.0, 0.0\n",
      "Outputs From Last Batch: {'loss_ce': tensor(0.9425, device='cuda:0', grad_fn=<NllLoss2DBackward0>), 'loss_bbox': tensor(0.0869, device='cuda:0', grad_fn=<DivBackward0>), 'loss_giou': tensor(0.3699, device='cuda:0', grad_fn=<DivBackward0>), 'cardinality_error': tensor(7.6667, device='cuda:0')}\n",
      "Epoch 29 Average Loss: 1.7507646083831787\n",
      "Epoch 29 Mean Average Precision: 0.0, 0.0\n"
     ]
    },
    {
     "name": "stderr",
     "output_type": "stream",
     "text": [
      " 58%|█████▊    | 29/50 [22:09<15:37, 44.64s/it]"
     ]
    },
    {
     "name": "stdout",
     "output_type": "stream",
     "text": [
      "Validation Loss: 2.2664618492126465\n",
      "Validation Mean Average Precision: 0.0, 0.0\n",
      "Outputs From Last Batch: {'loss_ce': tensor(0.6283, device='cuda:0', grad_fn=<NllLoss2DBackward0>), 'loss_bbox': tensor(0.0885, device='cuda:0', grad_fn=<DivBackward0>), 'loss_giou': tensor(0.4103, device='cuda:0', grad_fn=<DivBackward0>), 'cardinality_error': tensor(1.1667, device='cuda:0')}\n",
      "Epoch 30 Average Loss: 1.8115484714508057\n",
      "Epoch 30 Mean Average Precision: 0.0, 0.0\n"
     ]
    },
    {
     "name": "stderr",
     "output_type": "stream",
     "text": [
      " 60%|██████    | 30/50 [22:53<14:51, 44.57s/it]"
     ]
    },
    {
     "name": "stdout",
     "output_type": "stream",
     "text": [
      "Validation Loss: 1.9940643310546875\n",
      "Validation Mean Average Precision: 0.0, 0.0\n",
      "Outputs From Last Batch: {'loss_ce': tensor(0.5976, device='cuda:0', grad_fn=<NllLoss2DBackward0>), 'loss_bbox': tensor(0.1049, device='cuda:0', grad_fn=<DivBackward0>), 'loss_giou': tensor(0.6600, device='cuda:0', grad_fn=<DivBackward0>), 'cardinality_error': tensor(3., device='cuda:0')}\n",
      "Epoch 31 Average Loss: 1.7877341508865356\n",
      "Epoch 31 Mean Average Precision: 0.0, 0.0\n"
     ]
    },
    {
     "name": "stderr",
     "output_type": "stream",
     "text": [
      " 62%|██████▏   | 31/50 [23:39<14:11, 44.79s/it]"
     ]
    },
    {
     "name": "stdout",
     "output_type": "stream",
     "text": [
      "Validation Loss: 2.19450044631958\n",
      "Validation Mean Average Precision: 0.0, 0.0\n",
      "Outputs From Last Batch: {'loss_ce': tensor(0.4487, device='cuda:0', grad_fn=<NllLoss2DBackward0>), 'loss_bbox': tensor(0.0824, device='cuda:0', grad_fn=<DivBackward0>), 'loss_giou': tensor(0.4450, device='cuda:0', grad_fn=<DivBackward0>), 'cardinality_error': tensor(1., device='cuda:0')}\n",
      "Epoch 32 Average Loss: 1.7973114252090454\n",
      "Epoch 32 Mean Average Precision: 0.0, 0.0\n"
     ]
    },
    {
     "name": "stderr",
     "output_type": "stream",
     "text": [
      " 64%|██████▍   | 32/50 [24:24<13:30, 45.02s/it]"
     ]
    },
    {
     "name": "stdout",
     "output_type": "stream",
     "text": [
      "Validation Loss: 2.100386381149292\n",
      "Validation Mean Average Precision: 0.0, 0.0\n",
      "Outputs From Last Batch: {'loss_ce': tensor(0.5599, device='cuda:0', grad_fn=<NllLoss2DBackward0>), 'loss_bbox': tensor(0.0504, device='cuda:0', grad_fn=<DivBackward0>), 'loss_giou': tensor(0.4055, device='cuda:0', grad_fn=<DivBackward0>), 'cardinality_error': tensor(2.6667, device='cuda:0')}\n",
      "Epoch 33 Average Loss: 1.6686650514602661\n",
      "Epoch 33 Mean Average Precision: 0.0, 0.0\n"
     ]
    },
    {
     "name": "stderr",
     "output_type": "stream",
     "text": [
      " 66%|██████▌   | 33/50 [25:10<12:47, 45.16s/it]"
     ]
    },
    {
     "name": "stdout",
     "output_type": "stream",
     "text": [
      "Validation Loss: 1.9931144714355469\n",
      "Validation Mean Average Precision: 0.0, 0.0\n",
      "Outputs From Last Batch: {'loss_ce': tensor(0.7785, device='cuda:0', grad_fn=<NllLoss2DBackward0>), 'loss_bbox': tensor(0.0608, device='cuda:0', grad_fn=<DivBackward0>), 'loss_giou': tensor(0.5485, device='cuda:0', grad_fn=<DivBackward0>), 'cardinality_error': tensor(8.3333, device='cuda:0')}\n",
      "Epoch 34 Average Loss: 1.6322815418243408\n",
      "Epoch 34 Mean Average Precision: 0.0, 0.0\n"
     ]
    },
    {
     "name": "stderr",
     "output_type": "stream",
     "text": [
      " 68%|██████▊   | 34/50 [25:56<12:06, 45.41s/it]"
     ]
    },
    {
     "name": "stdout",
     "output_type": "stream",
     "text": [
      "Validation Loss: 1.957148790359497\n",
      "Validation Mean Average Precision: 0.0, 0.0\n",
      "Outputs From Last Batch: {'loss_ce': tensor(0.4239, device='cuda:0', grad_fn=<NllLoss2DBackward0>), 'loss_bbox': tensor(0.0357, device='cuda:0', grad_fn=<DivBackward0>), 'loss_giou': tensor(0.1606, device='cuda:0', grad_fn=<DivBackward0>), 'cardinality_error': tensor(1.5000, device='cuda:0')}\n",
      "Epoch 35 Average Loss: 1.5656311511993408\n",
      "Epoch 35 Mean Average Precision: 0.0, 0.0\n"
     ]
    },
    {
     "name": "stderr",
     "output_type": "stream",
     "text": [
      " 70%|███████   | 35/50 [26:41<11:23, 45.54s/it]"
     ]
    },
    {
     "name": "stdout",
     "output_type": "stream",
     "text": [
      "Validation Loss: 2.042560577392578\n",
      "Validation Mean Average Precision: 0.0, 0.0\n",
      "Outputs From Last Batch: {'loss_ce': tensor(0.5195, device='cuda:0', grad_fn=<NllLoss2DBackward0>), 'loss_bbox': tensor(0.0293, device='cuda:0', grad_fn=<DivBackward0>), 'loss_giou': tensor(0.0972, device='cuda:0', grad_fn=<DivBackward0>), 'cardinality_error': tensor(1.1667, device='cuda:0')}\n",
      "Epoch 36 Average Loss: 1.5083732604980469\n",
      "Epoch 36 Mean Average Precision: 0.0, 0.0\n"
     ]
    },
    {
     "name": "stderr",
     "output_type": "stream",
     "text": [
      " 72%|███████▏  | 36/50 [27:27<10:38, 45.61s/it]"
     ]
    },
    {
     "name": "stdout",
     "output_type": "stream",
     "text": [
      "Validation Loss: 1.9755535125732422\n",
      "Validation Mean Average Precision: 0.0, 0.0\n",
      "Outputs From Last Batch: {'loss_ce': tensor(0.5975, device='cuda:0', grad_fn=<NllLoss2DBackward0>), 'loss_bbox': tensor(0.0704, device='cuda:0', grad_fn=<DivBackward0>), 'loss_giou': tensor(0.5189, device='cuda:0', grad_fn=<DivBackward0>), 'cardinality_error': tensor(1.8333, device='cuda:0')}\n",
      "Epoch 37 Average Loss: 1.495582103729248\n",
      "Epoch 37 Mean Average Precision: 0.0, 0.0\n"
     ]
    },
    {
     "name": "stderr",
     "output_type": "stream",
     "text": [
      " 74%|███████▍  | 37/50 [28:13<09:54, 45.71s/it]"
     ]
    },
    {
     "name": "stdout",
     "output_type": "stream",
     "text": [
      "Validation Loss: 1.9346392154693604\n",
      "Validation Mean Average Precision: 0.0, 0.0\n",
      "Outputs From Last Batch: {'loss_ce': tensor(0.8460, device='cuda:0', grad_fn=<NllLoss2DBackward0>), 'loss_bbox': tensor(0.0633, device='cuda:0', grad_fn=<DivBackward0>), 'loss_giou': tensor(0.5111, device='cuda:0', grad_fn=<DivBackward0>), 'cardinality_error': tensor(10.6667, device='cuda:0')}\n",
      "Epoch 38 Average Loss: 1.50174880027771\n",
      "Epoch 38 Mean Average Precision: 0.0, 0.0\n"
     ]
    },
    {
     "name": "stderr",
     "output_type": "stream",
     "text": [
      " 76%|███████▌  | 38/50 [28:59<09:10, 45.88s/it]"
     ]
    },
    {
     "name": "stdout",
     "output_type": "stream",
     "text": [
      "Validation Loss: 2.0337185859680176\n",
      "Validation Mean Average Precision: 0.0, 0.0\n",
      "Outputs From Last Batch: {'loss_ce': tensor(0.5043, device='cuda:0', grad_fn=<NllLoss2DBackward0>), 'loss_bbox': tensor(0.0845, device='cuda:0', grad_fn=<DivBackward0>), 'loss_giou': tensor(0.2753, device='cuda:0', grad_fn=<DivBackward0>), 'cardinality_error': tensor(1.1667, device='cuda:0')}\n",
      "Epoch 39 Average Loss: 1.5807939767837524\n",
      "Epoch 39 Mean Average Precision: 0.0, 0.0\n"
     ]
    },
    {
     "name": "stderr",
     "output_type": "stream",
     "text": [
      " 78%|███████▊  | 39/50 [29:45<08:22, 45.66s/it]"
     ]
    },
    {
     "name": "stdout",
     "output_type": "stream",
     "text": [
      "Validation Loss: 2.0540730953216553\n",
      "Validation Mean Average Precision: 0.0, 0.0\n",
      "Outputs From Last Batch: {'loss_ce': tensor(0.5502, device='cuda:0', grad_fn=<NllLoss2DBackward0>), 'loss_bbox': tensor(0.0660, device='cuda:0', grad_fn=<DivBackward0>), 'loss_giou': tensor(0.4986, device='cuda:0', grad_fn=<DivBackward0>), 'cardinality_error': tensor(5.8333, device='cuda:0')}\n",
      "Epoch 40 Average Loss: 1.523519515991211\n",
      "Epoch 40 Mean Average Precision: 0.0, 0.0\n"
     ]
    },
    {
     "name": "stderr",
     "output_type": "stream",
     "text": [
      " 80%|████████  | 40/50 [30:30<07:34, 45.45s/it]"
     ]
    },
    {
     "name": "stdout",
     "output_type": "stream",
     "text": [
      "Validation Loss: 2.0315825939178467\n",
      "Validation Mean Average Precision: 0.0, 0.0\n",
      "Outputs From Last Batch: {'loss_ce': tensor(0.4277, device='cuda:0', grad_fn=<NllLoss2DBackward0>), 'loss_bbox': tensor(0.0550, device='cuda:0', grad_fn=<DivBackward0>), 'loss_giou': tensor(0.2727, device='cuda:0', grad_fn=<DivBackward0>), 'cardinality_error': tensor(1.1667, device='cuda:0')}\n",
      "Epoch 41 Average Loss: 1.5607109069824219\n",
      "Epoch 41 Mean Average Precision: 0.0, 0.0\n"
     ]
    },
    {
     "name": "stderr",
     "output_type": "stream",
     "text": [
      " 82%|████████▏ | 41/50 [31:13<06:43, 44.85s/it]"
     ]
    },
    {
     "name": "stdout",
     "output_type": "stream",
     "text": [
      "Validation Loss: 2.0987348556518555\n",
      "Validation Mean Average Precision: 0.0, 0.0\n",
      "Outputs From Last Batch: {'loss_ce': tensor(0.4997, device='cuda:0', grad_fn=<NllLoss2DBackward0>), 'loss_bbox': tensor(0.0489, device='cuda:0', grad_fn=<DivBackward0>), 'loss_giou': tensor(0.2704, device='cuda:0', grad_fn=<DivBackward0>), 'cardinality_error': tensor(1.3333, device='cuda:0')}\n",
      "Epoch 42 Average Loss: 1.5095529556274414\n",
      "Epoch 42 Mean Average Precision: 0.0, 0.0\n"
     ]
    },
    {
     "name": "stderr",
     "output_type": "stream",
     "text": [
      " 84%|████████▍ | 42/50 [31:56<05:55, 44.42s/it]"
     ]
    },
    {
     "name": "stdout",
     "output_type": "stream",
     "text": [
      "Validation Loss: 1.984413981437683\n",
      "Validation Mean Average Precision: 0.0, 0.0\n",
      "Outputs From Last Batch: {'loss_ce': tensor(0.5330, device='cuda:0', grad_fn=<NllLoss2DBackward0>), 'loss_bbox': tensor(0.0656, device='cuda:0', grad_fn=<DivBackward0>), 'loss_giou': tensor(0.2695, device='cuda:0', grad_fn=<DivBackward0>), 'cardinality_error': tensor(1.5000, device='cuda:0')}\n",
      "Epoch 43 Average Loss: 1.429391622543335\n",
      "Epoch 43 Mean Average Precision: 0.0, 0.0\n"
     ]
    },
    {
     "name": "stderr",
     "output_type": "stream",
     "text": [
      " 86%|████████▌ | 43/50 [32:40<05:08, 44.11s/it]"
     ]
    },
    {
     "name": "stdout",
     "output_type": "stream",
     "text": [
      "Validation Loss: 1.9940111637115479\n",
      "Validation Mean Average Precision: 0.0, 0.0\n",
      "Outputs From Last Batch: {'loss_ce': tensor(0.6002, device='cuda:0', grad_fn=<NllLoss2DBackward0>), 'loss_bbox': tensor(0.0542, device='cuda:0', grad_fn=<DivBackward0>), 'loss_giou': tensor(0.2082, device='cuda:0', grad_fn=<DivBackward0>), 'cardinality_error': tensor(2.8333, device='cuda:0')}\n",
      "Epoch 44 Average Loss: 1.4016554355621338\n",
      "Epoch 44 Mean Average Precision: 0.0, 0.0\n"
     ]
    },
    {
     "name": "stderr",
     "output_type": "stream",
     "text": [
      " 88%|████████▊ | 44/50 [33:23<04:23, 43.98s/it]"
     ]
    },
    {
     "name": "stdout",
     "output_type": "stream",
     "text": [
      "Validation Loss: 1.8921574354171753\n",
      "Validation Mean Average Precision: 0.0, 0.0\n",
      "Outputs From Last Batch: {'loss_ce': tensor(0.3740, device='cuda:0', grad_fn=<NllLoss2DBackward0>), 'loss_bbox': tensor(0.0876, device='cuda:0', grad_fn=<DivBackward0>), 'loss_giou': tensor(0.2868, device='cuda:0', grad_fn=<DivBackward0>), 'cardinality_error': tensor(0.8333, device='cuda:0')}\n",
      "Epoch 45 Average Loss: 1.4064639806747437\n",
      "Epoch 45 Mean Average Precision: 0.0, 0.0\n"
     ]
    },
    {
     "name": "stderr",
     "output_type": "stream",
     "text": [
      " 90%|█████████ | 45/50 [34:07<03:38, 43.78s/it]"
     ]
    },
    {
     "name": "stdout",
     "output_type": "stream",
     "text": [
      "Validation Loss: 2.0043938159942627\n",
      "Validation Mean Average Precision: 0.0, 0.0\n",
      "Outputs From Last Batch: {'loss_ce': tensor(0.3609, device='cuda:0', grad_fn=<NllLoss2DBackward0>), 'loss_bbox': tensor(0.0866, device='cuda:0', grad_fn=<DivBackward0>), 'loss_giou': tensor(0.4154, device='cuda:0', grad_fn=<DivBackward0>), 'cardinality_error': tensor(1.1667, device='cuda:0')}\n",
      "Epoch 46 Average Loss: 1.407686471939087\n",
      "Epoch 46 Mean Average Precision: 0.0, 0.0\n"
     ]
    },
    {
     "name": "stderr",
     "output_type": "stream",
     "text": [
      " 92%|█████████▏| 46/50 [34:52<02:56, 44.19s/it]"
     ]
    },
    {
     "name": "stdout",
     "output_type": "stream",
     "text": [
      "Validation Loss: 2.068373441696167\n",
      "Validation Mean Average Precision: 0.0, 0.0\n",
      "Outputs From Last Batch: {'loss_ce': tensor(0.2703, device='cuda:0', grad_fn=<NllLoss2DBackward0>), 'loss_bbox': tensor(0.0532, device='cuda:0', grad_fn=<DivBackward0>), 'loss_giou': tensor(0.3240, device='cuda:0', grad_fn=<DivBackward0>), 'cardinality_error': tensor(0.8333, device='cuda:0')}\n",
      "Epoch 47 Average Loss: 1.387830376625061\n",
      "Epoch 47 Mean Average Precision: 0.0, 0.0\n"
     ]
    },
    {
     "name": "stderr",
     "output_type": "stream",
     "text": [
      " 94%|█████████▍| 47/50 [35:37<02:13, 44.53s/it]"
     ]
    },
    {
     "name": "stdout",
     "output_type": "stream",
     "text": [
      "Validation Loss: 1.998490571975708\n",
      "Validation Mean Average Precision: 0.0, 0.0\n",
      "Outputs From Last Batch: {'loss_ce': tensor(0.4509, device='cuda:0', grad_fn=<NllLoss2DBackward0>), 'loss_bbox': tensor(0.0667, device='cuda:0', grad_fn=<DivBackward0>), 'loss_giou': tensor(0.3851, device='cuda:0', grad_fn=<DivBackward0>), 'cardinality_error': tensor(1., device='cuda:0')}\n",
      "Epoch 48 Average Loss: 1.354514479637146\n",
      "Epoch 48 Mean Average Precision: 0.0, 0.0\n"
     ]
    },
    {
     "name": "stderr",
     "output_type": "stream",
     "text": [
      " 96%|█████████▌| 48/50 [36:23<01:29, 44.75s/it]"
     ]
    },
    {
     "name": "stdout",
     "output_type": "stream",
     "text": [
      "Validation Loss: 1.9992109537124634\n",
      "Validation Mean Average Precision: 0.0, 0.0\n",
      "Outputs From Last Batch: {'loss_ce': tensor(0.4441, device='cuda:0', grad_fn=<NllLoss2DBackward0>), 'loss_bbox': tensor(0.0736, device='cuda:0', grad_fn=<DivBackward0>), 'loss_giou': tensor(0.2829, device='cuda:0', grad_fn=<DivBackward0>), 'cardinality_error': tensor(1.3333, device='cuda:0')}\n",
      "Epoch 49 Average Loss: 1.3756142854690552\n",
      "Epoch 49 Mean Average Precision: 0.0, 0.0\n"
     ]
    },
    {
     "name": "stderr",
     "output_type": "stream",
     "text": [
      " 98%|█████████▊| 49/50 [37:08<00:45, 45.07s/it]"
     ]
    },
    {
     "name": "stdout",
     "output_type": "stream",
     "text": [
      "Validation Loss: 1.9279149770736694\n",
      "Validation Mean Average Precision: 0.0, 0.0\n",
      "Outputs From Last Batch: {'loss_ce': tensor(0.4823, device='cuda:0', grad_fn=<NllLoss2DBackward0>), 'loss_bbox': tensor(0.0529, device='cuda:0', grad_fn=<DivBackward0>), 'loss_giou': tensor(0.3376, device='cuda:0', grad_fn=<DivBackward0>), 'cardinality_error': tensor(1.3333, device='cuda:0')}\n",
      "Epoch 50 Average Loss: 1.3674265146255493\n",
      "Epoch 50 Mean Average Precision: 0.0, 0.0\n"
     ]
    },
    {
     "name": "stderr",
     "output_type": "stream",
     "text": [
      "100%|██████████| 50/50 [37:53<00:00, 45.47s/it]"
     ]
    },
    {
     "name": "stdout",
     "output_type": "stream",
     "text": [
      "Validation Loss: 2.0275325775146484\n",
      "Validation Mean Average Precision: 0.0, 0.0\n"
     ]
    },
    {
     "name": "stderr",
     "output_type": "stream",
     "text": [
      "\n"
     ]
    }
   ],
   "source": [
    "# Training the model:\n",
    "detr_wrapper.train(training_data_loader=train_set, validation_data_loader=val_set, epochs=EPOCHS)"
   ]
  },
  {
   "cell_type": "code",
   "execution_count": 9,
   "id": "a24319b6-feb1-4744-85b7-4be33979e1bd",
   "metadata": {},
   "outputs": [
    {
     "data": {
      "image/png": "[encoded data removed]",
      "text/plain": [
       "<Figure size 640x480 with 1 Axes>"
      ]
     },
     "metadata": {},
     "output_type": "display_data"
    },
    {
     "data": {
      "image/png": "[encoded data removed]",
      "text/plain": [
       "<Figure size 640x480 with 1 Axes>"
      ]
     },
     "metadata": {},
     "output_type": "display_data"
    },
    {
     "data": {
      "image/png": "[encoded data removed]",
      "text/plain": [
       "<Figure size 640x480 with 1 Axes>"
      ]
     },
     "metadata": {},
     "output_type": "display_data"
    }
   ],
   "source": [
    "# Creating, saving, and displaying loss curve from training:\n",
    "detr_wrapper.plot_loss_curve(\"DERT\")\n",
    "\n",
    "# Creating, saving, and displaying mAP curve from training:\n",
    "detr_wrapper.plot_map_curve(\"DERT\")\n",
    "\n",
    "# Creating, saving, and displaying mAP50 curve from training:\n",
    "detr_wrapper.plot_map50_curve(\"DERT\")"
   ]
  },
  {
   "cell_type": "code",
   "execution_count": null,
   "id": "9268eba7",
   "metadata": {},
   "outputs": [],
   "source": []
  },
  {
   "cell_type": "code",
   "execution_count": null,
   "id": "3c5be5bb",
   "metadata": {},
   "outputs": [],
   "source": [
    "# Testing the model:\n",
    "detr_wrapper.test(test_set)"
   ]
  },
  {
   "cell_type": "code",
   "execution_count": null,
   "id": "c40d8705-c919-4e09-9b92-8e73933fce32",
   "metadata": {},
   "outputs": [],
   "source": []
  }
 ],
 "metadata": {
  "kernelspec": {
   "display_name": "conv_test",
   "language": "python",
   "name": "python3"
  },
  "language_info": {
   "codemirror_mode": {
    "name": "ipython",
    "version": 3
   },
   "file_extension": ".py",
   "mimetype": "text/x-python",
   "name": "python",
   "nbconvert_exporter": "python",
   "pygments_lexer": "ipython3",
   "version": "3.11.10"
  }
 },
 "nbformat": 4,
 "nbformat_minor": 5
}
