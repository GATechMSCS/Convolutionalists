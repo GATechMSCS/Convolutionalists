{
 "cells": [
  {
   "cell_type": "code",
   "execution_count": 11,
   "id": "a291ad56-afbb-4b3f-a5c6-fcbedfbe1009",
   "metadata": {},
   "outputs": [],
   "source": [
    "import os\n",
    "import time\n",
    "import matplotlib as plt\n",
    "import numpy as np\n",
    "\n",
    "import torch\n",
    "import torch.nn as nn\n",
    "import torch.optim as optim\n",
    "import torchvision\n",
    "from torchvision import transforms\n",
    "from torchvision.datasets import Food101\n",
    "from torch.utils.data import DataLoader\n",
    "\n",
    "\n",
    "from tqdm import tqdm, tqdm_notebook\n",
    "\n",
    "\n"
   ]
  },
  {
   "cell_type": "code",
   "execution_count": 12,
   "id": "a618b8e5-f8bc-48f8-8a38-08bb8dcfa68a",
   "metadata": {},
   "outputs": [],
   "source": [
    "### Configuration:\n",
    "\n",
    "# Directory Configuration:\n",
    "cur_dir = os.getcwd() # Current working directory\n",
    "data_dir = os.path.normpath(os.path.join(cur_dir, '..', '..', 'data')) # Directory to the data folder\n",
    "food101_dir = os.path.join(data_dir, 'food101')\n",
    "food2k_dir = os.path.join(data_dir, 'food2k')\n",
    "\n",
    "\n",
    "# Data Configuration:\n",
    "BATCH_SIZE = 64\n",
    "\n"
   ]
  },
  {
   "cell_type": "code",
   "execution_count": null,
   "id": "3268cfc4-2297-488a-ae9a-127454038211",
   "metadata": {},
   "outputs": [
    {
     "name": "stdout",
     "output_type": "stream",
     "text": [
      "Downloading https://data.vision.ee.ethz.ch/cvl/food-101.tar.gz to C:\\Users\\prave\\Documents\\CS Grad School\\CS7643\\Final Project\\Convolutionalists\\FoodforDeepThought\\data\\food101\\food-101.tar.gz\n"
     ]
    },
    {
     "data": {
      "application/vnd.jupyter.widget-view+json": {
       "model_id": "f97fba2037bd4a3594148aaee85490e2",
       "version_major": 2,
       "version_minor": 0
      },
      "text/plain": [
       "  0%|          | 0/4996278331 [00:00<?, ?it/s]"
      ]
     },
     "metadata": {},
     "output_type": "display_data"
    }
   ],
   "source": [
    "### Loading Food-101 dataset:\n",
    "\n",
    "\n",
    "# Loading the train and test splits of the Food101 datasets\n",
    "# If the dataset does not exist in local directory, then it is downloaded:\n",
    "if os.path.exists(food101_dir):\n",
    "\n",
    "    # Setting download to False:\n",
    "    food101_train = Food101(root=food101_dir, split=\"train\", download=False)\n",
    "    food101_test = Food101(root=food101_dir, split=\"test\", download=False)\n",
    "else:\n",
    "\n",
    "    # Setting download to True:\n",
    "    food101_train = Food101(root=food101_dir, split=\"train\", download=True)\n",
    "    food101_test = Food101(root=food101_dir, split=\"test\", download=True)    \n",
    "\n",
    "\n",
    "# Splitting \n",
    "\n",
    "\n",
    "\n"
   ]
  },
  {
   "cell_type": "code",
   "execution_count": null,
   "id": "b98f35ed-ae20-4a47-a3d0-a444b6cff540",
   "metadata": {},
   "outputs": [],
   "source": [
    "### Loading Food 2k dataset:\n",
    "\n",
    "\n",
    "\n",
    "\n",
    "\n"
   ]
  },
  {
   "cell_type": "code",
   "execution_count": null,
   "id": "0fd16fd7-5a7e-4771-8f2f-a0b8d48ceff4",
   "metadata": {},
   "outputs": [],
   "source": [
    "### Preprocessing datasets:\n",
    "\n",
    "\n"
   ]
  },
  {
   "cell_type": "code",
   "execution_count": 6,
   "id": "d954ce0d-a016-4724-b2fb-f602419425e7",
   "metadata": {},
   "outputs": [
    {
     "name": "stdout",
     "output_type": "stream",
     "text": [
      "Device being used: cuda\n"
     ]
    }
   ],
   "source": [
    "# Device Configuration:\n",
    "\n",
    "\n",
    "if torch.cuda.is_available():\n",
    "    device = 'cuda'\n",
    "else:\n",
    "    device = 'cpu'\n",
    "\n",
    "print(f\"Device being used: {device}\")\n"
   ]
  },
  {
   "cell_type": "code",
   "execution_count": null,
   "id": "6475a4d9-6754-4960-b471-3c0f78a5ec35",
   "metadata": {},
   "outputs": [],
   "source": [
    "### Loading Faster R-CNN Model:\n",
    "\n",
    "\n",
    "\n",
    "\n",
    "\n",
    "\n",
    "\n"
   ]
  },
  {
   "cell_type": "code",
   "execution_count": null,
   "id": "43565389-8359-470f-ab14-deb41cee182c",
   "metadata": {},
   "outputs": [],
   "source": [
    "### Loading YOLO Model:\n",
    "\n",
    "\n",
    "\n",
    "\n",
    "\n"
   ]
  },
  {
   "cell_type": "code",
   "execution_count": null,
   "id": "2c33e2f4-26de-4813-9e36-3e5715d091f0",
   "metadata": {},
   "outputs": [],
   "source": [
    "### Loading EfficientDet Model:\n",
    "\n",
    "\n",
    "\n"
   ]
  }
 ],
 "metadata": {
  "kernelspec": {
   "display_name": "Python 3 (ipykernel)",
   "language": "python",
   "name": "python3"
  },
  "language_info": {
   "codemirror_mode": {
    "name": "ipython",
    "version": 3
   },
   "file_extension": ".py",
   "mimetype": "text/x-python",
   "name": "python",
   "nbconvert_exporter": "python",
   "pygments_lexer": "ipython3",
   "version": "3.9.20"
  }
 },
 "nbformat": 4,
 "nbformat_minor": 5
}
